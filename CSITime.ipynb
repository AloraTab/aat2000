{
 "cells": [
  {
   "cell_type": "code",
   "execution_count": 1,
   "metadata": {},
   "outputs": [],
   "source": [
    "from pymatreader import read_mat\n",
    "import pandas as pd\n",
    "import numpy as np\n",
    "import scipy.io as sio"
   ]
  },
  {
   "cell_type": "code",
   "execution_count": 39,
   "metadata": {},
   "outputs": [],
   "source": [
    "def standardise(array):\n",
    "    standardise = lambda x, y, z: (x-y)/z\n",
    "    csistd = np.frompyfunc(standardise, 3, 1)\n",
    "    mean = np.mean(array)\n",
    "    std = np.std(array)\n",
    "    return csistd(array,mean,std)\n",
    "\n",
    "def segmentation(df):\n",
    "    #Window size is 256, stride is 128\n",
    "    segmented = pd.DataFrame({'Range': 'string', 'Sample': []})\n",
    "    stride = 128\n",
    "    startIndex = 0\n",
    "    lastIndex = 256\n",
    "    while(lastIndex < df.shape[0]):\n",
    "        # print('In loop {} {}'.format(lastIndex, df.shape[0]))\n",
    "        sample = df['Standardised']\n",
    "        sample = sample.iloc[startIndex:lastIndex].to_numpy()\n",
    "        index = '{}-{}'.format(startIndex, lastIndex)\n",
    "        newRow = pd.Series({'Range' : index, 'Sample' : sample})\n",
    "        segmented = pd.concat([segmented, newRow.to_frame().T], ignore_index=True)\n",
    "        startIndex += stride\n",
    "        lastIndex += stride\n",
    "    # label = df['label'].loc[lastIndex]\n",
    "    # print(label)\n",
    "    # segmented['Label'] = [label for sample in segmented['Range']]\n",
    "    # print('Done segmenting')\n",
    "    return segmented\n",
    "    \n",
    "def preprocess(df, active, steady):\n",
    "    print('In preprocessing')\n",
    "    # print('{} {}'.format(active,steady))\n",
    "    preprocessed = pd.DataFrame({'Range': '', 'Sample': [], 'Label': ''})\n",
    "    #Extracting the amplitude\n",
    "    df['CSI'] = np.abs(df['CSI'])\n",
    "    # print('Calculated amp')\n",
    "    #Using the equation from CSITime, standardize each sample\n",
    "    df['Standardised'] = [standardise(sample) for sample in df[\"CSI\"]]\n",
    "    df.drop(\"CSI\", inplace = True, axis = 1)\n",
    "    \n",
    "    #Separate the sample to the active and steady state\n",
    "    intF = df.loc[df[\"label\"] == '{}'.format(active)]\n",
    "    intS = df.loc[df[\"label\"] == '{}'.format(steady)]\n",
    "    # print(intS.head())\n",
    "    # print('Grouped')\n",
    "    segmentF = segmentation(intF)\n",
    "    segmentF['Label'] = [active for sample in segmentF['Range']]\n",
    "    segmentS = segmentation(intS)\n",
    "    segmentS['Label'] = [steady for sample in segmentS['Range']]\n",
    "    \n",
    "    # print('Segmented')\n",
    "    preprocessed = pd.concat([preprocessed, segmentF], ignore_index=True)\n",
    "    preprocessed = pd.concat([preprocessed, segmentS], ignore_index=True)\n",
    "    \n",
    "    # print('Preprocessed')\n",
    "    \n",
    "    \n",
    "    return preprocessed"
   ]
  },
  {
   "cell_type": "code",
   "execution_count": 40,
   "metadata": {},
   "outputs": [
    {
     "name": "stdout",
     "output_type": "stream",
     "text": [
      "In preprocessing\n",
      "In preprocessing\n",
      "In preprocessing\n",
      "In preprocessing\n",
      "In preprocessing\n",
      "In preprocessing\n",
      "In preprocessing\n",
      "In preprocessing\n",
      "     Range                                             Sample Label\n",
      "0    0-256  [[[[-1.1555606530164928 -1.0370904823417137 -1...    I1\n",
      "1  128-384  [[[[-0.7881556491245104 -0.38491921496522924 -...    I1\n",
      "2  256-512  [[[[-1.0722477059962134 -0.9521059014768991 -1...    I1\n",
      "3  384-640  [[[[-0.3467121707683465 -0.33774440045954907 -...    I1\n",
      "4  512-768  [[[[-0.20748885033841907 0.01253283461941942 -...    I1\n"
     ]
    }
   ],
   "source": [
    "data = {}\n",
    "subjectPair = ['S1_S47', 'S2_S22']\n",
    "final = pd.DataFrame({'Range': 'string', 'Sample': [], 'Label': ''}) \n",
    "\n",
    "for pair in subjectPair: #Iterate through each pair\n",
    "    for intera in range(1,3): #Index of interaction\n",
    "        for trial in range(1,3): #Index of trial\n",
    "            # print(('C:\\\\Users\\\\Karlj\\\\dissertation\\\\wifimod\\\\{0}\\\\I{1}\\\\{0}_I{1}_T{2}.mat'.format(pair, intera, trial)))\n",
    "            data = read_mat('C:\\\\Users\\\\Karlj\\\\dissertation\\\\wifimod\\\\{0}\\\\I{1}\\\\{0}_I{1}_T{2}.mat'.format(pair, intera, trial))\n",
    "            df = pd.DataFrame(data['Raw_Cell_Matrix'])\n",
    "            df.drop(['Nrx', 'Ntx', 'noise','agc','RSSI_a', 'RSSI_b','RSSI_c', \"timestamp_low\"], axis=1, inplace=True)\n",
    "            active = 'I{}'.format(intera)\n",
    "            preprocessed = preprocess(df, active, 'I13')\n",
    "            final = pd.concat([final, preprocessed], ignore_index=True)\n",
    "print(final.head())\n",
    "            \n",
    "            "
   ]
  },
  {
   "cell_type": "code",
   "execution_count": 42,
   "metadata": {},
   "outputs": [
    {
     "name": "stdout",
     "output_type": "stream",
     "text": [
      "['I1' 'I13' 'I2']\n"
     ]
    }
   ],
   "source": [
    "print(final['Label'].unique())"
   ]
  }
 ],
 "metadata": {
  "kernelspec": {
   "display_name": "base",
   "language": "python",
   "name": "python3"
  },
  "language_info": {
   "codemirror_mode": {
    "name": "ipython",
    "version": 3
   },
   "file_extension": ".py",
   "mimetype": "text/x-python",
   "name": "python",
   "nbconvert_exporter": "python",
   "pygments_lexer": "ipython3",
   "version": "3.8.3"
  },
  "orig_nbformat": 4,
  "vscode": {
   "interpreter": {
    "hash": "2e4c1d9fd1384eac17f2f4d20f9d9d50087b460b40d41d5d51b25b0a84e11e0f"
   }
  }
 },
 "nbformat": 4,
 "nbformat_minor": 2
}
