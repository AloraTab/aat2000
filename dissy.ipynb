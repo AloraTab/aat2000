{
  "cells": [
    {
      "cell_type": "markdown",
      "metadata": {
        "id": "view-in-github",
        "colab_type": "text"
      },
      "source": [
        "<a href=\"https://colab.research.google.com/github/AloraTab/aat2000/blob/main/dissy.ipynb\" target=\"_parent\"><img src=\"https://colab.research.google.com/assets/colab-badge.svg\" alt=\"Open In Colab\"/></a>"
      ]
    },
    {
      "cell_type": "markdown",
      "metadata": {
        "id": "18ye21aUJuyL"
      },
      "source": [
        "# Setup"
      ]
    },
    {
      "cell_type": "code",
      "execution_count": null,
      "metadata": {
        "id": "igoiIt__W5xU",
        "colab": {
          "base_uri": "https://localhost:8080/"
        },
        "outputId": "4a9a628f-4f76-478d-842a-8880abfa541d"
      },
      "outputs": [
        {
          "output_type": "stream",
          "name": "stdout",
          "text": [
            "Looking in indexes: https://pypi.org/simple, https://us-python.pkg.dev/colab-wheels/public/simple/\n",
            "Requirement already satisfied: pandas==1.5.3 in /usr/local/lib/python3.9/dist-packages (1.5.3)\n",
            "Requirement already satisfied: python-dateutil>=2.8.1 in /usr/local/lib/python3.9/dist-packages (from pandas==1.5.3) (2.8.2)\n",
            "Requirement already satisfied: pytz>=2020.1 in /usr/local/lib/python3.9/dist-packages (from pandas==1.5.3) (2022.7.1)\n",
            "Requirement already satisfied: numpy>=1.20.3 in /usr/local/lib/python3.9/dist-packages (from pandas==1.5.3) (1.22.4)\n",
            "Requirement already satisfied: six>=1.5 in /usr/local/lib/python3.9/dist-packages (from python-dateutil>=2.8.1->pandas==1.5.3) (1.16.0)\n",
            "Looking in indexes: https://pypi.org/simple, https://us-python.pkg.dev/colab-wheels/public/simple/\n",
            "Collecting tensorflow-addons==0.19.0\n",
            "  Downloading tensorflow_addons-0.19.0-cp39-cp39-manylinux_2_17_x86_64.manylinux2014_x86_64.whl (1.1 MB)\n",
            "\u001b[2K     \u001b[90m━━━━━━━━━━━━━━━━━━━━━━━━━━━━━━━━━━━━━━━━\u001b[0m \u001b[32m1.1/1.1 MB\u001b[0m \u001b[31m15.1 MB/s\u001b[0m eta \u001b[36m0:00:00\u001b[0m\n",
            "\u001b[?25hRequirement already satisfied: packaging in /usr/local/lib/python3.9/dist-packages (from tensorflow-addons==0.19.0) (23.0)\n",
            "Collecting typeguard>=2.7\n",
            "  Downloading typeguard-3.0.2-py3-none-any.whl (30 kB)\n",
            "Requirement already satisfied: typing-extensions>=4.4.0 in /usr/local/lib/python3.9/dist-packages (from typeguard>=2.7->tensorflow-addons==0.19.0) (4.5.0)\n",
            "Requirement already satisfied: importlib-metadata>=3.6 in /usr/local/lib/python3.9/dist-packages (from typeguard>=2.7->tensorflow-addons==0.19.0) (6.3.0)\n",
            "Requirement already satisfied: zipp>=0.5 in /usr/local/lib/python3.9/dist-packages (from importlib-metadata>=3.6->typeguard>=2.7->tensorflow-addons==0.19.0) (3.15.0)\n",
            "Installing collected packages: typeguard, tensorflow-addons\n",
            "Successfully installed tensorflow-addons-0.19.0 typeguard-3.0.2\n",
            "Looking in indexes: https://pypi.org/simple, https://us-python.pkg.dev/colab-wheels/public/simple/\n",
            "Collecting tensorflow==2.11.0\n",
            "  Downloading tensorflow-2.11.0-cp39-cp39-manylinux_2_17_x86_64.manylinux2014_x86_64.whl (588.3 MB)\n",
            "\u001b[2K     \u001b[90m━━━━━━━━━━━━━━━━━━━━━━━━━━━━━━━━━━━━━━━\u001b[0m \u001b[32m588.3/588.3 MB\u001b[0m \u001b[31m2.2 MB/s\u001b[0m eta \u001b[36m0:00:00\u001b[0m\n",
            "\u001b[?25hRequirement already satisfied: grpcio<2.0,>=1.24.3 in /usr/local/lib/python3.9/dist-packages (from tensorflow==2.11.0) (1.53.0)\n",
            "Requirement already satisfied: numpy>=1.20 in /usr/local/lib/python3.9/dist-packages (from tensorflow==2.11.0) (1.22.4)\n",
            "Requirement already satisfied: six>=1.12.0 in /usr/local/lib/python3.9/dist-packages (from tensorflow==2.11.0) (1.16.0)\n",
            "Requirement already satisfied: gast<=0.4.0,>=0.2.1 in /usr/local/lib/python3.9/dist-packages (from tensorflow==2.11.0) (0.4.0)\n",
            "Requirement already satisfied: tensorflow-io-gcs-filesystem>=0.23.1 in /usr/local/lib/python3.9/dist-packages (from tensorflow==2.11.0) (0.32.0)\n",
            "Requirement already satisfied: h5py>=2.9.0 in /usr/local/lib/python3.9/dist-packages (from tensorflow==2.11.0) (3.8.0)\n",
            "Requirement already satisfied: opt-einsum>=2.3.2 in /usr/local/lib/python3.9/dist-packages (from tensorflow==2.11.0) (3.3.0)\n",
            "Collecting tensorflow-estimator<2.12,>=2.11.0\n",
            "  Downloading tensorflow_estimator-2.11.0-py2.py3-none-any.whl (439 kB)\n",
            "\u001b[2K     \u001b[90m━━━━━━━━━━━━━━━━━━━━━━━━━━━━━━━━━━━━━━\u001b[0m \u001b[32m439.2/439.2 kB\u001b[0m \u001b[31m45.0 MB/s\u001b[0m eta \u001b[36m0:00:00\u001b[0m\n",
            "\u001b[?25hRequirement already satisfied: termcolor>=1.1.0 in /usr/local/lib/python3.9/dist-packages (from tensorflow==2.11.0) (2.2.0)\n",
            "Requirement already satisfied: google-pasta>=0.1.1 in /usr/local/lib/python3.9/dist-packages (from tensorflow==2.11.0) (0.2.0)\n",
            "Collecting keras<2.12,>=2.11.0\n",
            "  Downloading keras-2.11.0-py2.py3-none-any.whl (1.7 MB)\n",
            "\u001b[2K     \u001b[90m━━━━━━━━━━━━━━━━━━━━━━━━━━━━━━━━━━━━━━━━\u001b[0m \u001b[32m1.7/1.7 MB\u001b[0m \u001b[31m79.5 MB/s\u001b[0m eta \u001b[36m0:00:00\u001b[0m\n",
            "\u001b[?25hRequirement already satisfied: typing-extensions>=3.6.6 in /usr/local/lib/python3.9/dist-packages (from tensorflow==2.11.0) (4.5.0)\n",
            "Requirement already satisfied: packaging in /usr/local/lib/python3.9/dist-packages (from tensorflow==2.11.0) (23.0)\n",
            "Requirement already satisfied: setuptools in /usr/local/lib/python3.9/dist-packages (from tensorflow==2.11.0) (67.6.1)\n",
            "Requirement already satisfied: flatbuffers>=2.0 in /usr/local/lib/python3.9/dist-packages (from tensorflow==2.11.0) (23.3.3)\n",
            "Requirement already satisfied: absl-py>=1.0.0 in /usr/local/lib/python3.9/dist-packages (from tensorflow==2.11.0) (1.4.0)\n",
            "Requirement already satisfied: libclang>=13.0.0 in /usr/local/lib/python3.9/dist-packages (from tensorflow==2.11.0) (16.0.0)\n",
            "Collecting tensorboard<2.12,>=2.11\n",
            "  Downloading tensorboard-2.11.2-py3-none-any.whl (6.0 MB)\n",
            "\u001b[2K     \u001b[90m━━━━━━━━━━━━━━━━━━━━━━━━━━━━━━━━━━━━━━━━\u001b[0m \u001b[32m6.0/6.0 MB\u001b[0m \u001b[31m75.7 MB/s\u001b[0m eta \u001b[36m0:00:00\u001b[0m\n",
            "\u001b[?25hRequirement already satisfied: astunparse>=1.6.0 in /usr/local/lib/python3.9/dist-packages (from tensorflow==2.11.0) (1.6.3)\n",
            "Collecting protobuf<3.20,>=3.9.2\n",
            "  Downloading protobuf-3.19.6-cp39-cp39-manylinux_2_17_x86_64.manylinux2014_x86_64.whl (1.1 MB)\n",
            "\u001b[2K     \u001b[90m━━━━━━━━━━━━━━━━━━━━━━━━━━━━━━━━━━━━━━━━\u001b[0m \u001b[32m1.1/1.1 MB\u001b[0m \u001b[31m69.7 MB/s\u001b[0m eta \u001b[36m0:00:00\u001b[0m\n",
            "\u001b[?25hRequirement already satisfied: wrapt>=1.11.0 in /usr/local/lib/python3.9/dist-packages (from tensorflow==2.11.0) (1.14.1)\n",
            "Requirement already satisfied: wheel<1.0,>=0.23.0 in /usr/local/lib/python3.9/dist-packages (from astunparse>=1.6.0->tensorflow==2.11.0) (0.40.0)\n",
            "Collecting tensorboard-data-server<0.7.0,>=0.6.0\n",
            "  Downloading tensorboard_data_server-0.6.1-py3-none-manylinux2010_x86_64.whl (4.9 MB)\n",
            "\u001b[2K     \u001b[90m━━━━━━━━━━━━━━━━━━━━━━━━━━━━━━━━━━━━━━━━\u001b[0m \u001b[32m4.9/4.9 MB\u001b[0m \u001b[31m108.7 MB/s\u001b[0m eta \u001b[36m0:00:00\u001b[0m\n",
            "\u001b[?25hRequirement already satisfied: tensorboard-plugin-wit>=1.6.0 in /usr/local/lib/python3.9/dist-packages (from tensorboard<2.12,>=2.11->tensorflow==2.11.0) (1.8.1)\n",
            "Requirement already satisfied: google-auth<3,>=1.6.3 in /usr/local/lib/python3.9/dist-packages (from tensorboard<2.12,>=2.11->tensorflow==2.11.0) (2.17.2)\n",
            "Collecting google-auth-oauthlib<0.5,>=0.4.1\n",
            "  Downloading google_auth_oauthlib-0.4.6-py2.py3-none-any.whl (18 kB)\n",
            "Requirement already satisfied: werkzeug>=1.0.1 in /usr/local/lib/python3.9/dist-packages (from tensorboard<2.12,>=2.11->tensorflow==2.11.0) (2.2.3)\n",
            "Requirement already satisfied: requests<3,>=2.21.0 in /usr/local/lib/python3.9/dist-packages (from tensorboard<2.12,>=2.11->tensorflow==2.11.0) (2.27.1)\n",
            "Requirement already satisfied: markdown>=2.6.8 in /usr/local/lib/python3.9/dist-packages (from tensorboard<2.12,>=2.11->tensorflow==2.11.0) (3.4.3)\n",
            "Requirement already satisfied: cachetools<6.0,>=2.0.0 in /usr/local/lib/python3.9/dist-packages (from google-auth<3,>=1.6.3->tensorboard<2.12,>=2.11->tensorflow==2.11.0) (5.3.0)\n",
            "Requirement already satisfied: pyasn1-modules>=0.2.1 in /usr/local/lib/python3.9/dist-packages (from google-auth<3,>=1.6.3->tensorboard<2.12,>=2.11->tensorflow==2.11.0) (0.2.8)\n",
            "Requirement already satisfied: rsa<5,>=3.1.4 in /usr/local/lib/python3.9/dist-packages (from google-auth<3,>=1.6.3->tensorboard<2.12,>=2.11->tensorflow==2.11.0) (4.9)\n",
            "Requirement already satisfied: requests-oauthlib>=0.7.0 in /usr/local/lib/python3.9/dist-packages (from google-auth-oauthlib<0.5,>=0.4.1->tensorboard<2.12,>=2.11->tensorflow==2.11.0) (1.3.1)\n",
            "Requirement already satisfied: importlib-metadata>=4.4 in /usr/local/lib/python3.9/dist-packages (from markdown>=2.6.8->tensorboard<2.12,>=2.11->tensorflow==2.11.0) (6.3.0)\n",
            "Requirement already satisfied: idna<4,>=2.5 in /usr/local/lib/python3.9/dist-packages (from requests<3,>=2.21.0->tensorboard<2.12,>=2.11->tensorflow==2.11.0) (3.4)\n",
            "Requirement already satisfied: charset-normalizer~=2.0.0 in /usr/local/lib/python3.9/dist-packages (from requests<3,>=2.21.0->tensorboard<2.12,>=2.11->tensorflow==2.11.0) (2.0.12)\n",
            "Requirement already satisfied: certifi>=2017.4.17 in /usr/local/lib/python3.9/dist-packages (from requests<3,>=2.21.0->tensorboard<2.12,>=2.11->tensorflow==2.11.0) (2022.12.7)\n",
            "Requirement already satisfied: urllib3<1.27,>=1.21.1 in /usr/local/lib/python3.9/dist-packages (from requests<3,>=2.21.0->tensorboard<2.12,>=2.11->tensorflow==2.11.0) (1.26.15)\n",
            "Requirement already satisfied: MarkupSafe>=2.1.1 in /usr/local/lib/python3.9/dist-packages (from werkzeug>=1.0.1->tensorboard<2.12,>=2.11->tensorflow==2.11.0) (2.1.2)\n",
            "Requirement already satisfied: zipp>=0.5 in /usr/local/lib/python3.9/dist-packages (from importlib-metadata>=4.4->markdown>=2.6.8->tensorboard<2.12,>=2.11->tensorflow==2.11.0) (3.15.0)\n",
            "Requirement already satisfied: pyasn1<0.5.0,>=0.4.6 in /usr/local/lib/python3.9/dist-packages (from pyasn1-modules>=0.2.1->google-auth<3,>=1.6.3->tensorboard<2.12,>=2.11->tensorflow==2.11.0) (0.4.8)\n",
            "Requirement already satisfied: oauthlib>=3.0.0 in /usr/local/lib/python3.9/dist-packages (from requests-oauthlib>=0.7.0->google-auth-oauthlib<0.5,>=0.4.1->tensorboard<2.12,>=2.11->tensorflow==2.11.0) (3.2.2)\n",
            "Installing collected packages: tensorflow-estimator, tensorboard-data-server, protobuf, keras, google-auth-oauthlib, tensorboard, tensorflow\n",
            "  Attempting uninstall: tensorflow-estimator\n",
            "    Found existing installation: tensorflow-estimator 2.12.0\n",
            "    Uninstalling tensorflow-estimator-2.12.0:\n",
            "      Successfully uninstalled tensorflow-estimator-2.12.0\n",
            "  Attempting uninstall: tensorboard-data-server\n",
            "    Found existing installation: tensorboard-data-server 0.7.0\n",
            "    Uninstalling tensorboard-data-server-0.7.0:\n",
            "      Successfully uninstalled tensorboard-data-server-0.7.0\n",
            "  Attempting uninstall: protobuf\n",
            "    Found existing installation: protobuf 3.20.3\n",
            "    Uninstalling protobuf-3.20.3:\n",
            "      Successfully uninstalled protobuf-3.20.3\n",
            "  Attempting uninstall: keras\n",
            "    Found existing installation: keras 2.12.0\n",
            "    Uninstalling keras-2.12.0:\n",
            "      Successfully uninstalled keras-2.12.0\n",
            "  Attempting uninstall: google-auth-oauthlib\n",
            "    Found existing installation: google-auth-oauthlib 1.0.0\n",
            "    Uninstalling google-auth-oauthlib-1.0.0:\n",
            "      Successfully uninstalled google-auth-oauthlib-1.0.0\n",
            "  Attempting uninstall: tensorboard\n",
            "    Found existing installation: tensorboard 2.12.1\n",
            "    Uninstalling tensorboard-2.12.1:\n",
            "      Successfully uninstalled tensorboard-2.12.1\n",
            "  Attempting uninstall: tensorflow\n",
            "    Found existing installation: tensorflow 2.12.0\n",
            "    Uninstalling tensorflow-2.12.0:\n",
            "      Successfully uninstalled tensorflow-2.12.0\n",
            "Successfully installed google-auth-oauthlib-0.4.6 keras-2.11.0 protobuf-3.19.6 tensorboard-2.11.2 tensorboard-data-server-0.6.1 tensorflow-2.11.0 tensorflow-estimator-2.11.0\n"
          ]
        },
        {
          "output_type": "display_data",
          "data": {
            "application/vnd.colab-display-data+json": {
              "pip_warning": {
                "packages": [
                  "google"
                ]
              }
            }
          },
          "metadata": {}
        }
      ],
      "source": [
        "%pip install pandas==1.5.3\n",
        "%pip install tensorflow-addons==0.19.0\n",
        "%pip install tensorflow==2.11.0\n"
      ]
    },
    {
      "cell_type": "code",
      "execution_count": null,
      "metadata": {
        "id": "VU0wpJkMk1O1"
      },
      "outputs": [],
      "source": [
        "from tensorflow import keras\n",
        "from keras.utils import np_utils\n",
        "from sklearn.model_selection import train_test_split\n",
        "from sklearn.preprocessing import LabelEncoder\n",
        "from keras.layers.convolutional import Conv2D, MaxPooling2D, SeparableConv2D\n",
        "from keras.layers import Attention\n",
        "from sklearn.metrics import classification_report, confusion_matrix\n",
        "from tensorflow.keras.optimizers.schedules import ExponentialDecay, CosineDecayRestarts\n",
        "from keras.callbacks import Callback\n",
        "from keras import backend as K\n",
        "\n",
        "import tensorflow as tf\n",
        "import pandas as pd\n",
        "import numpy as np\n",
        "import matplotlib.pyplot as plt\n",
        "import os\n",
        "import math"
      ]
    },
    {
      "cell_type": "markdown",
      "metadata": {
        "id": "kzYmorFbOby_"
      },
      "source": [
        "## Imported Classes"
      ]
    },
    {
      "cell_type": "code",
      "execution_count": null,
      "metadata": {
        "id": "atWNoSB1xERL"
      },
      "outputs": [],
      "source": [
        "# Cosine Annealing Scheduler\n",
        "# https://github.com/4uiiurz1/keras-cosine-annealing/blob/master/cosine_annealing.py\n",
        "\n",
        "class CosineAnnealingScheduler(Callback):\n",
        "    \"\"\"Cosine annealing scheduler.\n",
        "    \"\"\"\n",
        "\n",
        "    def __init__(self, T_max, eta_max, eta_min=0, verbose=0):\n",
        "        super(CosineAnnealingScheduler, self).__init__()\n",
        "        self.T_max = T_max\n",
        "        self.eta_max = eta_max\n",
        "        self.eta_min = eta_min\n",
        "        self.verbose = verbose\n",
        "\n",
        "    def on_epoch_begin(self, epoch, logs=None):\n",
        "        if not hasattr(self.model.optimizer, 'lr'):\n",
        "            raise ValueError('Optimizer must have a \"lr\" attribute.')\n",
        "        lr = self.eta_min + (self.eta_max - self.eta_min) * (1 + math.cos(math.pi * epoch / self.T_max)) / 2\n",
        "        K.set_value(self.model.optimizer.lr, lr)\n",
        "        if self.verbose > 0:\n",
        "            print('\\nEpoch %05d: CosineAnnealingScheduler setting learning '\n",
        "                  'rate to %s.' % (epoch + 1, lr))\n",
        "\n",
        "    def on_epoch_end(self, epoch, logs=None):\n",
        "        logs = logs or {}\n",
        "        logs['lr'] = K.get_value(self.model.optimizer.lr)"
      ]
    },
    {
      "cell_type": "code",
      "execution_count": null,
      "metadata": {
        "id": "PQUyj62yLEFQ"
      },
      "outputs": [],
      "source": [
        "# LR Finder in Keras\n",
        "# https://github.com/avanwyk/tensorflow-projects/tree/master/lr-finder\n",
        "\n",
        "class LRFinder(Callback):\n",
        "    \"\"\"`Callback` that exponentially adjusts the learning rate after each training batch between `start_lr` and\n",
        "    `end_lr` for a maximum number of batches: `max_step`. The loss and learning rate are recorded at each step allowing\n",
        "    visually finding a good learning rate as per https://sgugger.github.io/how-do-you-find-a-good-learning-rate.html via\n",
        "    the `plot` method.\n",
        "    \"\"\"\n",
        "\n",
        "    def __init__(self, start_lr: float = 1e-7, end_lr: float = 10, max_steps: int = 100, smoothing=0.9):\n",
        "        super(LRFinder, self).__init__()\n",
        "        self.start_lr, self.end_lr = start_lr, end_lr\n",
        "        self.max_steps = max_steps\n",
        "        self.smoothing = smoothing\n",
        "        self.step, self.best_loss, self.avg_loss, self.lr = 0, 0, 0, 0\n",
        "        self.lrs, self.losses = [], []\n",
        "\n",
        "    def on_train_begin(self, logs=None):\n",
        "        self.step, self.best_loss, self.avg_loss, self.lr = 0, 0, 0, 0\n",
        "        self.lrs, self.losses = [], []\n",
        "\n",
        "    def on_train_batch_begin(self, batch, logs=None):\n",
        "        self.lr = self.exp_annealing(self.step)\n",
        "        tf.keras.backend.set_value(self.model.optimizer.lr, self.lr)\n",
        "\n",
        "    def on_train_batch_end(self, batch, logs=None):\n",
        "        logs = logs or {}\n",
        "        loss = logs.get('loss')\n",
        "        step = self.step\n",
        "        if loss:\n",
        "            self.avg_loss = self.smoothing * self.avg_loss + (1 - self.smoothing) * loss\n",
        "            smooth_loss = self.avg_loss / (1 - self.smoothing ** (self.step + 1))\n",
        "            self.losses.append(smooth_loss)\n",
        "            self.lrs.append(self.lr)\n",
        "\n",
        "            if step == 0 or loss < self.best_loss:\n",
        "                self.best_loss = loss\n",
        "\n",
        "            if smooth_loss > 4 * self.best_loss or tf.math.is_nan(smooth_loss):\n",
        "                self.model.stop_training = True\n",
        "\n",
        "        if step == self.max_steps:\n",
        "            self.model.stop_training = True\n",
        "\n",
        "        self.step += 1\n",
        "\n",
        "    def exp_annealing(self, step):\n",
        "        return self.start_lr * (self.end_lr / self.start_lr) ** (step * 1. / self.max_steps)\n",
        "\n",
        "    def plot(self):\n",
        "        fig, ax = plt.subplots(1, 1)\n",
        "        ax.set_ylabel('Loss')\n",
        "        ax.set_xlabel('Learning Rate (log scale)')\n",
        "        ax.set_xscale('log')\n",
        "        ax.xaxis.set_major_formatter(plt.FormatStrFormatter('%.0e'))\n",
        "        ax.plot(self.lrs, self.losses)"
      ]
    },
    {
      "cell_type": "code",
      "execution_count": null,
      "metadata": {
        "id": "Hrbft0GWglE5"
      },
      "outputs": [],
      "source": [
        "#https://github.com/nathanhubens/KerasOneCycle\n",
        "from keras.callbacks import Callback\n",
        "import keras.backend as K\n",
        "import numpy as np\n",
        "import matplotlib.pyplot as plt\n",
        "\n",
        "#####################\n",
        "##### OneCycle  #####\n",
        "#####################\n",
        "\n",
        "          \n",
        "class OneCycle(Callback):\n",
        "    \"\"\"This callback implements a cyclical learning rate and momentum policy (CLR).\n",
        "    The method cycles the learning rate between two boundaries with\n",
        "    some constant frequency, as detailed in this paper (https://arxiv.org/abs/1506.01186).\n",
        "    The amplitude of the cycle can be scaled on a per-iteration \n",
        "    For more detail, please see paper.\n",
        "    \n",
        "    # Example\n",
        "        ```python\n",
        "            clr = OneCycle(min_lr=1e-3, max_lr=1e-2,\n",
        "                      min_mtm=0.85, max_mtm=0.95,\n",
        "                      annealing=0.1,step_size=np.ceil((X_train.shape[0]*epochs/batch_size)))\n",
        "            model.fit(X_train, Y_train, callbacks=[clr])\n",
        "        ```\n",
        "    \n",
        "    # Arguments\n",
        "        min_lr: initial learning rate which is the\n",
        "            lower boundary in the cycle.\n",
        "        max_lr: upper boundary in the cycle. Functionally,\n",
        "            it defines the cycle amplitude (max_lr - min_lr).\n",
        "        step_size: number of training iterations in the cycle. To define as `np.ceil((X_train.shape[0]*epochs/batch_size))`\n",
        "        max_mtm : initial value of the momentum    \n",
        "        min_mtm : lower boundary in the cycle.\n",
        "        annealing_stage : percentage of the iterations where the lr\n",
        "                    will decrease lower than its min_lr\n",
        "        annealing_rate : in annealing phase learning rate will be decreased to annealing_rate*min_lr\n",
        "                    \n",
        "        # References\n",
        "        Original paper: https://arxiv.org/pdf/1803.09820.pdf\n",
        "        Inspired by : https://sgugger.github.io/the-1cycle-policy.html#the-1cycle-policy\n",
        "    \"\"\"\n",
        "\n",
        "    def __init__(self, min_lr=1e-5, max_lr=1e-2, min_mtm = 0.85, max_mtm=0.95, training_iterations=1000.,\n",
        "                 annealing_stage=0.1, annealing_rate=0.01):\n",
        "\n",
        "        self.min_lr = min_lr\n",
        "        self.max_lr = max_lr\n",
        "        self.min_mtm = min_mtm\n",
        "        self.max_mtm = max_mtm\n",
        "        self.annealing_stage = annealing_stage\n",
        "        self.step_size = training_iterations*(1-self.annealing_stage)/2\n",
        "        self.min_annealing_lr = annealing_rate * min_lr\n",
        "        self.iterations = 0.\n",
        "        self.training_iterations = training_iterations\n",
        "        self.history = {}\n",
        "        \n",
        "    def clr(self):\n",
        "        if self.iterations < 2*self.step_size :\n",
        "            x = np.abs(self.iterations/self.step_size - 1)\n",
        "            return self.min_lr + (self.max_lr-self.min_lr)*(1-x)\n",
        "        else:\n",
        "            x = min(1, float(self.iterations - 2 * self.step_size) / (self.training_iterations - 2 * self.step_size))\n",
        "            return self.min_lr - (self.min_lr - self.min_annealing_lr) * x\n",
        "        \n",
        "    \n",
        "    def cmtm(self):\n",
        "        if self.iterations < 2*self.step_size :   \n",
        "            x = np.abs(self.iterations/self.step_size - 1)\n",
        "        else: \n",
        "            x=1\n",
        "        return self.min_mtm + (self.max_mtm-self.min_mtm)*(x)     \n",
        "        \n",
        "    def on_train_begin(self, logs={}):\n",
        "        logs = logs or {}\n",
        "        K.set_value(self.model.optimizer.lr, self.min_lr)\n",
        "        K.set_value(self.model.optimizer.momentum, self.max_mtm)\n",
        "         \n",
        "    def on_batch_end(self, batch, logs=None):\n",
        "        \n",
        "        logs = logs or {}\n",
        "        self.iterations += 1\n",
        "    \n",
        "        self.history.setdefault('lr', []).append(K.get_value(self.model.optimizer.lr))\n",
        "        self.history.setdefault('momentum', []).append(K.get_value(self.model.optimizer.momentum))\n",
        "        self.history.setdefault('iterations', []).append(self.iterations)\n",
        "\n",
        "        for k, v in logs.items():\n",
        "            self.history.setdefault(k, []).append(v)\n",
        "        \n",
        "        K.set_value(self.model.optimizer.lr, self.clr()) \n",
        "        K.set_value(self.model.optimizer.momentum, self.cmtm())\n",
        "        \n",
        "    def plot_lr(self):\n",
        "        plt.xlabel('Training Iterations')\n",
        "        plt.ylabel('Learning Rate')\n",
        "        plt.title(\"CLR - '1 cycle' Policy\")\n",
        "        plt.plot(self.history['iterations'], self.history['lr'])\n",
        "        \n",
        "    def plot_mtm(self):\n",
        "        plt.xlabel('Training Iterations')\n",
        "        plt.ylabel('Momentum')\n",
        "        plt.title(\"CLR - '1 cycle' Policy\")\n",
        "        plt.plot(self.history['iterations'], self.history['momentum'])"
      ]
    },
    {
      "cell_type": "markdown",
      "metadata": {
        "id": "Tagc4GM2KCxT"
      },
      "source": [
        "# Preparing Dataset"
      ]
    },
    {
      "cell_type": "code",
      "execution_count": null,
      "metadata": {
        "id": "bD1v8irVVL8A",
        "colab": {
          "base_uri": "https://localhost:8080/"
        },
        "outputId": "00f5747c-e533-4a98-85bb-3c5269368e8f"
      },
      "outputs": [
        {
          "output_type": "stream",
          "name": "stdout",
          "text": [
            "Mounted at /content/gdrive\n"
          ]
        }
      ],
      "source": [
        "from google.colab import drive\n",
        "drive.mount('/content/gdrive')"
      ]
    },
    {
      "cell_type": "code",
      "execution_count": null,
      "metadata": {
        "id": "x5-JT2q-WN6F",
        "colab": {
          "base_uri": "https://localhost:8080/"
        },
        "outputId": "b5cd7577-f5d1-48d1-bb74-a97e5481f552"
      },
      "outputs": [
        {
          "output_type": "stream",
          "name": "stdout",
          "text": [
            "/content/gdrive/MyDrive/Colab Notebooks/Dataset/csi-dataset-29-7-5-more.pkl\n"
          ]
        }
      ],
      "source": [
        "PATH = '/content/gdrive/MyDrive/Colab Notebooks/Dataset'\n",
        "fileName = 'csi-dataset-29-7-5-more.pkl'\n",
        "fullPath = os.path.join(PATH, fileName)\n",
        "print(fullPath)"
      ]
    },
    {
      "cell_type": "code",
      "execution_count": null,
      "metadata": {
        "id": "qPFc8j7Sl_AE"
      },
      "outputs": [],
      "source": [
        "df = pd.read_pickle(fullPath)"
      ]
    },
    {
      "cell_type": "code",
      "execution_count": null,
      "metadata": {
        "id": "9OTolodRQ-6R"
      },
      "outputs": [],
      "source": [
        "# df = df.sample(frac=1)\n",
        "Y = df['Label'].values\n",
        "X = df['Sample'].values\n",
        "X = [[np.asarray(sample) for sample in i] for i in X]\n",
        "X = np.asarray(X).astype('float32')"
      ]
    },
    {
      "cell_type": "code",
      "execution_count": null,
      "metadata": {
        "id": "jqNzG8VaOtPD",
        "colab": {
          "base_uri": "https://localhost:8080/"
        },
        "outputId": "8fbd2b96-9463-4d6a-ef70-cbeaa501a1dd"
      },
      "outputs": [
        {
          "output_type": "execute_result",
          "data": {
            "text/plain": [
              "(10627, 256, 180)"
            ]
          },
          "metadata": {},
          "execution_count": 11
        }
      ],
      "source": [
        "X.shape"
      ]
    },
    {
      "cell_type": "code",
      "execution_count": null,
      "metadata": {
        "id": "mpSnjlqxJRGZ"
      },
      "outputs": [],
      "source": [
        "# unique, counts = np.unique(Y_test, return_counts=True)\n",
        "# print(np.asarray((unique, counts)).T)"
      ]
    },
    {
      "cell_type": "code",
      "execution_count": null,
      "metadata": {
        "id": "4nj7Tr5NLTgl"
      },
      "outputs": [],
      "source": [
        "encoder = LabelEncoder()\n",
        "encoder.fit(Y)\n",
        "encoded_Y = encoder.transform(Y)\n",
        "vectorized_y = np_utils.to_categorical(encoded_Y)"
      ]
    },
    {
      "cell_type": "code",
      "execution_count": null,
      "metadata": {
        "id": "JAFDwJkoAN7s",
        "colab": {
          "base_uri": "https://localhost:8080/"
        },
        "outputId": "e181b51a-aa69-4481-9c2e-6885bab54e1a"
      },
      "outputs": [
        {
          "output_type": "stream",
          "name": "stdout",
          "text": [
            "['I1' 'I11' 'I13' 'I3' 'I5' 'I7' 'I9']\n"
          ]
        }
      ],
      "source": [
        "classes = encoder.classes_\n",
        "print(classes)"
      ]
    },
    {
      "cell_type": "markdown",
      "source": [
        "### If not doing K-Fold\n"
      ],
      "metadata": {
        "id": "zDxyA2fdTiss"
      }
    },
    {
      "cell_type": "code",
      "execution_count": null,
      "metadata": {
        "id": "vZpv6d3uRBgV"
      },
      "outputs": [],
      "source": [
        "X_train, X_test, Y_train, Y_test = train_test_split(X,vectorized_y, test_size=0.3, random_state=40)"
      ]
    },
    {
      "cell_type": "code",
      "execution_count": null,
      "metadata": {
        "id": "UibBIJWtRCkL"
      },
      "outputs": [],
      "source": [
        "X_train = X_train.reshape((X_train.shape[0], X_train.shape[1],X_train.shape[2],1))\n",
        "X_test = X_test.reshape((X_test.shape[0], X_test.shape[1],X_test.shape[2],1))\n",
        "\n",
        "X_train = tf.convert_to_tensor(X_train)\n",
        "Y_train = tf.convert_to_tensor(Y_train)"
      ]
    },
    {
      "cell_type": "markdown",
      "metadata": {
        "id": "EmE5iAnfKuK4"
      },
      "source": [
        "# Building Model"
      ]
    },
    {
      "cell_type": "markdown",
      "metadata": {
        "id": "Z21e1B9_OKf1"
      },
      "source": [
        "### Custom Components"
      ]
    },
    {
      "cell_type": "code",
      "execution_count": null,
      "metadata": {
        "id": "5B8Uwo10OfQ6"
      },
      "outputs": [],
      "source": [
        "# Residual Connections using code from below as well as the residual connections from XCeption\n",
        "# https://stackoverflow.com/questions/64792460/how-to-code-a-residual-block-using-two-layers-of-a-basic-cnn-algorithm-built-wit\n",
        "\n",
        "def resblock(x, kernelsize, filters):\n",
        "    fx = keras.layers.Conv2D(filters, kernelsize, activation='relu', padding='same')(x)\n",
        "    fx = keras.layers.BatchNormalization()(fx)\n",
        "    fx = keras.layers.Conv2D(filters, kernelsize, padding='same')(fx)\n",
        "    out = keras.layers.Add()([x,fx])\n",
        "    out = keras.layers.ReLU()(out)\n",
        "    out = keras.layers.BatchNormalization()(out)\n",
        "    return out"
      ]
    },
    {
      "cell_type": "code",
      "execution_count": null,
      "metadata": {
        "id": "CDOv6JpKRG47"
      },
      "outputs": [],
      "source": [
        "# Mish Activation\n",
        "def mish(inputs):\n",
        "    x = tf.nn.softplus(inputs)\n",
        "    x = tf.nn.tanh(x)\n",
        "    x = tf.multiply(x,inputs)\n",
        "    return x"
      ]
    },
    {
      "cell_type": "code",
      "execution_count": null,
      "metadata": {
        "id": "Kmg26DSAG_J0"
      },
      "outputs": [],
      "source": [
        "# Ranger Optimizer\n",
        "# www.kaggle.com/code/yazanmajzob/ranger-optimizeranvas.com\n",
        "\n",
        "import tensorflow_addons as tfa\n",
        "\n",
        "def Ranger(sync_period=6,\n",
        "           slow_step_size=0.5,\n",
        "           learning_rate=0.001,\n",
        "           beta_1=0.9,\n",
        "           beta_2=0.999,\n",
        "           epsilon=1e-7,\n",
        "           weight_decay=0.,\n",
        "           amsgrad=False,\n",
        "           sma_threshold=5.0,\n",
        "           total_steps=0,\n",
        "           warmup_proportion=0.1,\n",
        "           min_lr=0.,\n",
        "           name=\"Ranger\"):\n",
        "    inner = tfa.optimizers.RectifiedAdam(learning_rate, beta_1, beta_2, epsilon, weight_decay, amsgrad, sma_threshold, total_steps, warmup_proportion, min_lr, name)\n",
        "    optim = tfa.optimizers.Lookahead(inner, sync_period, slow_step_size, name)\n",
        "    return optim"
      ]
    },
    {
      "cell_type": "markdown",
      "metadata": {
        "id": "Au5bnuTWOUnH"
      },
      "source": [
        "### Model Building"
      ]
    },
    {
      "cell_type": "code",
      "execution_count": null,
      "metadata": {
        "id": "3HF2Ga72RIXa"
      },
      "outputs": [],
      "source": [
        "def basecsiTime_block(input_layer):\n",
        "    layer_1 = Conv2D(16, (10,10), padding='same', activation='relu')(input_layer)\n",
        "\n",
        "    layer_2 = Conv2D(16, (20,20), padding='same', activation='relu')(input_layer)\n",
        "\n",
        "    layer_3 = Conv2D(16, (40,40), padding='same', activation='relu')(input_layer)\n",
        "\n",
        "    layer_4 = keras.layers.MaxPooling2D(pool_size=(1,1))(input_layer)\n",
        "    layer_5 = keras.layers.concatenate([layer_1, layer_2, layer_3, layer_4])\n",
        "\n",
        "    layer_6 = keras.layers.BatchNormalization()(layer_5)\n",
        "    output_layer = keras.layers.Dense(7, activation=mish)(layer_6)\n",
        "    \n",
        "    return output_layer\n",
        "\n",
        "def csiTime_selfattn(input_layer):\n",
        "    layer_1 = Conv2D(16, (10,10), padding='same', activation='relu')(input_layer)\n",
        "    layer_2 = Conv2D(16, (20,20), padding='same', activation='relu')(input_layer)\n",
        "    layer_3 = Conv2D(16, (40,40), padding='same', activation='relu')(input_layer)\n",
        "\n",
        "    layer_4 = keras.layers.MaxPooling2D(pool_size=(1,1))(input_layer)\n",
        "    layer_5 = keras.layers.concatenate([layer_1, layer_2, layer_3, layer_4])\n",
        "\n",
        "    layer_6 = keras.layers.BatchNormalization()(layer_5)\n",
        "    layer_7 = keras.layers.Attention(use_scale=True)([layer_6, layer_6])\n",
        "    output_layer = keras.layers.Dense(7, activation=mish)(layer_7)\n",
        "    \n",
        "    return output_layer\n",
        "\n",
        "def csimini_selfattn(input_layer):\n",
        "    \n",
        "    layer_1 = keras.layers.Attention(use_scale=True)([input_layer, input_layer])\n",
        "    layer_2 = Conv2D(16, (3,3), padding='same', activation='relu')(layer_1)\n",
        "    layer_3 = keras.layers.BatchNormalization()(layer_2)\n",
        "    output_layer = keras.layers.MaxPooling2D(pool_size=(1,1))(layer_3)\n",
        "    output_layer = keras.layers.Dense(7, activation=mish)(output_layer)\n",
        "\n",
        "    return output_layer\n",
        "\n",
        "def csi_mini(input_layer):\n",
        "    \n",
        "    layer_1 = SeparableConv2D(10, (3,3), padding='same', activation='relu')(input_layer)\n",
        "    bn1 = keras.layers.BatchNormalization()(layer_1)\n",
        "    layer_2 = SeparableConv2D(20, (3,3), padding='same', activation='relu')(input_layer)\n",
        "    bn2 = keras.layers.BatchNormalization()(layer_2)\n",
        "    layer_3 = SeparableConv2D(40, (3,3), padding='same', activation='relu')(input_layer)\n",
        "    bn3 = keras.layers.BatchNormalization()(layer_3)\n",
        "\n",
        "    layer_4 = keras.layers.MaxPooling2D(pool_size=(1,1))(input_layer)\n",
        "    con = Conv2D(16, (3,3), padding='same', activation='relu')(layer_4)\n",
        "    layer_5 = keras.layers.concatenate([bn1, bn2, bn3, con])\n",
        "\n",
        "    layer_6 = keras.layers.BatchNormalization()(layer_5)\n",
        "    output_layer = keras.layers.Dense(7, activation=mish)(layer_6)\n",
        "    \n",
        "    return output_layer\n",
        "\n",
        "# Code using flows from XCeption architecture https://github.com/fchollet/deep-learning-models/blob/master/xception.py\n",
        "def entry_flow(input_layer):\n",
        "    x = Conv2D(64, (3, 3), strides=(2, 2), use_bias=False)(input_layer)\n",
        "    x = keras.layers.BatchNormalization()(x)\n",
        "    x = keras.layers.Activation('relu')(x)\n",
        "    return x\n",
        "\n",
        "def middle_flow(input):\n",
        "    residual = input\n",
        "    x = keras.layers.Activation('relu')(input)\n",
        "    x = SeparableConv2D(128, (3, 3), padding='same', use_bias=False)(x)\n",
        "    x = keras.layers.BatchNormalization()(x)\n",
        "    x = keras.layers.Activation('relu')(x)\n",
        "    x = SeparableConv2D(96, (3, 3), padding='same', use_bias=False)(x)\n",
        "    x = keras.layers.BatchNormalization()(x)\n",
        "    x = keras.layers.Activation('relu')(x)\n",
        "    x = SeparableConv2D(64, (3, 3), padding='same', use_bias=False)(x)\n",
        "    x = keras.layers.BatchNormalization()(x)\n",
        "\n",
        "    x = keras.layers.add([x, residual])\n",
        "    return x\n",
        "  \n",
        "def exit_flow(input):\n",
        "    x = SeparableConv2D(32, (3, 3), padding='same', use_bias=False)(input)\n",
        "    x = keras.layers.BatchNormalization()(x)\n",
        "    x = keras.layers.Activation('relu')(x)\n",
        "\n",
        "    x = SeparableConv2D(32, (3, 3), padding='same', use_bias=False)(x)\n",
        "    x = keras.layers.BatchNormalization()(x)\n",
        "    x = keras.layers.Activation('relu')(x)\n",
        "    \n",
        "    return x"
      ]
    },
    {
      "cell_type": "code",
      "execution_count": null,
      "metadata": {
        "id": "6X8tHx_uRKNW"
      },
      "outputs": [],
      "source": [
        "from tensorflow.python.ops.nn_ops import softmax\n",
        "\n",
        "def make_model(input_shape):\n",
        "    input_layer = keras.layers.Input(input_shape, dtype='float32')\n",
        "\n",
        "    # Base CSITime\n",
        "    # fir = basecsiTime_block(input_layer)\n",
        "    # sec = basecsiTime_block(fir)\n",
        "    # res1 = resblock(sec, (3,3), 7)\n",
        "    # thi = csiTime_selfattn(res1)\n",
        "    # fou = basecsiTime_block(thi)\n",
        "    # fif = csiTime_selfattn(fou)\n",
        "    # res2 = resblock(fif, (3,3), 7)\n",
        "    # six = basecsiTime_block(res2)\n",
        "\n",
        "    #MiniTime\n",
        "    # fir = basecsiTime_block(input_layer)\n",
        "    # sec = basecsiTime_block(fir)\n",
        "    # thi = csi_mini(sec)\n",
        "    # fou = csiTime_selfattn(thi)\n",
        "    # fif = csi_mini(fou)\n",
        "    # six = csi_mini(fif)\n",
        "\n",
        "    #CSIXception\n",
        "    x = entry_flow(input_layer)\n",
        "    x = entry_flow(x)\n",
        "    x = middle_flow(x)\n",
        "    x = middle_flow(x)\n",
        "    x = middle_flow(x)\n",
        "    x = middle_flow(x)\n",
        "    x = middle_flow(x)\n",
        "    x = middle_flow(x)\n",
        "    x = middle_flow(x)\n",
        "    x = middle_flow(x)\n",
        "    x = exit_flow(x)\n",
        "    \n",
        "    gap = keras.layers.GlobalAveragePooling2D()(x)\n",
        "    flatten = keras.layers.Flatten()(gap)\n",
        "    dropout = keras.layers.Dropout(.2)(flatten)\n",
        "    output_layer = keras.layers.Dense(7, activation=softmax)(dropout)\n",
        "    \n",
        "    return keras.models.Model(inputs=input_layer, outputs=output_layer)\n",
        "\n",
        "model = make_model(input_shape=X_train.shape[1:])\n",
        "# keras.utils.plot_model(model, show_shapes=True)"
      ]
    },
    {
      "cell_type": "code",
      "execution_count": null,
      "metadata": {
        "id": "AHwM0c7sRNnY",
        "colab": {
          "base_uri": "https://localhost:8080/"
        },
        "outputId": "8f9a99b4-6f85-453d-a1ce-ab768af03bde"
      },
      "outputs": [
        {
          "output_type": "stream",
          "name": "stdout",
          "text": [
            "Model: \"model_2\"\n",
            "__________________________________________________________________________________________________\n",
            " Layer (type)                   Output Shape         Param #     Connected to                     \n",
            "==================================================================================================\n",
            " input_3 (InputLayer)           [(None, 256, 180, 1  0           []                               \n",
            "                                )]                                                                \n",
            "                                                                                                  \n",
            " conv2d_4 (Conv2D)              (None, 127, 89, 64)  576         ['input_3[0][0]']                \n",
            "                                                                                                  \n",
            " batch_normalization_56 (BatchN  (None, 127, 89, 64)  256        ['conv2d_4[0][0]']               \n",
            " ormalization)                                                                                    \n",
            "                                                                                                  \n",
            " activation_56 (Activation)     (None, 127, 89, 64)  0           ['batch_normalization_56[0][0]'] \n",
            "                                                                                                  \n",
            " conv2d_5 (Conv2D)              (None, 63, 44, 64)   36864       ['activation_56[0][0]']          \n",
            "                                                                                                  \n",
            " batch_normalization_57 (BatchN  (None, 63, 44, 64)  256         ['conv2d_5[0][0]']               \n",
            " ormalization)                                                                                    \n",
            "                                                                                                  \n",
            " activation_57 (Activation)     (None, 63, 44, 64)   0           ['batch_normalization_57[0][0]'] \n",
            "                                                                                                  \n",
            " activation_58 (Activation)     (None, 63, 44, 64)   0           ['activation_57[0][0]']          \n",
            "                                                                                                  \n",
            " separable_conv2d_52 (Separable  (None, 63, 44, 128)  8768       ['activation_58[0][0]']          \n",
            " Conv2D)                                                                                          \n",
            "                                                                                                  \n",
            " batch_normalization_58 (BatchN  (None, 63, 44, 128)  512        ['separable_conv2d_52[0][0]']    \n",
            " ormalization)                                                                                    \n",
            "                                                                                                  \n",
            " activation_59 (Activation)     (None, 63, 44, 128)  0           ['batch_normalization_58[0][0]'] \n",
            "                                                                                                  \n",
            " separable_conv2d_53 (Separable  (None, 63, 44, 96)  13440       ['activation_59[0][0]']          \n",
            " Conv2D)                                                                                          \n",
            "                                                                                                  \n",
            " batch_normalization_59 (BatchN  (None, 63, 44, 96)  384         ['separable_conv2d_53[0][0]']    \n",
            " ormalization)                                                                                    \n",
            "                                                                                                  \n",
            " activation_60 (Activation)     (None, 63, 44, 96)   0           ['batch_normalization_59[0][0]'] \n",
            "                                                                                                  \n",
            " separable_conv2d_54 (Separable  (None, 63, 44, 64)  7008        ['activation_60[0][0]']          \n",
            " Conv2D)                                                                                          \n",
            "                                                                                                  \n",
            " batch_normalization_60 (BatchN  (None, 63, 44, 64)  256         ['separable_conv2d_54[0][0]']    \n",
            " ormalization)                                                                                    \n",
            "                                                                                                  \n",
            " add_16 (Add)                   (None, 63, 44, 64)   0           ['batch_normalization_60[0][0]', \n",
            "                                                                  'activation_57[0][0]']          \n",
            "                                                                                                  \n",
            " activation_61 (Activation)     (None, 63, 44, 64)   0           ['add_16[0][0]']                 \n",
            "                                                                                                  \n",
            " separable_conv2d_55 (Separable  (None, 63, 44, 128)  8768       ['activation_61[0][0]']          \n",
            " Conv2D)                                                                                          \n",
            "                                                                                                  \n",
            " batch_normalization_61 (BatchN  (None, 63, 44, 128)  512        ['separable_conv2d_55[0][0]']    \n",
            " ormalization)                                                                                    \n",
            "                                                                                                  \n",
            " activation_62 (Activation)     (None, 63, 44, 128)  0           ['batch_normalization_61[0][0]'] \n",
            "                                                                                                  \n",
            " separable_conv2d_56 (Separable  (None, 63, 44, 96)  13440       ['activation_62[0][0]']          \n",
            " Conv2D)                                                                                          \n",
            "                                                                                                  \n",
            " batch_normalization_62 (BatchN  (None, 63, 44, 96)  384         ['separable_conv2d_56[0][0]']    \n",
            " ormalization)                                                                                    \n",
            "                                                                                                  \n",
            " activation_63 (Activation)     (None, 63, 44, 96)   0           ['batch_normalization_62[0][0]'] \n",
            "                                                                                                  \n",
            " separable_conv2d_57 (Separable  (None, 63, 44, 64)  7008        ['activation_63[0][0]']          \n",
            " Conv2D)                                                                                          \n",
            "                                                                                                  \n",
            " batch_normalization_63 (BatchN  (None, 63, 44, 64)  256         ['separable_conv2d_57[0][0]']    \n",
            " ormalization)                                                                                    \n",
            "                                                                                                  \n",
            " add_17 (Add)                   (None, 63, 44, 64)   0           ['batch_normalization_63[0][0]', \n",
            "                                                                  'add_16[0][0]']                 \n",
            "                                                                                                  \n",
            " activation_64 (Activation)     (None, 63, 44, 64)   0           ['add_17[0][0]']                 \n",
            "                                                                                                  \n",
            " separable_conv2d_58 (Separable  (None, 63, 44, 128)  8768       ['activation_64[0][0]']          \n",
            " Conv2D)                                                                                          \n",
            "                                                                                                  \n",
            " batch_normalization_64 (BatchN  (None, 63, 44, 128)  512        ['separable_conv2d_58[0][0]']    \n",
            " ormalization)                                                                                    \n",
            "                                                                                                  \n",
            " activation_65 (Activation)     (None, 63, 44, 128)  0           ['batch_normalization_64[0][0]'] \n",
            "                                                                                                  \n",
            " separable_conv2d_59 (Separable  (None, 63, 44, 96)  13440       ['activation_65[0][0]']          \n",
            " Conv2D)                                                                                          \n",
            "                                                                                                  \n",
            " batch_normalization_65 (BatchN  (None, 63, 44, 96)  384         ['separable_conv2d_59[0][0]']    \n",
            " ormalization)                                                                                    \n",
            "                                                                                                  \n",
            " activation_66 (Activation)     (None, 63, 44, 96)   0           ['batch_normalization_65[0][0]'] \n",
            "                                                                                                  \n",
            " separable_conv2d_60 (Separable  (None, 63, 44, 64)  7008        ['activation_66[0][0]']          \n",
            " Conv2D)                                                                                          \n",
            "                                                                                                  \n",
            " batch_normalization_66 (BatchN  (None, 63, 44, 64)  256         ['separable_conv2d_60[0][0]']    \n",
            " ormalization)                                                                                    \n",
            "                                                                                                  \n",
            " add_18 (Add)                   (None, 63, 44, 64)   0           ['batch_normalization_66[0][0]', \n",
            "                                                                  'add_17[0][0]']                 \n",
            "                                                                                                  \n",
            " activation_67 (Activation)     (None, 63, 44, 64)   0           ['add_18[0][0]']                 \n",
            "                                                                                                  \n",
            " separable_conv2d_61 (Separable  (None, 63, 44, 128)  8768       ['activation_67[0][0]']          \n",
            " Conv2D)                                                                                          \n",
            "                                                                                                  \n",
            " batch_normalization_67 (BatchN  (None, 63, 44, 128)  512        ['separable_conv2d_61[0][0]']    \n",
            " ormalization)                                                                                    \n",
            "                                                                                                  \n",
            " activation_68 (Activation)     (None, 63, 44, 128)  0           ['batch_normalization_67[0][0]'] \n",
            "                                                                                                  \n",
            " separable_conv2d_62 (Separable  (None, 63, 44, 96)  13440       ['activation_68[0][0]']          \n",
            " Conv2D)                                                                                          \n",
            "                                                                                                  \n",
            " batch_normalization_68 (BatchN  (None, 63, 44, 96)  384         ['separable_conv2d_62[0][0]']    \n",
            " ormalization)                                                                                    \n",
            "                                                                                                  \n",
            " activation_69 (Activation)     (None, 63, 44, 96)   0           ['batch_normalization_68[0][0]'] \n",
            "                                                                                                  \n",
            " separable_conv2d_63 (Separable  (None, 63, 44, 64)  7008        ['activation_69[0][0]']          \n",
            " Conv2D)                                                                                          \n",
            "                                                                                                  \n",
            " batch_normalization_69 (BatchN  (None, 63, 44, 64)  256         ['separable_conv2d_63[0][0]']    \n",
            " ormalization)                                                                                    \n",
            "                                                                                                  \n",
            " add_19 (Add)                   (None, 63, 44, 64)   0           ['batch_normalization_69[0][0]', \n",
            "                                                                  'add_18[0][0]']                 \n",
            "                                                                                                  \n",
            " activation_70 (Activation)     (None, 63, 44, 64)   0           ['add_19[0][0]']                 \n",
            "                                                                                                  \n",
            " separable_conv2d_64 (Separable  (None, 63, 44, 128)  8768       ['activation_70[0][0]']          \n",
            " Conv2D)                                                                                          \n",
            "                                                                                                  \n",
            " batch_normalization_70 (BatchN  (None, 63, 44, 128)  512        ['separable_conv2d_64[0][0]']    \n",
            " ormalization)                                                                                    \n",
            "                                                                                                  \n",
            " activation_71 (Activation)     (None, 63, 44, 128)  0           ['batch_normalization_70[0][0]'] \n",
            "                                                                                                  \n",
            " separable_conv2d_65 (Separable  (None, 63, 44, 96)  13440       ['activation_71[0][0]']          \n",
            " Conv2D)                                                                                          \n",
            "                                                                                                  \n",
            " batch_normalization_71 (BatchN  (None, 63, 44, 96)  384         ['separable_conv2d_65[0][0]']    \n",
            " ormalization)                                                                                    \n",
            "                                                                                                  \n",
            " activation_72 (Activation)     (None, 63, 44, 96)   0           ['batch_normalization_71[0][0]'] \n",
            "                                                                                                  \n",
            " separable_conv2d_66 (Separable  (None, 63, 44, 64)  7008        ['activation_72[0][0]']          \n",
            " Conv2D)                                                                                          \n",
            "                                                                                                  \n",
            " batch_normalization_72 (BatchN  (None, 63, 44, 64)  256         ['separable_conv2d_66[0][0]']    \n",
            " ormalization)                                                                                    \n",
            "                                                                                                  \n",
            " add_20 (Add)                   (None, 63, 44, 64)   0           ['batch_normalization_72[0][0]', \n",
            "                                                                  'add_19[0][0]']                 \n",
            "                                                                                                  \n",
            " activation_73 (Activation)     (None, 63, 44, 64)   0           ['add_20[0][0]']                 \n",
            "                                                                                                  \n",
            " separable_conv2d_67 (Separable  (None, 63, 44, 128)  8768       ['activation_73[0][0]']          \n",
            " Conv2D)                                                                                          \n",
            "                                                                                                  \n",
            " batch_normalization_73 (BatchN  (None, 63, 44, 128)  512        ['separable_conv2d_67[0][0]']    \n",
            " ormalization)                                                                                    \n",
            "                                                                                                  \n",
            " activation_74 (Activation)     (None, 63, 44, 128)  0           ['batch_normalization_73[0][0]'] \n",
            "                                                                                                  \n",
            " separable_conv2d_68 (Separable  (None, 63, 44, 96)  13440       ['activation_74[0][0]']          \n",
            " Conv2D)                                                                                          \n",
            "                                                                                                  \n",
            " batch_normalization_74 (BatchN  (None, 63, 44, 96)  384         ['separable_conv2d_68[0][0]']    \n",
            " ormalization)                                                                                    \n",
            "                                                                                                  \n",
            " activation_75 (Activation)     (None, 63, 44, 96)   0           ['batch_normalization_74[0][0]'] \n",
            "                                                                                                  \n",
            " separable_conv2d_69 (Separable  (None, 63, 44, 64)  7008        ['activation_75[0][0]']          \n",
            " Conv2D)                                                                                          \n",
            "                                                                                                  \n",
            " batch_normalization_75 (BatchN  (None, 63, 44, 64)  256         ['separable_conv2d_69[0][0]']    \n",
            " ormalization)                                                                                    \n",
            "                                                                                                  \n",
            " add_21 (Add)                   (None, 63, 44, 64)   0           ['batch_normalization_75[0][0]', \n",
            "                                                                  'add_20[0][0]']                 \n",
            "                                                                                                  \n",
            " activation_76 (Activation)     (None, 63, 44, 64)   0           ['add_21[0][0]']                 \n",
            "                                                                                                  \n",
            " separable_conv2d_70 (Separable  (None, 63, 44, 128)  8768       ['activation_76[0][0]']          \n",
            " Conv2D)                                                                                          \n",
            "                                                                                                  \n",
            " batch_normalization_76 (BatchN  (None, 63, 44, 128)  512        ['separable_conv2d_70[0][0]']    \n",
            " ormalization)                                                                                    \n",
            "                                                                                                  \n",
            " activation_77 (Activation)     (None, 63, 44, 128)  0           ['batch_normalization_76[0][0]'] \n",
            "                                                                                                  \n",
            " separable_conv2d_71 (Separable  (None, 63, 44, 96)  13440       ['activation_77[0][0]']          \n",
            " Conv2D)                                                                                          \n",
            "                                                                                                  \n",
            " batch_normalization_77 (BatchN  (None, 63, 44, 96)  384         ['separable_conv2d_71[0][0]']    \n",
            " ormalization)                                                                                    \n",
            "                                                                                                  \n",
            " activation_78 (Activation)     (None, 63, 44, 96)   0           ['batch_normalization_77[0][0]'] \n",
            "                                                                                                  \n",
            " separable_conv2d_72 (Separable  (None, 63, 44, 64)  7008        ['activation_78[0][0]']          \n",
            " Conv2D)                                                                                          \n",
            "                                                                                                  \n",
            " batch_normalization_78 (BatchN  (None, 63, 44, 64)  256         ['separable_conv2d_72[0][0]']    \n",
            " ormalization)                                                                                    \n",
            "                                                                                                  \n",
            " add_22 (Add)                   (None, 63, 44, 64)   0           ['batch_normalization_78[0][0]', \n",
            "                                                                  'add_21[0][0]']                 \n",
            "                                                                                                  \n",
            " activation_79 (Activation)     (None, 63, 44, 64)   0           ['add_22[0][0]']                 \n",
            "                                                                                                  \n",
            " separable_conv2d_73 (Separable  (None, 63, 44, 128)  8768       ['activation_79[0][0]']          \n",
            " Conv2D)                                                                                          \n",
            "                                                                                                  \n",
            " batch_normalization_79 (BatchN  (None, 63, 44, 128)  512        ['separable_conv2d_73[0][0]']    \n",
            " ormalization)                                                                                    \n",
            "                                                                                                  \n",
            " activation_80 (Activation)     (None, 63, 44, 128)  0           ['batch_normalization_79[0][0]'] \n",
            "                                                                                                  \n",
            " separable_conv2d_74 (Separable  (None, 63, 44, 96)  13440       ['activation_80[0][0]']          \n",
            " Conv2D)                                                                                          \n",
            "                                                                                                  \n",
            " batch_normalization_80 (BatchN  (None, 63, 44, 96)  384         ['separable_conv2d_74[0][0]']    \n",
            " ormalization)                                                                                    \n",
            "                                                                                                  \n",
            " activation_81 (Activation)     (None, 63, 44, 96)   0           ['batch_normalization_80[0][0]'] \n",
            "                                                                                                  \n",
            " separable_conv2d_75 (Separable  (None, 63, 44, 64)  7008        ['activation_81[0][0]']          \n",
            " Conv2D)                                                                                          \n",
            "                                                                                                  \n",
            " batch_normalization_81 (BatchN  (None, 63, 44, 64)  256         ['separable_conv2d_75[0][0]']    \n",
            " ormalization)                                                                                    \n",
            "                                                                                                  \n",
            " add_23 (Add)                   (None, 63, 44, 64)   0           ['batch_normalization_81[0][0]', \n",
            "                                                                  'add_22[0][0]']                 \n",
            "                                                                                                  \n",
            " separable_conv2d_76 (Separable  (None, 63, 44, 32)  2624        ['add_23[0][0]']                 \n",
            " Conv2D)                                                                                          \n",
            "                                                                                                  \n",
            " batch_normalization_82 (BatchN  (None, 63, 44, 32)  128         ['separable_conv2d_76[0][0]']    \n",
            " ormalization)                                                                                    \n",
            "                                                                                                  \n",
            " activation_82 (Activation)     (None, 63, 44, 32)   0           ['batch_normalization_82[0][0]'] \n",
            "                                                                                                  \n",
            " separable_conv2d_77 (Separable  (None, 63, 44, 32)  1312        ['activation_82[0][0]']          \n",
            " Conv2D)                                                                                          \n",
            "                                                                                                  \n",
            " batch_normalization_83 (BatchN  (None, 63, 44, 32)  128         ['separable_conv2d_77[0][0]']    \n",
            " ormalization)                                                                                    \n",
            "                                                                                                  \n",
            " activation_83 (Activation)     (None, 63, 44, 32)   0           ['batch_normalization_83[0][0]'] \n",
            "                                                                                                  \n",
            " global_average_pooling2d_2 (Gl  (None, 32)          0           ['activation_83[0][0]']          \n",
            " obalAveragePooling2D)                                                                            \n",
            "                                                                                                  \n",
            " flatten_2 (Flatten)            (None, 32)           0           ['global_average_pooling2d_2[0][0\n",
            "                                                                 ]']                              \n",
            "                                                                                                  \n",
            " dropout_2 (Dropout)            (None, 32)           0           ['flatten_2[0][0]']              \n",
            "                                                                                                  \n",
            " dense_2 (Dense)                (None, 7)            231         ['dropout_2[0][0]']              \n",
            "                                                                                                  \n",
            "==================================================================================================\n",
            "Total params: 285,319\n",
            "Trainable params: 280,327\n",
            "Non-trainable params: 4,992\n",
            "__________________________________________________________________________________________________\n"
          ]
        }
      ],
      "source": [
        "model.summary()"
      ]
    },
    {
      "cell_type": "markdown",
      "source": [
        "### Model Training without K-Fold"
      ],
      "metadata": {
        "id": "VgGWO20VTr7G"
      }
    },
    {
      "cell_type": "code",
      "execution_count": null,
      "metadata": {
        "colab": {
          "base_uri": "https://localhost:8080/"
        },
        "id": "dyDdzsiLRQnt",
        "outputId": "6e4e67ea-1331-4362-9aa9-84b387098ea4"
      },
      "outputs": [
        {
          "output_type": "stream",
          "name": "stdout",
          "text": [
            "Epoch 1/100\n",
            "62/62 [==============================] - 26s 152ms/step - loss: 1.6909 - categorical_accuracy: 0.2965 - val_loss: 1.9447 - val_categorical_accuracy: 0.1875\n",
            "Epoch 2/100\n",
            "62/62 [==============================] - 8s 130ms/step - loss: 1.4111 - categorical_accuracy: 0.4158 - val_loss: 1.9548 - val_categorical_accuracy: 0.1875\n",
            "Epoch 3/100\n",
            "62/62 [==============================] - 8s 130ms/step - loss: 1.2665 - categorical_accuracy: 0.5010 - val_loss: 1.9858 - val_categorical_accuracy: 0.1620\n",
            "Epoch 4/100\n",
            "62/62 [==============================] - 8s 130ms/step - loss: 1.1623 - categorical_accuracy: 0.5420 - val_loss: 2.0347 - val_categorical_accuracy: 0.1633\n",
            "Epoch 5/100\n",
            "62/62 [==============================] - 8s 130ms/step - loss: 1.0776 - categorical_accuracy: 0.5748 - val_loss: 2.2507 - val_categorical_accuracy: 0.1620\n",
            "Epoch 6/100\n",
            "62/62 [==============================] - 8s 130ms/step - loss: 0.9740 - categorical_accuracy: 0.6198 - val_loss: 2.5443 - val_categorical_accuracy: 0.2036\n",
            "Epoch 7/100\n",
            "62/62 [==============================] - 8s 130ms/step - loss: 0.8758 - categorical_accuracy: 0.6756 - val_loss: 2.9061 - val_categorical_accuracy: 0.2050\n",
            "Epoch 8/100\n",
            "62/62 [==============================] - 8s 130ms/step - loss: 0.7534 - categorical_accuracy: 0.7277 - val_loss: 3.0950 - val_categorical_accuracy: 0.2319\n",
            "Epoch 9/100\n",
            "62/62 [==============================] - 8s 130ms/step - loss: 0.6729 - categorical_accuracy: 0.7613 - val_loss: 2.3038 - val_categorical_accuracy: 0.3038\n",
            "Epoch 10/100\n",
            "62/62 [==============================] - 8s 135ms/step - loss: 0.5841 - categorical_accuracy: 0.7987 - val_loss: 0.9677 - val_categorical_accuracy: 0.6324\n",
            "Epoch 11/100\n",
            "62/62 [==============================] - 8s 135ms/step - loss: 0.5094 - categorical_accuracy: 0.8341 - val_loss: 0.8803 - val_categorical_accuracy: 0.6909\n",
            "Epoch 12/100\n",
            "62/62 [==============================] - 8s 135ms/step - loss: 0.4500 - categorical_accuracy: 0.8545 - val_loss: 0.7175 - val_categorical_accuracy: 0.7339\n",
            "Epoch 13/100\n",
            "62/62 [==============================] - 8s 135ms/step - loss: 0.4009 - categorical_accuracy: 0.8849 - val_loss: 0.6168 - val_categorical_accuracy: 0.7843\n",
            "Epoch 14/100\n",
            "62/62 [==============================] - 8s 135ms/step - loss: 0.3732 - categorical_accuracy: 0.8958 - val_loss: 0.5549 - val_categorical_accuracy: 0.8165\n",
            "Epoch 15/100\n",
            "62/62 [==============================] - 8s 135ms/step - loss: 0.3570 - categorical_accuracy: 0.9030 - val_loss: 0.5186 - val_categorical_accuracy: 0.8313\n",
            "Epoch 16/100\n",
            "62/62 [==============================] - 8s 135ms/step - loss: 0.3500 - categorical_accuracy: 0.9076 - val_loss: 0.5056 - val_categorical_accuracy: 0.8313\n",
            "Epoch 17/100\n",
            "62/62 [==============================] - 8s 130ms/step - loss: 0.6550 - categorical_accuracy: 0.7630 - val_loss: 7.1526 - val_categorical_accuracy: 0.1169\n",
            "Epoch 18/100\n",
            "62/62 [==============================] - 8s 130ms/step - loss: 0.6495 - categorical_accuracy: 0.7590 - val_loss: 6.3992 - val_categorical_accuracy: 0.1573\n",
            "Epoch 19/100\n",
            "62/62 [==============================] - 8s 130ms/step - loss: 0.5674 - categorical_accuracy: 0.7966 - val_loss: 3.4720 - val_categorical_accuracy: 0.3448\n",
            "Epoch 20/100\n",
            "62/62 [==============================] - 8s 130ms/step - loss: 0.4995 - categorical_accuracy: 0.8215 - val_loss: 2.3358 - val_categorical_accuracy: 0.4913\n",
            "Epoch 21/100\n",
            "62/62 [==============================] - 8s 130ms/step - loss: 0.4366 - categorical_accuracy: 0.8528 - val_loss: 3.1685 - val_categorical_accuracy: 0.3427\n",
            "Epoch 22/100\n",
            "62/62 [==============================] - 8s 130ms/step - loss: 0.3951 - categorical_accuracy: 0.8639 - val_loss: 0.8467 - val_categorical_accuracy: 0.6868\n",
            "Epoch 23/100\n",
            "62/62 [==============================] - 8s 130ms/step - loss: 0.3290 - categorical_accuracy: 0.8939 - val_loss: 5.7281 - val_categorical_accuracy: 0.3206\n",
            "Epoch 24/100\n",
            "62/62 [==============================] - 8s 130ms/step - loss: 0.2842 - categorical_accuracy: 0.9069 - val_loss: 1.6881 - val_categorical_accuracy: 0.5343\n",
            "Epoch 25/100\n",
            "62/62 [==============================] - 8s 130ms/step - loss: 0.2262 - categorical_accuracy: 0.9321 - val_loss: 1.7753 - val_categorical_accuracy: 0.5450\n",
            "Epoch 26/100\n",
            "62/62 [==============================] - 8s 130ms/step - loss: 0.1886 - categorical_accuracy: 0.9429 - val_loss: 1.2480 - val_categorical_accuracy: 0.6519\n",
            "Epoch 27/100\n",
            "62/62 [==============================] - 8s 130ms/step - loss: 0.1650 - categorical_accuracy: 0.9539 - val_loss: 0.7275 - val_categorical_accuracy: 0.7715\n",
            "Epoch 28/100\n",
            "62/62 [==============================] - 8s 130ms/step - loss: 0.1304 - categorical_accuracy: 0.9674 - val_loss: 0.6738 - val_categorical_accuracy: 0.7970\n",
            "Epoch 29/100\n",
            "62/62 [==============================] - 8s 130ms/step - loss: 0.1110 - categorical_accuracy: 0.9708 - val_loss: 1.1487 - val_categorical_accuracy: 0.6788\n",
            "Epoch 30/100\n",
            "62/62 [==============================] - 8s 130ms/step - loss: 0.0819 - categorical_accuracy: 0.9818 - val_loss: 1.0740 - val_categorical_accuracy: 0.7339\n",
            "Epoch 31/100\n",
            "62/62 [==============================] - 8s 135ms/step - loss: 0.0709 - categorical_accuracy: 0.9840 - val_loss: 0.4304 - val_categorical_accuracy: 0.8515\n",
            "Epoch 32/100\n",
            "62/62 [==============================] - 8s 135ms/step - loss: 0.0518 - categorical_accuracy: 0.9916 - val_loss: 0.3118 - val_categorical_accuracy: 0.9052\n",
            "Epoch 33/100\n",
            "62/62 [==============================] - 8s 130ms/step - loss: 0.0443 - categorical_accuracy: 0.9931 - val_loss: 0.3208 - val_categorical_accuracy: 0.8905\n",
            "Epoch 34/100\n",
            "62/62 [==============================] - 8s 130ms/step - loss: 0.0383 - categorical_accuracy: 0.9945 - val_loss: 0.3861 - val_categorical_accuracy: 0.8810\n",
            "Epoch 35/100\n",
            "62/62 [==============================] - 8s 135ms/step - loss: 0.0303 - categorical_accuracy: 0.9963 - val_loss: 0.2645 - val_categorical_accuracy: 0.9153\n",
            "Epoch 36/100\n",
            "62/62 [==============================] - 8s 130ms/step - loss: 0.0246 - categorical_accuracy: 0.9975 - val_loss: 0.2743 - val_categorical_accuracy: 0.9200\n",
            "Epoch 37/100\n",
            "62/62 [==============================] - 8s 135ms/step - loss: 0.0217 - categorical_accuracy: 0.9980 - val_loss: 0.2550 - val_categorical_accuracy: 0.9254\n",
            "Epoch 38/100\n",
            "62/62 [==============================] - 8s 130ms/step - loss: 0.0185 - categorical_accuracy: 0.9987 - val_loss: 0.2711 - val_categorical_accuracy: 0.9214\n",
            "Epoch 39/100\n",
            "62/62 [==============================] - 8s 130ms/step - loss: 0.0169 - categorical_accuracy: 0.9987 - val_loss: 0.2641 - val_categorical_accuracy: 0.9241\n",
            "Epoch 40/100\n",
            "62/62 [==============================] - 8s 135ms/step - loss: 0.0175 - categorical_accuracy: 0.9978 - val_loss: 0.2488 - val_categorical_accuracy: 0.9261\n",
            "Epoch 41/100\n",
            "62/62 [==============================] - 8s 130ms/step - loss: 0.0158 - categorical_accuracy: 0.9988 - val_loss: 0.2550 - val_categorical_accuracy: 0.9234\n",
            "Epoch 42/100\n",
            "62/62 [==============================] - 8s 135ms/step - loss: 0.0136 - categorical_accuracy: 0.9993 - val_loss: 0.2424 - val_categorical_accuracy: 0.9301\n",
            "Epoch 43/100\n",
            "62/62 [==============================] - 8s 130ms/step - loss: 0.0144 - categorical_accuracy: 0.9992 - val_loss: 0.2446 - val_categorical_accuracy: 0.9281\n",
            "Epoch 44/100\n",
            "62/62 [==============================] - 8s 130ms/step - loss: 0.0136 - categorical_accuracy: 0.9992 - val_loss: 0.2433 - val_categorical_accuracy: 0.9301\n",
            "Epoch 45/100\n",
            "62/62 [==============================] - 8s 135ms/step - loss: 0.0122 - categorical_accuracy: 0.9995 - val_loss: 0.2391 - val_categorical_accuracy: 0.9294\n",
            "Epoch 46/100\n",
            "62/62 [==============================] - 8s 129ms/step - loss: 0.0131 - categorical_accuracy: 0.9995 - val_loss: 0.2392 - val_categorical_accuracy: 0.9315\n",
            "Epoch 47/100\n",
            "62/62 [==============================] - 8s 130ms/step - loss: 0.0129 - categorical_accuracy: 0.9998 - val_loss: 0.2400 - val_categorical_accuracy: 0.9315\n",
            "Epoch 48/100\n",
            "62/62 [==============================] - 8s 130ms/step - loss: 0.0127 - categorical_accuracy: 0.9998 - val_loss: 0.2400 - val_categorical_accuracy: 0.9321\n",
            "Epoch 49/100\n",
            "62/62 [==============================] - 8s 130ms/step - loss: 0.0642 - categorical_accuracy: 0.9825 - val_loss: 13.7647 - val_categorical_accuracy: 0.1358\n",
            "Epoch 50/100\n",
            "62/62 [==============================] - 8s 130ms/step - loss: 0.8389 - categorical_accuracy: 0.7015 - val_loss: 20.0978 - val_categorical_accuracy: 0.1431\n",
            "Epoch 51/100\n",
            "62/62 [==============================] - 8s 130ms/step - loss: 0.5134 - categorical_accuracy: 0.8114 - val_loss: 3.9200 - val_categorical_accuracy: 0.4321\n",
            "Epoch 52/100\n",
            "62/62 [==============================] - 8s 130ms/step - loss: 0.3419 - categorical_accuracy: 0.8827 - val_loss: 2.8049 - val_categorical_accuracy: 0.4651\n",
            "Epoch 53/100\n",
            "62/62 [==============================] - 8s 130ms/step - loss: 0.2435 - categorical_accuracy: 0.9202 - val_loss: 5.0582 - val_categorical_accuracy: 0.3535\n",
            "Epoch 54/100\n",
            "62/62 [==============================] - 8s 130ms/step - loss: 0.2274 - categorical_accuracy: 0.9230 - val_loss: 1.3821 - val_categorical_accuracy: 0.5847\n",
            "Epoch 55/100\n",
            "62/62 [==============================] - 8s 130ms/step - loss: 0.1813 - categorical_accuracy: 0.9424 - val_loss: 1.5636 - val_categorical_accuracy: 0.5961\n",
            "Epoch 56/100\n",
            "62/62 [==============================] - 8s 130ms/step - loss: 0.1316 - categorical_accuracy: 0.9627 - val_loss: 1.0317 - val_categorical_accuracy: 0.7292\n",
            "Epoch 57/100\n",
            "62/62 [==============================] - 8s 130ms/step - loss: 0.0997 - categorical_accuracy: 0.9704 - val_loss: 1.3918 - val_categorical_accuracy: 0.6875\n",
            "Epoch 58/100\n",
            "62/62 [==============================] - 8s 130ms/step - loss: 0.0976 - categorical_accuracy: 0.9714 - val_loss: 1.5241 - val_categorical_accuracy: 0.6492\n",
            "Epoch 59/100\n",
            "62/62 [==============================] - 8s 130ms/step - loss: 0.1154 - categorical_accuracy: 0.9654 - val_loss: 4.0976 - val_categorical_accuracy: 0.4267\n",
            "Epoch 60/100\n",
            "62/62 [==============================] - 8s 130ms/step - loss: 0.0828 - categorical_accuracy: 0.9755 - val_loss: 0.9212 - val_categorical_accuracy: 0.7520\n",
            "Epoch 61/100\n",
            "62/62 [==============================] - 8s 130ms/step - loss: 0.0799 - categorical_accuracy: 0.9761 - val_loss: 1.4278 - val_categorical_accuracy: 0.6458\n",
            "Epoch 62/100\n",
            "62/62 [==============================] - 8s 130ms/step - loss: 0.0620 - categorical_accuracy: 0.9827 - val_loss: 1.6730 - val_categorical_accuracy: 0.7097\n",
            "Epoch 63/100\n",
            "62/62 [==============================] - 8s 130ms/step - loss: 0.0601 - categorical_accuracy: 0.9844 - val_loss: 0.6868 - val_categorical_accuracy: 0.8172\n",
            "Epoch 64/100\n",
            "62/62 [==============================] - 8s 130ms/step - loss: 0.0409 - categorical_accuracy: 0.9926 - val_loss: 0.7409 - val_categorical_accuracy: 0.7903\n",
            "Epoch 65/100\n",
            "62/62 [==============================] - 8s 130ms/step - loss: 0.0428 - categorical_accuracy: 0.9896 - val_loss: 0.5002 - val_categorical_accuracy: 0.8522\n",
            "Epoch 66/100\n",
            "62/62 [==============================] - 8s 130ms/step - loss: 0.0371 - categorical_accuracy: 0.9911 - val_loss: 0.3511 - val_categorical_accuracy: 0.8965\n",
            "Epoch 67/100\n",
            "62/62 [==============================] - 8s 130ms/step - loss: 0.0399 - categorical_accuracy: 0.9909 - val_loss: 1.0432 - val_categorical_accuracy: 0.7540\n",
            "Epoch 68/100\n",
            "62/62 [==============================] - 8s 130ms/step - loss: 0.0321 - categorical_accuracy: 0.9913 - val_loss: 0.8858 - val_categorical_accuracy: 0.7513\n",
            "Epoch 69/100\n",
            "62/62 [==============================] - 8s 130ms/step - loss: 0.0376 - categorical_accuracy: 0.9904 - val_loss: 1.0556 - val_categorical_accuracy: 0.7466\n",
            "Epoch 70/100\n",
            "62/62 [==============================] - 8s 130ms/step - loss: 0.0258 - categorical_accuracy: 0.9951 - val_loss: 0.3951 - val_categorical_accuracy: 0.8911\n",
            "Epoch 71/100\n",
            "62/62 [==============================] - 8s 129ms/step - loss: 0.0240 - categorical_accuracy: 0.9934 - val_loss: 0.3530 - val_categorical_accuracy: 0.9012\n",
            "Epoch 72/100\n",
            "62/62 [==============================] - 8s 130ms/step - loss: 0.0464 - categorical_accuracy: 0.9872 - val_loss: 11.5447 - val_categorical_accuracy: 0.3562\n",
            "Epoch 73/100\n",
            "62/62 [==============================] - 8s 129ms/step - loss: 0.0543 - categorical_accuracy: 0.9849 - val_loss: 2.3955 - val_categorical_accuracy: 0.6499\n",
            "Epoch 74/100\n",
            "62/62 [==============================] - 8s 130ms/step - loss: 0.0560 - categorical_accuracy: 0.9844 - val_loss: 1.1174 - val_categorical_accuracy: 0.7278\n",
            "Epoch 75/100\n",
            "62/62 [==============================] - 8s 129ms/step - loss: 0.0569 - categorical_accuracy: 0.9824 - val_loss: 1.3172 - val_categorical_accuracy: 0.7258\n",
            "Epoch 75: early stopping\n"
          ]
        }
      ],
      "source": [
        "epochs = 100\n",
        "batch_size = 96\n",
        "# steps_per_epoch = X_train.shape[0]\n",
        "\n",
        "# lr_schedule = ExponentialDecay(\n",
        "#     initial_learning_rate=0.001,\n",
        "#     decay_steps=1000, decay_rate=0.96,\n",
        "#     staircase=True)\n",
        "\n",
        "# lr_schedule = OneCycle(min_lr=7e-3, max_lr=7e-2, min_mtm = 0.85, max_mtm = 0.95, annealing_stage=0.1, annealing_rate=0.01,\n",
        "#           training_iterations=(X_train.shape[0]*epochs)/(batch_size))\n",
        "lr_schedule = CosineDecayRestarts(initial_learning_rate=0.001,first_decay_steps=1000)\n",
        "\n",
        "# clr = tfa.optimizers.CyclicalLearningRate(initial_learning_rate=0.0001,\n",
        "#     maximal_learning_rate=0.01,\n",
        "#     scale_fn=lambda x: 1/(2.**(x-1)),\n",
        "#     step_size=2 * steps_per_epoch\n",
        "# )\n",
        "callbacks = [\n",
        "    keras.callbacks.ModelCheckpoint(\n",
        "        \"xception2-2.h5\", save_best_only=True, monitor=\"val_loss\"\n",
        "    ),\n",
        "    # OneCycle(min_lr=7e-3, max_lr=7e-2, min_mtm = 0.85, max_mtm = 0.95, annealing_stage=0.1, annealing_rate=0.01,\n",
        "    #       training_iterations=(X_train.shape[0]*epochs)/(batch_size)),\n",
        "    # keras.callbacks.ReduceLROnPlateau(\n",
        "    #     monitor=\"val_loss\", factor=0.5, patience=20, min_lr=0.0001\n",
        "    # ),\n",
        "    keras.callbacks.EarlyStopping(monitor=\"val_loss\", patience=30, verbose=1)\n",
        "]\n",
        "model.compile(\n",
        "    # optimizer=Ranger(learning_rate = lr_schedule),\n",
        "    optimizer = keras.optimizers.Adam(learning_rate=lr_schedule, epsilon=1e-08),\n",
        "    loss=\"categorical_crossentropy\",\n",
        "    metrics=[\"categorical_accuracy\"],\n",
        ")\n",
        "history = model.fit(\n",
        "    X_train,\n",
        "    Y_train,\n",
        "    batch_size=batch_size,\n",
        "    epochs=epochs,\n",
        "    callbacks=callbacks,\n",
        "    validation_split=0.2,\n",
        "    verbose=1,\n",
        "    \n",
        ")"
      ]
    },
    {
      "cell_type": "markdown",
      "source": [
        "### Model training with KFold"
      ],
      "metadata": {
        "id": "V8rCusmVT-rN"
      }
    },
    {
      "cell_type": "code",
      "source": [
        "from sklearn.model_selection import KFold\n",
        "from sklearn.metrics import f1_score\n",
        "\n",
        "kfold = KFold(n_splits=5, shuffle=True)\n",
        "acc_per_fold = []\n",
        "loss_per_fold =[]\n",
        "f1_per_fold = []\n",
        "fold_no = 1\n",
        "for train, test in kfold.split(X, vectorized_y):\n",
        "    print(\"TRAIN:\", train, \"TEST:\", test)\n",
        "    X_train, X_test = X[train], X[test]\n",
        "    y_train, Y_test = vectorized_y[train], vectorized_y[test]\n",
        "\n",
        "    X_train = X_train.reshape((X_train.shape[0], X_train.shape[1],X_train.shape[2],1))\n",
        "    X_test = X_test.reshape((X_test.shape[0], X_test.shape[1],X_test.shape[2],1))\n",
        "\n",
        "    X_train = tf.convert_to_tensor(X_train)\n",
        "    Y_train = tf.convert_to_tensor(y_train)\n",
        "\n",
        "    model = make_model(input_shape=X_train.shape[1:])\n",
        "\n",
        "    epochs = 100\n",
        "    batch_size = 96\n",
        "\n",
        "    lr_schedule = CosineDecayRestarts(initial_learning_rate=0.001,first_decay_steps=1000)\n",
        "\n",
        "    callbacks = [\n",
        "        keras.callbacks.ModelCheckpoint(\n",
        "            \"xception2.h5\", save_best_only=True, monitor=\"val_loss\"\n",
        "        ),\n",
        "\n",
        "        keras.callbacks.EarlyStopping(monitor=\"val_loss\", patience=30, verbose=1)\n",
        "    ]\n",
        "    model.compile(\n",
        "        optimizer = keras.optimizers.Adam(learning_rate=lr_schedule, epsilon=1e-08),\n",
        "        loss=\"categorical_crossentropy\",\n",
        "        metrics=[\"categorical_accuracy\"],\n",
        "    )\n",
        "\n",
        "    # Generate a print\n",
        "    print('------------------------------------------------------------------------')\n",
        "    print(f'Training for fold {fold_no} ...')\n",
        "\n",
        "    history = model.fit(\n",
        "        X_train,\n",
        "        Y_train,\n",
        "        batch_size=batch_size,\n",
        "        epochs=epochs,\n",
        "        callbacks=callbacks,\n",
        "        validation_split=0.2,\n",
        "        verbose=2,\n",
        "        \n",
        "    )\n",
        "\n",
        "    # Generate generalization metrics\n",
        "    scores = model.evaluate(X_test[:,:,:], Y_test, verbose=0)\n",
        "    print(f'Score for fold {fold_no}: {model.metrics_names[0]} of {scores[0]}; {model.metrics_names[1]} of {scores[1]*100}%')\n",
        "    acc_per_fold.append(scores[1] * 100)\n",
        "    loss_per_fold.append(scores[0])\n",
        "\n",
        "    y_pred=model.predict(X_test) \n",
        "    y_pred=np.argmax(y_pred, axis=1)\n",
        "    Y_test=np.argmax(Y_test, axis=1)\n",
        "    f1_per_fold.append(f1_score(Y_test, y_pred, average='weighted'))\n",
        "\n",
        "    # Increase fold number\n",
        "    fold_no = fold_no + 1"
      ],
      "metadata": {
        "colab": {
          "base_uri": "https://localhost:8080/",
          "height": 643
        },
        "id": "G36ORGQhQmOx",
        "outputId": "e1df0b64-942b-4eba-8952-16340d41a016"
      },
      "execution_count": null,
      "outputs": [
        {
          "output_type": "stream",
          "name": "stdout",
          "text": [
            "TRAIN: [    0     1     2 ... 10623 10625 10626] TEST: [    4     6     9 ... 10620 10622 10624]\n",
            "------------------------------------------------------------------------\n",
            "Training for fold 1 ...\n",
            "Epoch 1/100\n",
            "71/71 - 27s - loss: 1.6812 - categorical_accuracy: 0.3321 - val_loss: 1.9523 - val_categorical_accuracy: 0.0000e+00 - 27s/epoch - 376ms/step\n",
            "Epoch 2/100\n",
            "71/71 - 9s - loss: 1.3166 - categorical_accuracy: 0.4844 - val_loss: 1.9158 - val_categorical_accuracy: 0.1958 - 9s/epoch - 131ms/step\n",
            "Epoch 3/100\n",
            "71/71 - 9s - loss: 1.1835 - categorical_accuracy: 0.5379 - val_loss: 1.9642 - val_categorical_accuracy: 0.1958 - 9s/epoch - 127ms/step\n",
            "Epoch 4/100\n",
            "71/71 - 9s - loss: 1.0476 - categorical_accuracy: 0.6060 - val_loss: 2.3889 - val_categorical_accuracy: 0.0306 - 9s/epoch - 127ms/step\n",
            "Epoch 5/100\n",
            "71/71 - 9s - loss: 0.9139 - categorical_accuracy: 0.6560 - val_loss: 3.5977 - val_categorical_accuracy: 0.0000e+00 - 9s/epoch - 127ms/step\n",
            "Epoch 6/100\n"
          ]
        },
        {
          "output_type": "error",
          "ename": "KeyboardInterrupt",
          "evalue": "ignored",
          "traceback": [
            "\u001b[0;31m---------------------------------------------------------------------------\u001b[0m",
            "\u001b[0;31mKeyboardInterrupt\u001b[0m                         Traceback (most recent call last)",
            "\u001b[0;32m<ipython-input-22-12fb0f4c51e2>\u001b[0m in \u001b[0;36m<cell line: 9>\u001b[0;34m()\u001b[0m\n\u001b[1;32m     42\u001b[0m     \u001b[0mprint\u001b[0m\u001b[0;34m(\u001b[0m\u001b[0;34mf'Training for fold {fold_no} ...'\u001b[0m\u001b[0;34m)\u001b[0m\u001b[0;34m\u001b[0m\u001b[0;34m\u001b[0m\u001b[0m\n\u001b[1;32m     43\u001b[0m \u001b[0;34m\u001b[0m\u001b[0m\n\u001b[0;32m---> 44\u001b[0;31m     history = model.fit(\n\u001b[0m\u001b[1;32m     45\u001b[0m         \u001b[0mX_train\u001b[0m\u001b[0;34m,\u001b[0m\u001b[0;34m\u001b[0m\u001b[0;34m\u001b[0m\u001b[0m\n\u001b[1;32m     46\u001b[0m         \u001b[0mY_train\u001b[0m\u001b[0;34m,\u001b[0m\u001b[0;34m\u001b[0m\u001b[0;34m\u001b[0m\u001b[0m\n",
            "\u001b[0;32m/usr/local/lib/python3.9/dist-packages/keras/utils/traceback_utils.py\u001b[0m in \u001b[0;36merror_handler\u001b[0;34m(*args, **kwargs)\u001b[0m\n\u001b[1;32m     63\u001b[0m         \u001b[0mfiltered_tb\u001b[0m \u001b[0;34m=\u001b[0m \u001b[0;32mNone\u001b[0m\u001b[0;34m\u001b[0m\u001b[0;34m\u001b[0m\u001b[0m\n\u001b[1;32m     64\u001b[0m         \u001b[0;32mtry\u001b[0m\u001b[0;34m:\u001b[0m\u001b[0;34m\u001b[0m\u001b[0;34m\u001b[0m\u001b[0m\n\u001b[0;32m---> 65\u001b[0;31m             \u001b[0;32mreturn\u001b[0m \u001b[0mfn\u001b[0m\u001b[0;34m(\u001b[0m\u001b[0;34m*\u001b[0m\u001b[0margs\u001b[0m\u001b[0;34m,\u001b[0m \u001b[0;34m**\u001b[0m\u001b[0mkwargs\u001b[0m\u001b[0;34m)\u001b[0m\u001b[0;34m\u001b[0m\u001b[0;34m\u001b[0m\u001b[0m\n\u001b[0m\u001b[1;32m     66\u001b[0m         \u001b[0;32mexcept\u001b[0m \u001b[0mException\u001b[0m \u001b[0;32mas\u001b[0m \u001b[0me\u001b[0m\u001b[0;34m:\u001b[0m\u001b[0;34m\u001b[0m\u001b[0;34m\u001b[0m\u001b[0m\n\u001b[1;32m     67\u001b[0m             \u001b[0mfiltered_tb\u001b[0m \u001b[0;34m=\u001b[0m \u001b[0m_process_traceback_frames\u001b[0m\u001b[0;34m(\u001b[0m\u001b[0me\u001b[0m\u001b[0;34m.\u001b[0m\u001b[0m__traceback__\u001b[0m\u001b[0;34m)\u001b[0m\u001b[0;34m\u001b[0m\u001b[0;34m\u001b[0m\u001b[0m\n",
            "\u001b[0;32m/usr/local/lib/python3.9/dist-packages/keras/engine/training.py\u001b[0m in \u001b[0;36mfit\u001b[0;34m(self, x, y, batch_size, epochs, verbose, callbacks, validation_split, validation_data, shuffle, class_weight, sample_weight, initial_epoch, steps_per_epoch, validation_steps, validation_batch_size, validation_freq, max_queue_size, workers, use_multiprocessing)\u001b[0m\n\u001b[1;32m   1639\u001b[0m                 \u001b[0mcallbacks\u001b[0m\u001b[0;34m.\u001b[0m\u001b[0mon_epoch_begin\u001b[0m\u001b[0;34m(\u001b[0m\u001b[0mepoch\u001b[0m\u001b[0;34m)\u001b[0m\u001b[0;34m\u001b[0m\u001b[0;34m\u001b[0m\u001b[0m\n\u001b[1;32m   1640\u001b[0m                 \u001b[0;32mwith\u001b[0m \u001b[0mdata_handler\u001b[0m\u001b[0;34m.\u001b[0m\u001b[0mcatch_stop_iteration\u001b[0m\u001b[0;34m(\u001b[0m\u001b[0;34m)\u001b[0m\u001b[0;34m:\u001b[0m\u001b[0;34m\u001b[0m\u001b[0;34m\u001b[0m\u001b[0m\n\u001b[0;32m-> 1641\u001b[0;31m                     \u001b[0;32mfor\u001b[0m \u001b[0mstep\u001b[0m \u001b[0;32min\u001b[0m \u001b[0mdata_handler\u001b[0m\u001b[0;34m.\u001b[0m\u001b[0msteps\u001b[0m\u001b[0;34m(\u001b[0m\u001b[0;34m)\u001b[0m\u001b[0;34m:\u001b[0m\u001b[0;34m\u001b[0m\u001b[0;34m\u001b[0m\u001b[0m\n\u001b[0m\u001b[1;32m   1642\u001b[0m                         with tf.profiler.experimental.Trace(\n\u001b[1;32m   1643\u001b[0m                             \u001b[0;34m\"train\"\u001b[0m\u001b[0;34m,\u001b[0m\u001b[0;34m\u001b[0m\u001b[0;34m\u001b[0m\u001b[0m\n",
            "\u001b[0;32m/usr/local/lib/python3.9/dist-packages/keras/engine/data_adapter.py\u001b[0m in \u001b[0;36msteps\u001b[0;34m(self)\u001b[0m\n\u001b[1;32m   1369\u001b[0m             \u001b[0;32mif\u001b[0m \u001b[0mself\u001b[0m\u001b[0;34m.\u001b[0m\u001b[0m_insufficient_data\u001b[0m\u001b[0;34m:\u001b[0m  \u001b[0;31m# Set by `catch_stop_iteration`.\u001b[0m\u001b[0;34m\u001b[0m\u001b[0;34m\u001b[0m\u001b[0m\n\u001b[1;32m   1370\u001b[0m                 \u001b[0;32mbreak\u001b[0m\u001b[0;34m\u001b[0m\u001b[0;34m\u001b[0m\u001b[0m\n\u001b[0;32m-> 1371\u001b[0;31m             \u001b[0moriginal_spe\u001b[0m \u001b[0;34m=\u001b[0m \u001b[0mself\u001b[0m\u001b[0;34m.\u001b[0m\u001b[0m_steps_per_execution\u001b[0m\u001b[0;34m.\u001b[0m\u001b[0mnumpy\u001b[0m\u001b[0;34m(\u001b[0m\u001b[0;34m)\u001b[0m\u001b[0;34m.\u001b[0m\u001b[0mitem\u001b[0m\u001b[0;34m(\u001b[0m\u001b[0;34m)\u001b[0m\u001b[0;34m\u001b[0m\u001b[0;34m\u001b[0m\u001b[0m\n\u001b[0m\u001b[1;32m   1372\u001b[0m             can_run_full_execution = (\n\u001b[1;32m   1373\u001b[0m                 \u001b[0moriginal_spe\u001b[0m \u001b[0;34m==\u001b[0m \u001b[0;36m1\u001b[0m\u001b[0;34m\u001b[0m\u001b[0;34m\u001b[0m\u001b[0m\n",
            "\u001b[0;32m/usr/local/lib/python3.9/dist-packages/tensorflow/python/ops/resource_variable_ops.py\u001b[0m in \u001b[0;36mnumpy\u001b[0;34m(self)\u001b[0m\n\u001b[1;32m    637\u001b[0m   \u001b[0;32mdef\u001b[0m \u001b[0mnumpy\u001b[0m\u001b[0;34m(\u001b[0m\u001b[0mself\u001b[0m\u001b[0;34m)\u001b[0m\u001b[0;34m:\u001b[0m\u001b[0;34m\u001b[0m\u001b[0;34m\u001b[0m\u001b[0m\n\u001b[1;32m    638\u001b[0m     \u001b[0;32mif\u001b[0m \u001b[0mcontext\u001b[0m\u001b[0;34m.\u001b[0m\u001b[0mexecuting_eagerly\u001b[0m\u001b[0;34m(\u001b[0m\u001b[0;34m)\u001b[0m\u001b[0;34m:\u001b[0m\u001b[0;34m\u001b[0m\u001b[0;34m\u001b[0m\u001b[0m\n\u001b[0;32m--> 639\u001b[0;31m       \u001b[0;32mreturn\u001b[0m \u001b[0mself\u001b[0m\u001b[0;34m.\u001b[0m\u001b[0mread_value\u001b[0m\u001b[0;34m(\u001b[0m\u001b[0;34m)\u001b[0m\u001b[0;34m.\u001b[0m\u001b[0mnumpy\u001b[0m\u001b[0;34m(\u001b[0m\u001b[0;34m)\u001b[0m\u001b[0;34m\u001b[0m\u001b[0;34m\u001b[0m\u001b[0m\n\u001b[0m\u001b[1;32m    640\u001b[0m     raise NotImplementedError(\n\u001b[1;32m    641\u001b[0m         \"numpy() is only available when eager execution is enabled.\")\n",
            "\u001b[0;32m/usr/local/lib/python3.9/dist-packages/tensorflow/python/framework/ops.py\u001b[0m in \u001b[0;36mnumpy\u001b[0;34m(self)\u001b[0m\n\u001b[1;32m   1153\u001b[0m     \"\"\"\n\u001b[1;32m   1154\u001b[0m     \u001b[0;31m# TODO(slebedev): Consider avoiding a copy for non-CPU or remote tensors.\u001b[0m\u001b[0;34m\u001b[0m\u001b[0;34m\u001b[0m\u001b[0m\n\u001b[0;32m-> 1155\u001b[0;31m     \u001b[0mmaybe_arr\u001b[0m \u001b[0;34m=\u001b[0m \u001b[0mself\u001b[0m\u001b[0;34m.\u001b[0m\u001b[0m_numpy\u001b[0m\u001b[0;34m(\u001b[0m\u001b[0;34m)\u001b[0m  \u001b[0;31m# pylint: disable=protected-access\u001b[0m\u001b[0;34m\u001b[0m\u001b[0;34m\u001b[0m\u001b[0m\n\u001b[0m\u001b[1;32m   1156\u001b[0m     \u001b[0;32mreturn\u001b[0m \u001b[0mmaybe_arr\u001b[0m\u001b[0;34m.\u001b[0m\u001b[0mcopy\u001b[0m\u001b[0;34m(\u001b[0m\u001b[0;34m)\u001b[0m \u001b[0;32mif\u001b[0m \u001b[0misinstance\u001b[0m\u001b[0;34m(\u001b[0m\u001b[0mmaybe_arr\u001b[0m\u001b[0;34m,\u001b[0m \u001b[0mnp\u001b[0m\u001b[0;34m.\u001b[0m\u001b[0mndarray\u001b[0m\u001b[0;34m)\u001b[0m \u001b[0;32melse\u001b[0m \u001b[0mmaybe_arr\u001b[0m\u001b[0;34m\u001b[0m\u001b[0;34m\u001b[0m\u001b[0m\n\u001b[1;32m   1157\u001b[0m \u001b[0;34m\u001b[0m\u001b[0m\n",
            "\u001b[0;32m/usr/local/lib/python3.9/dist-packages/tensorflow/python/framework/ops.py\u001b[0m in \u001b[0;36m_numpy\u001b[0;34m(self)\u001b[0m\n\u001b[1;32m   1119\u001b[0m   \u001b[0;32mdef\u001b[0m \u001b[0m_numpy\u001b[0m\u001b[0;34m(\u001b[0m\u001b[0mself\u001b[0m\u001b[0;34m)\u001b[0m\u001b[0;34m:\u001b[0m\u001b[0;34m\u001b[0m\u001b[0;34m\u001b[0m\u001b[0m\n\u001b[1;32m   1120\u001b[0m     \u001b[0;32mtry\u001b[0m\u001b[0;34m:\u001b[0m\u001b[0;34m\u001b[0m\u001b[0;34m\u001b[0m\u001b[0m\n\u001b[0;32m-> 1121\u001b[0;31m       \u001b[0;32mreturn\u001b[0m \u001b[0mself\u001b[0m\u001b[0;34m.\u001b[0m\u001b[0m_numpy_internal\u001b[0m\u001b[0;34m(\u001b[0m\u001b[0;34m)\u001b[0m\u001b[0;34m\u001b[0m\u001b[0;34m\u001b[0m\u001b[0m\n\u001b[0m\u001b[1;32m   1122\u001b[0m     \u001b[0;32mexcept\u001b[0m \u001b[0mcore\u001b[0m\u001b[0;34m.\u001b[0m\u001b[0m_NotOkStatusException\u001b[0m \u001b[0;32mas\u001b[0m \u001b[0me\u001b[0m\u001b[0;34m:\u001b[0m  \u001b[0;31m# pylint: disable=protected-access\u001b[0m\u001b[0;34m\u001b[0m\u001b[0;34m\u001b[0m\u001b[0m\n\u001b[1;32m   1123\u001b[0m       \u001b[0;32mraise\u001b[0m \u001b[0mcore\u001b[0m\u001b[0;34m.\u001b[0m\u001b[0m_status_to_exception\u001b[0m\u001b[0;34m(\u001b[0m\u001b[0me\u001b[0m\u001b[0;34m)\u001b[0m \u001b[0;32mfrom\u001b[0m \u001b[0;32mNone\u001b[0m  \u001b[0;31m# pylint: disable=protected-access\u001b[0m\u001b[0;34m\u001b[0m\u001b[0;34m\u001b[0m\u001b[0m\n",
            "\u001b[0;31mKeyboardInterrupt\u001b[0m: "
          ]
        }
      ]
    },
    {
      "cell_type": "code",
      "source": [
        "print(acc_per_fold)\n",
        "print(loss_per_fold)\n",
        "print(f1_per_fold)"
      ],
      "metadata": {
        "id": "w0H4BdoiVQDK"
      },
      "execution_count": null,
      "outputs": []
    },
    {
      "cell_type": "markdown",
      "metadata": {
        "id": "qpTFulowK0eh"
      },
      "source": [
        "# Evaluation"
      ]
    },
    {
      "cell_type": "code",
      "execution_count": null,
      "metadata": {
        "id": "1RUaJ2nQRUyA",
        "colab": {
          "base_uri": "https://localhost:8080/"
        },
        "outputId": "bc3eb75a-fd09-4416-dadd-e4770aaf79d4"
      },
      "outputs": [
        {
          "output_type": "stream",
          "name": "stdout",
          "text": [
            "100/100 [==============================] - 2s 14ms/step - loss: 0.1998 - categorical_accuracy: 0.9426\n",
            "Test accuracy 0.9426152110099792\n",
            "Test loss 0.19982542097568512\n"
          ]
        }
      ],
      "source": [
        "model = keras.models.load_model(\"xception2-2.h5\")\n",
        "\n",
        "test_loss, test_acc = model.evaluate(X_test[:,:,:], Y_test)\n",
        "\n",
        "print(\"Test accuracy\", test_acc)\n",
        "print(\"Test loss\", test_loss)"
      ]
    },
    {
      "cell_type": "code",
      "execution_count": null,
      "metadata": {
        "id": "FellN_9WRZzP",
        "colab": {
          "base_uri": "https://localhost:8080/",
          "height": 476
        },
        "outputId": "9d00add2-1656-4c0f-b48a-0185bd0982d6"
      },
      "outputs": [
        {
          "output_type": "display_data",
          "data": {
            "text/plain": [
              "<Figure size 640x480 with 1 Axes>"
            ],
            "image/png": "[encoded data removed]"
          },
          "metadata": {}
        }
      ],
      "source": [
        "metric = \"categorical_accuracy\"\n",
        "plt.figure()\n",
        "plt.plot(history.history[metric])\n",
        "plt.plot(history.history[\"val_\" + metric])\n",
        "plt.title(\"MiniTime's \" + metric)\n",
        "plt.ylabel(metric, fontsize=\"large\")\n",
        "plt.xlabel(\"epoch\", fontsize=\"large\")\n",
        "plt.legend([\"train\", \"val\"], loc=\"best\")\n",
        "plt.show()\n",
        "plt.close()"
      ]
    },
    {
      "cell_type": "code",
      "execution_count": null,
      "metadata": {
        "id": "Y235RZ51Q4jX",
        "colab": {
          "base_uri": "https://localhost:8080/"
        },
        "outputId": "6e9bab09-d9e1-4386-9432-5dd637414017"
      },
      "outputs": [
        {
          "output_type": "stream",
          "name": "stdout",
          "text": [
            "100/100 [==============================] - 2s 12ms/step\n"
          ]
        }
      ],
      "source": [
        "#Confusion Matrix and Classification Report\n",
        "\n",
        "y_pred=model.predict(X_test) \n",
        "y_pred=np.argmax(y_pred, axis=1)\n",
        "Y_test=np.argmax(Y_test, axis=1)\n"
      ]
    },
    {
      "cell_type": "code",
      "source": [
        "\n",
        "cm = confusion_matrix(Y_test, y_pred)\n",
        "print(cm)\n",
        "\n",
        "print('Classification Report')\n",
        "print(classification_report(Y_test, y_pred, target_names=classes))\n",
        "\n"
      ],
      "metadata": {
        "id": "uhSUbjyviUa0",
        "colab": {
          "base_uri": "https://localhost:8080/"
        },
        "outputId": "7f54af2f-1076-4a28-c5fd-eaeee0368ad1"
      },
      "execution_count": null,
      "outputs": [
        {
          "output_type": "stream",
          "name": "stdout",
          "text": [
            "[[415   4  10   0   2   3   2]\n",
            " [  3 301   7   0   3  11   7]\n",
            " [  3   0 655  17   0   2  12]\n",
            " [  0   0  17 452   2   0   1]\n",
            " [  0   8  11   4 305  15   0]\n",
            " [  2   5   2   3   8 329   1]\n",
            " [  1   0  15   1   0   1 549]]\n",
            "Classification Report\n",
            "              precision    recall  f1-score   support\n",
            "\n",
            "          I1       0.98      0.95      0.97       436\n",
            "         I11       0.95      0.91      0.93       332\n",
            "         I13       0.91      0.95      0.93       689\n",
            "          I3       0.95      0.96      0.95       472\n",
            "          I5       0.95      0.89      0.92       343\n",
            "          I7       0.91      0.94      0.93       350\n",
            "          I9       0.96      0.97      0.96       567\n",
            "\n",
            "    accuracy                           0.94      3189\n",
            "   macro avg       0.94      0.94      0.94      3189\n",
            "weighted avg       0.94      0.94      0.94      3189\n",
            "\n"
          ]
        }
      ]
    },
    {
      "cell_type": "code",
      "source": [
        "class_names = ['I1', 'I11', 'I13', 'I3', 'I5', 'I7', 'I9']\n",
        "\n",
        "cm_percent = cm.astype('float') / cm.sum(axis=1)[:, np.newaxis]\n",
        "plt.imshow(cm, interpolation='nearest', cmap=plt.cm.Blues)\n",
        "plt.title('Confusion Matrix')\n",
        "plt.colorbar()\n",
        "tick_marks = np.arange(len(class_names))\n",
        "plt.xticks(tick_marks, class_names, rotation=45)\n",
        "plt.yticks(tick_marks, class_names)\n",
        "thresh = cm.max() / 2.\n",
        "for i in range(cm.shape[0]):\n",
        "    for j in range(cm.shape[1]):\n",
        "        plt.text(j, i, format(cm_percent[i, j], '.2f'),\n",
        "                 horizontalalignment=\"center\",\n",
        "                 color=\"white\" if cm[i, j] > thresh else \"black\")\n",
        "plt.tight_layout()\n",
        "plt.ylabel('True label')\n",
        "plt.xlabel('Predicted label')\n",
        "plt.show()"
      ],
      "metadata": {
        "id": "BJOgso1Gim6g",
        "colab": {
          "base_uri": "https://localhost:8080/",
          "height": 506
        },
        "outputId": "a78ec24e-953b-483d-dd21-b68bcb1a1082"
      },
      "execution_count": null,
      "outputs": [
        {
          "output_type": "display_data",
          "data": {
            "text/plain": [
              "<Figure size 640x480 with 2 Axes>"
            ],
            "image/png": "[encoded data removed]"
          },
          "metadata": {}
        }
      ]
    },
    {
      "cell_type": "code",
      "execution_count": null,
      "metadata": {
        "id": "XorlWcV3m9ep",
        "colab": {
          "base_uri": "https://localhost:8080/"
        },
        "outputId": "c26d8b6c-0c22-44cc-b77b-34184ff13aa7"
      },
      "outputs": [
        {
          "output_type": "stream",
          "name": "stdout",
          "text": [
            "1/1 [==============================] - 0s 27ms/step\n",
            "CPU times: user 66.9 ms, sys: 3.03 ms, total: 69.9 ms\n",
            "Wall time: 65.9 ms\n"
          ]
        },
        {
          "output_type": "execute_result",
          "data": {
            "text/plain": [
              "array([[2.59954104e-04, 4.50225925e-05, 7.53590418e-03, 6.44150496e-05,\n",
              "        8.29910914e-06, 7.33647685e-05, 9.92013037e-01],\n",
              "       [2.64903530e-03, 1.80228637e-03, 2.21655965e-01, 2.37070839e-03,\n",
              "        6.51024107e-04, 1.53790193e-03, 7.69333184e-01],\n",
              "       [1.70701460e-05, 3.42112326e-05, 9.97584939e-01, 2.26161256e-03,\n",
              "        5.24069437e-05, 4.47346849e-07, 4.92660110e-05],\n",
              "       [8.11179169e-03, 9.73547816e-01, 4.08365420e-04, 4.91487037e-04,\n",
              "        1.25992578e-02, 4.54733334e-03, 2.93804595e-04],\n",
              "       [7.21916556e-04, 4.74513014e-04, 9.91638124e-01, 3.74966930e-03,\n",
              "        3.56861710e-04, 2.16952849e-05, 3.03718145e-03],\n",
              "       [9.57933753e-06, 1.54587706e-05, 9.97424006e-01, 2.51792232e-03,\n",
              "        2.53717917e-05, 1.18678514e-07, 7.54505436e-06],\n",
              "       [9.79058095e-04, 5.41694404e-04, 9.92233276e-01, 3.80193931e-03,\n",
              "        1.34737242e-03, 2.02807896e-05, 1.07627502e-03],\n",
              "       [1.34604288e-05, 1.40182919e-06, 5.41911322e-05, 2.54686665e-06,\n",
              "        6.61227730e-08, 7.43283090e-06, 9.99920845e-01],\n",
              "       [9.06590283e-01, 3.95859778e-03, 5.84547035e-03, 1.38782919e-03,\n",
              "        8.13589692e-02, 6.14543329e-04, 2.44283990e-04],\n",
              "       [6.66287888e-05, 1.71737120e-05, 1.85809749e-05, 1.26282857e-05,\n",
              "        3.66399775e-07, 9.32791663e-05, 9.99791324e-01]], dtype=float32)"
            ]
          },
          "metadata": {},
          "execution_count": 52
        }
      ],
      "source": [
        "%%time \n",
        "\n",
        "model.predict(X_test[:10])"
      ]
    },
    {
      "cell_type": "code",
      "execution_count": null,
      "metadata": {
        "id": "a5LzvyzfHGiz",
        "colab": {
          "base_uri": "https://localhost:8080/"
        },
        "outputId": "bf313e56-168c-41ea-86ed-1897d425da4a"
      },
      "outputs": [
        {
          "output_type": "execute_result",
          "data": {
            "text/plain": [
              "[name: \"/device:CPU:0\"\n",
              " device_type: \"CPU\"\n",
              " memory_limit: 268435456\n",
              " locality {\n",
              " }\n",
              " incarnation: 16138687428656895349\n",
              " xla_global_id: -1,\n",
              " name: \"/device:GPU:0\"\n",
              " device_type: \"GPU\"\n",
              " memory_limit: 40179924992\n",
              " locality {\n",
              "   bus_id: 1\n",
              "   links {\n",
              "   }\n",
              " }\n",
              " incarnation: 15933272623418084346\n",
              " physical_device_desc: \"device: 0, name: NVIDIA A100-SXM4-40GB, pci bus id: 0000:00:04.0, compute capability: 8.0\"\n",
              " xla_global_id: 416903419]"
            ]
          },
          "metadata": {},
          "execution_count": 50
        }
      ],
      "source": [
        "from tensorflow.python.client import device_lib\n",
        "device_lib.list_local_devices()"
      ]
    }
  ],
  "metadata": {
    "colab": {
      "collapsed_sections": [
        "kzYmorFbOby_",
        "Z21e1B9_OKf1"
      ],
      "machine_shape": "hm",
      "provenance": [],
      "gpuType": "A100",
      "mount_file_id": "1_avgn-aBGMXGtPD7MRZBkiQvN9Z7K8MY",
      "authorship_tag": "ABX9TyOhER46UGhm8ZyKbr5LWLfH",
      "include_colab_link": true
    },
    "gpuClass": "premium",
    "kernelspec": {
      "display_name": "Python 3",
      "name": "python3"
    },
    "language_info": {
      "name": "python"
    },
    "accelerator": "GPU"
  },
  "nbformat": 4,
  "nbformat_minor": 0
}