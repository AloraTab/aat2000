{
  "cells": [
    {
      "cell_type": "markdown",
      "metadata": {
        "id": "view-in-github",
        "colab_type": "text"
      },
      "source": [
        "<a href=\"https://colab.research.google.com/github/AloraTab/aat2000/blob/main/dissy.ipynb\" target=\"_parent\"><img src=\"https://colab.research.google.com/assets/colab-badge.svg\" alt=\"Open In Colab\"/></a>"
      ]
    },
    {
      "cell_type": "markdown",
      "metadata": {
        "id": "18ye21aUJuyL"
      },
      "source": [
        "# Setup"
      ]
    },
    {
      "cell_type": "code",
      "execution_count": null,
      "metadata": {
        "colab": {
          "base_uri": "https://localhost:8080/",
          "height": 1000
        },
        "id": "igoiIt__W5xU",
        "outputId": "88dc09a3-4a91-4d29-ac1c-008f5f19106f"
      },
      "outputs": [
        {
          "output_type": "stream",
          "name": "stdout",
          "text": [
            "Looking in indexes: https://pypi.org/simple, https://us-python.pkg.dev/colab-wheels/public/simple/\n",
            "Requirement already satisfied: pandas==1.5.3 in /usr/local/lib/python3.9/dist-packages (1.5.3)\n",
            "Requirement already satisfied: python-dateutil>=2.8.1 in /usr/local/lib/python3.9/dist-packages (from pandas==1.5.3) (2.8.2)\n",
            "Requirement already satisfied: numpy>=1.20.3 in /usr/local/lib/python3.9/dist-packages (from pandas==1.5.3) (1.22.4)\n",
            "Requirement already satisfied: pytz>=2020.1 in /usr/local/lib/python3.9/dist-packages (from pandas==1.5.3) (2022.7.1)\n",
            "Requirement already satisfied: six>=1.5 in /usr/local/lib/python3.9/dist-packages (from python-dateutil>=2.8.1->pandas==1.5.3) (1.16.0)\n",
            "Looking in indexes: https://pypi.org/simple, https://us-python.pkg.dev/colab-wheels/public/simple/\n",
            "Collecting tensorflow-addons==0.19.0\n",
            "  Downloading tensorflow_addons-0.19.0-cp39-cp39-manylinux_2_17_x86_64.manylinux2014_x86_64.whl (1.1 MB)\n",
            "\u001b[2K     \u001b[90m━━━━━━━━━━━━━━━━━━━━━━━━━━━━━━━━━━━━━━━━\u001b[0m \u001b[32m1.1/1.1 MB\u001b[0m \u001b[31m52.1 MB/s\u001b[0m eta \u001b[36m0:00:00\u001b[0m\n",
            "\u001b[?25hRequirement already satisfied: packaging in /usr/local/lib/python3.9/dist-packages (from tensorflow-addons==0.19.0) (23.0)\n",
            "Collecting typeguard>=2.7\n",
            "  Downloading typeguard-3.0.2-py3-none-any.whl (30 kB)\n",
            "Requirement already satisfied: typing-extensions>=4.4.0 in /usr/local/lib/python3.9/dist-packages (from typeguard>=2.7->tensorflow-addons==0.19.0) (4.5.0)\n",
            "Requirement already satisfied: importlib-metadata>=3.6 in /usr/local/lib/python3.9/dist-packages (from typeguard>=2.7->tensorflow-addons==0.19.0) (6.2.0)\n",
            "Requirement already satisfied: zipp>=0.5 in /usr/local/lib/python3.9/dist-packages (from importlib-metadata>=3.6->typeguard>=2.7->tensorflow-addons==0.19.0) (3.15.0)\n",
            "Installing collected packages: typeguard, tensorflow-addons\n",
            "Successfully installed tensorflow-addons-0.19.0 typeguard-3.0.2\n",
            "Looking in indexes: https://pypi.org/simple, https://us-python.pkg.dev/colab-wheels/public/simple/\n",
            "Collecting tensorflow==2.11.0\n",
            "  Downloading tensorflow-2.11.0-cp39-cp39-manylinux_2_17_x86_64.manylinux2014_x86_64.whl (588.3 MB)\n",
            "\u001b[2K     \u001b[90m━━━━━━━━━━━━━━━━━━━━━━━━━━━━━━━━━━━━━━━\u001b[0m \u001b[32m588.3/588.3 MB\u001b[0m \u001b[31m1.9 MB/s\u001b[0m eta \u001b[36m0:00:00\u001b[0m\n",
            "\u001b[?25hRequirement already satisfied: libclang>=13.0.0 in /usr/local/lib/python3.9/dist-packages (from tensorflow==2.11.0) (16.0.0)\n",
            "Requirement already satisfied: numpy>=1.20 in /usr/local/lib/python3.9/dist-packages (from tensorflow==2.11.0) (1.22.4)\n",
            "Requirement already satisfied: termcolor>=1.1.0 in /usr/local/lib/python3.9/dist-packages (from tensorflow==2.11.0) (2.2.0)\n",
            "Requirement already satisfied: wrapt>=1.11.0 in /usr/local/lib/python3.9/dist-packages (from tensorflow==2.11.0) (1.14.1)\n",
            "Requirement already satisfied: google-pasta>=0.1.1 in /usr/local/lib/python3.9/dist-packages (from tensorflow==2.11.0) (0.2.0)\n",
            "Requirement already satisfied: flatbuffers>=2.0 in /usr/local/lib/python3.9/dist-packages (from tensorflow==2.11.0) (23.3.3)\n",
            "Requirement already satisfied: setuptools in /usr/local/lib/python3.9/dist-packages (from tensorflow==2.11.0) (67.6.1)\n",
            "Requirement already satisfied: opt-einsum>=2.3.2 in /usr/local/lib/python3.9/dist-packages (from tensorflow==2.11.0) (3.3.0)\n",
            "Requirement already satisfied: tensorflow-io-gcs-filesystem>=0.23.1 in /usr/local/lib/python3.9/dist-packages (from tensorflow==2.11.0) (0.32.0)\n",
            "Requirement already satisfied: typing-extensions>=3.6.6 in /usr/local/lib/python3.9/dist-packages (from tensorflow==2.11.0) (4.5.0)\n",
            "Requirement already satisfied: grpcio<2.0,>=1.24.3 in /usr/local/lib/python3.9/dist-packages (from tensorflow==2.11.0) (1.53.0)\n",
            "Requirement already satisfied: packaging in /usr/local/lib/python3.9/dist-packages (from tensorflow==2.11.0) (23.0)\n",
            "Requirement already satisfied: astunparse>=1.6.0 in /usr/local/lib/python3.9/dist-packages (from tensorflow==2.11.0) (1.6.3)\n",
            "Collecting tensorboard<2.12,>=2.11\n",
            "  Downloading tensorboard-2.11.2-py3-none-any.whl (6.0 MB)\n",
            "\u001b[2K     \u001b[90m━━━━━━━━━━━━━━━━━━━━━━━━━━━━━━━━━━━━━━━━\u001b[0m \u001b[32m6.0/6.0 MB\u001b[0m \u001b[31m106.2 MB/s\u001b[0m eta \u001b[36m0:00:00\u001b[0m\n",
            "\u001b[?25hRequirement already satisfied: h5py>=2.9.0 in /usr/local/lib/python3.9/dist-packages (from tensorflow==2.11.0) (3.8.0)\n",
            "Collecting keras<2.12,>=2.11.0\n",
            "  Downloading keras-2.11.0-py2.py3-none-any.whl (1.7 MB)\n",
            "\u001b[2K     \u001b[90m━━━━━━━━━━━━━━━━━━━━━━━━━━━━━━━━━━━━━━━━\u001b[0m \u001b[32m1.7/1.7 MB\u001b[0m \u001b[31m87.1 MB/s\u001b[0m eta \u001b[36m0:00:00\u001b[0m\n",
            "\u001b[?25hCollecting protobuf<3.20,>=3.9.2\n",
            "  Downloading protobuf-3.19.6-cp39-cp39-manylinux_2_17_x86_64.manylinux2014_x86_64.whl (1.1 MB)\n",
            "\u001b[2K     \u001b[90m━━━━━━━━━━━━━━━━━━━━━━━━━━━━━━━━━━━━━━━━\u001b[0m \u001b[32m1.1/1.1 MB\u001b[0m \u001b[31m73.7 MB/s\u001b[0m eta \u001b[36m0:00:00\u001b[0m\n",
            "\u001b[?25hRequirement already satisfied: gast<=0.4.0,>=0.2.1 in /usr/local/lib/python3.9/dist-packages (from tensorflow==2.11.0) (0.4.0)\n",
            "Collecting tensorflow-estimator<2.12,>=2.11.0\n",
            "  Downloading tensorflow_estimator-2.11.0-py2.py3-none-any.whl (439 kB)\n",
            "\u001b[2K     \u001b[90m━━━━━━━━━━━━━━━━━━━━━━━━━━━━━━━━━━━━━━\u001b[0m \u001b[32m439.2/439.2 kB\u001b[0m \u001b[31m49.3 MB/s\u001b[0m eta \u001b[36m0:00:00\u001b[0m\n",
            "\u001b[?25hRequirement already satisfied: six>=1.12.0 in /usr/local/lib/python3.9/dist-packages (from tensorflow==2.11.0) (1.16.0)\n",
            "Requirement already satisfied: absl-py>=1.0.0 in /usr/local/lib/python3.9/dist-packages (from tensorflow==2.11.0) (1.4.0)\n",
            "Requirement already satisfied: wheel<1.0,>=0.23.0 in /usr/local/lib/python3.9/dist-packages (from astunparse>=1.6.0->tensorflow==2.11.0) (0.40.0)\n",
            "Requirement already satisfied: markdown>=2.6.8 in /usr/local/lib/python3.9/dist-packages (from tensorboard<2.12,>=2.11->tensorflow==2.11.0) (3.4.3)\n",
            "Collecting google-auth-oauthlib<0.5,>=0.4.1\n",
            "  Downloading google_auth_oauthlib-0.4.6-py2.py3-none-any.whl (18 kB)\n",
            "Collecting tensorboard-data-server<0.7.0,>=0.6.0\n",
            "  Downloading tensorboard_data_server-0.6.1-py3-none-manylinux2010_x86_64.whl (4.9 MB)\n",
            "\u001b[2K     \u001b[90m━━━━━━━━━━━━━━━━━━━━━━━━━━━━━━━━━━━━━━━━\u001b[0m \u001b[32m4.9/4.9 MB\u001b[0m \u001b[31m106.0 MB/s\u001b[0m eta \u001b[36m0:00:00\u001b[0m\n",
            "\u001b[?25hRequirement already satisfied: requests<3,>=2.21.0 in /usr/local/lib/python3.9/dist-packages (from tensorboard<2.12,>=2.11->tensorflow==2.11.0) (2.27.1)\n",
            "Requirement already satisfied: google-auth<3,>=1.6.3 in /usr/local/lib/python3.9/dist-packages (from tensorboard<2.12,>=2.11->tensorflow==2.11.0) (2.17.2)\n",
            "Requirement already satisfied: werkzeug>=1.0.1 in /usr/local/lib/python3.9/dist-packages (from tensorboard<2.12,>=2.11->tensorflow==2.11.0) (2.2.3)\n",
            "Requirement already satisfied: tensorboard-plugin-wit>=1.6.0 in /usr/local/lib/python3.9/dist-packages (from tensorboard<2.12,>=2.11->tensorflow==2.11.0) (1.8.1)\n",
            "Requirement already satisfied: cachetools<6.0,>=2.0.0 in /usr/local/lib/python3.9/dist-packages (from google-auth<3,>=1.6.3->tensorboard<2.12,>=2.11->tensorflow==2.11.0) (5.3.0)\n",
            "Requirement already satisfied: pyasn1-modules>=0.2.1 in /usr/local/lib/python3.9/dist-packages (from google-auth<3,>=1.6.3->tensorboard<2.12,>=2.11->tensorflow==2.11.0) (0.2.8)\n",
            "Requirement already satisfied: rsa<5,>=3.1.4 in /usr/local/lib/python3.9/dist-packages (from google-auth<3,>=1.6.3->tensorboard<2.12,>=2.11->tensorflow==2.11.0) (4.9)\n",
            "Requirement already satisfied: requests-oauthlib>=0.7.0 in /usr/local/lib/python3.9/dist-packages (from google-auth-oauthlib<0.5,>=0.4.1->tensorboard<2.12,>=2.11->tensorflow==2.11.0) (1.3.1)\n",
            "Requirement already satisfied: importlib-metadata>=4.4 in /usr/local/lib/python3.9/dist-packages (from markdown>=2.6.8->tensorboard<2.12,>=2.11->tensorflow==2.11.0) (6.2.0)\n",
            "Requirement already satisfied: certifi>=2017.4.17 in /usr/local/lib/python3.9/dist-packages (from requests<3,>=2.21.0->tensorboard<2.12,>=2.11->tensorflow==2.11.0) (2022.12.7)\n",
            "Requirement already satisfied: idna<4,>=2.5 in /usr/local/lib/python3.9/dist-packages (from requests<3,>=2.21.0->tensorboard<2.12,>=2.11->tensorflow==2.11.0) (3.4)\n",
            "Requirement already satisfied: urllib3<1.27,>=1.21.1 in /usr/local/lib/python3.9/dist-packages (from requests<3,>=2.21.0->tensorboard<2.12,>=2.11->tensorflow==2.11.0) (1.26.15)\n",
            "Requirement already satisfied: charset-normalizer~=2.0.0 in /usr/local/lib/python3.9/dist-packages (from requests<3,>=2.21.0->tensorboard<2.12,>=2.11->tensorflow==2.11.0) (2.0.12)\n",
            "Requirement already satisfied: MarkupSafe>=2.1.1 in /usr/local/lib/python3.9/dist-packages (from werkzeug>=1.0.1->tensorboard<2.12,>=2.11->tensorflow==2.11.0) (2.1.2)\n",
            "Requirement already satisfied: zipp>=0.5 in /usr/local/lib/python3.9/dist-packages (from importlib-metadata>=4.4->markdown>=2.6.8->tensorboard<2.12,>=2.11->tensorflow==2.11.0) (3.15.0)\n",
            "Requirement already satisfied: pyasn1<0.5.0,>=0.4.6 in /usr/local/lib/python3.9/dist-packages (from pyasn1-modules>=0.2.1->google-auth<3,>=1.6.3->tensorboard<2.12,>=2.11->tensorflow==2.11.0) (0.4.8)\n",
            "Requirement already satisfied: oauthlib>=3.0.0 in /usr/local/lib/python3.9/dist-packages (from requests-oauthlib>=0.7.0->google-auth-oauthlib<0.5,>=0.4.1->tensorboard<2.12,>=2.11->tensorflow==2.11.0) (3.2.2)\n",
            "Installing collected packages: tensorflow-estimator, tensorboard-data-server, protobuf, keras, google-auth-oauthlib, tensorboard, tensorflow\n",
            "  Attempting uninstall: tensorflow-estimator\n",
            "    Found existing installation: tensorflow-estimator 2.12.0\n",
            "    Uninstalling tensorflow-estimator-2.12.0:\n",
            "      Successfully uninstalled tensorflow-estimator-2.12.0\n",
            "  Attempting uninstall: tensorboard-data-server\n",
            "    Found existing installation: tensorboard-data-server 0.7.0\n",
            "    Uninstalling tensorboard-data-server-0.7.0:\n",
            "      Successfully uninstalled tensorboard-data-server-0.7.0\n",
            "  Attempting uninstall: protobuf\n",
            "    Found existing installation: protobuf 3.20.3\n",
            "    Uninstalling protobuf-3.20.3:\n",
            "      Successfully uninstalled protobuf-3.20.3\n",
            "  Attempting uninstall: keras\n",
            "    Found existing installation: keras 2.12.0\n",
            "    Uninstalling keras-2.12.0:\n",
            "      Successfully uninstalled keras-2.12.0\n",
            "  Attempting uninstall: google-auth-oauthlib\n",
            "    Found existing installation: google-auth-oauthlib 1.0.0\n",
            "    Uninstalling google-auth-oauthlib-1.0.0:\n",
            "      Successfully uninstalled google-auth-oauthlib-1.0.0\n",
            "  Attempting uninstall: tensorboard\n",
            "    Found existing installation: tensorboard 2.12.1\n",
            "    Uninstalling tensorboard-2.12.1:\n",
            "      Successfully uninstalled tensorboard-2.12.1\n",
            "  Attempting uninstall: tensorflow\n",
            "    Found existing installation: tensorflow 2.12.0\n",
            "    Uninstalling tensorflow-2.12.0:\n",
            "      Successfully uninstalled tensorflow-2.12.0\n",
            "Successfully installed google-auth-oauthlib-0.4.6 keras-2.11.0 protobuf-3.19.6 tensorboard-2.11.2 tensorboard-data-server-0.6.1 tensorflow-2.11.0 tensorflow-estimator-2.11.0\n"
          ]
        },
        {
          "output_type": "display_data",
          "data": {
            "application/vnd.colab-display-data+json": {
              "pip_warning": {
                "packages": [
                  "google"
                ]
              }
            }
          },
          "metadata": {}
        }
      ],
      "source": [
        "%pip install pandas==1.5.3\n",
        "%pip install tensorflow-addons==0.19.0\n",
        "%pip install tensorflow==2.11.0\n"
      ]
    },
    {
      "cell_type": "code",
      "execution_count": null,
      "metadata": {
        "id": "VU0wpJkMk1O1"
      },
      "outputs": [],
      "source": [
        "from tensorflow import keras\n",
        "from keras.utils import np_utils\n",
        "from sklearn.model_selection import train_test_split\n",
        "from sklearn.preprocessing import LabelEncoder\n",
        "from keras.layers.convolutional import Conv2D, MaxPooling2D, SeparableConv2D\n",
        "from keras.layers import Attention\n",
        "from sklearn.metrics import classification_report, confusion_matrix\n",
        "from tensorflow.keras.optimizers.schedules import ExponentialDecay, CosineDecayRestarts\n",
        "from keras.callbacks import Callback\n",
        "from keras import backend as K\n",
        "\n",
        "import tensorflow as tf\n",
        "import pandas as pd\n",
        "import numpy as np\n",
        "import matplotlib.pyplot as plt\n",
        "import os\n",
        "import math"
      ]
    },
    {
      "cell_type": "markdown",
      "metadata": {
        "id": "kzYmorFbOby_"
      },
      "source": [
        "## Imported Classes"
      ]
    },
    {
      "cell_type": "code",
      "execution_count": null,
      "metadata": {
        "id": "atWNoSB1xERL"
      },
      "outputs": [],
      "source": [
        "# Cosine Annealing Scheduler\n",
        "# https://github.com/4uiiurz1/keras-cosine-annealing/blob/master/cosine_annealing.py\n",
        "\n",
        "class CosineAnnealingScheduler(Callback):\n",
        "    \"\"\"Cosine annealing scheduler.\n",
        "    \"\"\"\n",
        "\n",
        "    def __init__(self, T_max, eta_max, eta_min=0, verbose=0):\n",
        "        super(CosineAnnealingScheduler, self).__init__()\n",
        "        self.T_max = T_max\n",
        "        self.eta_max = eta_max\n",
        "        self.eta_min = eta_min\n",
        "        self.verbose = verbose\n",
        "\n",
        "    def on_epoch_begin(self, epoch, logs=None):\n",
        "        if not hasattr(self.model.optimizer, 'lr'):\n",
        "            raise ValueError('Optimizer must have a \"lr\" attribute.')\n",
        "        lr = self.eta_min + (self.eta_max - self.eta_min) * (1 + math.cos(math.pi * epoch / self.T_max)) / 2\n",
        "        K.set_value(self.model.optimizer.lr, lr)\n",
        "        if self.verbose > 0:\n",
        "            print('\\nEpoch %05d: CosineAnnealingScheduler setting learning '\n",
        "                  'rate to %s.' % (epoch + 1, lr))\n",
        "\n",
        "    def on_epoch_end(self, epoch, logs=None):\n",
        "        logs = logs or {}\n",
        "        logs['lr'] = K.get_value(self.model.optimizer.lr)"
      ]
    },
    {
      "cell_type": "code",
      "execution_count": null,
      "metadata": {
        "id": "PQUyj62yLEFQ"
      },
      "outputs": [],
      "source": [
        "# LR Finder in Keras\n",
        "# https://github.com/avanwyk/tensorflow-projects/tree/master/lr-finder\n",
        "\n",
        "class LRFinder(Callback):\n",
        "    \"\"\"`Callback` that exponentially adjusts the learning rate after each training batch between `start_lr` and\n",
        "    `end_lr` for a maximum number of batches: `max_step`. The loss and learning rate are recorded at each step allowing\n",
        "    visually finding a good learning rate as per https://sgugger.github.io/how-do-you-find-a-good-learning-rate.html via\n",
        "    the `plot` method.\n",
        "    \"\"\"\n",
        "\n",
        "    def __init__(self, start_lr: float = 1e-7, end_lr: float = 10, max_steps: int = 100, smoothing=0.9):\n",
        "        super(LRFinder, self).__init__()\n",
        "        self.start_lr, self.end_lr = start_lr, end_lr\n",
        "        self.max_steps = max_steps\n",
        "        self.smoothing = smoothing\n",
        "        self.step, self.best_loss, self.avg_loss, self.lr = 0, 0, 0, 0\n",
        "        self.lrs, self.losses = [], []\n",
        "\n",
        "    def on_train_begin(self, logs=None):\n",
        "        self.step, self.best_loss, self.avg_loss, self.lr = 0, 0, 0, 0\n",
        "        self.lrs, self.losses = [], []\n",
        "\n",
        "    def on_train_batch_begin(self, batch, logs=None):\n",
        "        self.lr = self.exp_annealing(self.step)\n",
        "        tf.keras.backend.set_value(self.model.optimizer.lr, self.lr)\n",
        "\n",
        "    def on_train_batch_end(self, batch, logs=None):\n",
        "        logs = logs or {}\n",
        "        loss = logs.get('loss')\n",
        "        step = self.step\n",
        "        if loss:\n",
        "            self.avg_loss = self.smoothing * self.avg_loss + (1 - self.smoothing) * loss\n",
        "            smooth_loss = self.avg_loss / (1 - self.smoothing ** (self.step + 1))\n",
        "            self.losses.append(smooth_loss)\n",
        "            self.lrs.append(self.lr)\n",
        "\n",
        "            if step == 0 or loss < self.best_loss:\n",
        "                self.best_loss = loss\n",
        "\n",
        "            if smooth_loss > 4 * self.best_loss or tf.math.is_nan(smooth_loss):\n",
        "                self.model.stop_training = True\n",
        "\n",
        "        if step == self.max_steps:\n",
        "            self.model.stop_training = True\n",
        "\n",
        "        self.step += 1\n",
        "\n",
        "    def exp_annealing(self, step):\n",
        "        return self.start_lr * (self.end_lr / self.start_lr) ** (step * 1. / self.max_steps)\n",
        "\n",
        "    def plot(self):\n",
        "        fig, ax = plt.subplots(1, 1)\n",
        "        ax.set_ylabel('Loss')\n",
        "        ax.set_xlabel('Learning Rate (log scale)')\n",
        "        ax.set_xscale('log')\n",
        "        ax.xaxis.set_major_formatter(plt.FormatStrFormatter('%.0e'))\n",
        "        ax.plot(self.lrs, self.losses)"
      ]
    },
    {
      "cell_type": "code",
      "execution_count": null,
      "metadata": {
        "id": "Hrbft0GWglE5"
      },
      "outputs": [],
      "source": [
        "#https://github.com/nathanhubens/KerasOneCycle\n",
        "from keras.callbacks import Callback\n",
        "import keras.backend as K\n",
        "import numpy as np\n",
        "import matplotlib.pyplot as plt\n",
        "\n",
        "#####################\n",
        "##### OneCycle  #####\n",
        "#####################\n",
        "\n",
        "          \n",
        "class OneCycle(Callback):\n",
        "    \"\"\"This callback implements a cyclical learning rate and momentum policy (CLR).\n",
        "    The method cycles the learning rate between two boundaries with\n",
        "    some constant frequency, as detailed in this paper (https://arxiv.org/abs/1506.01186).\n",
        "    The amplitude of the cycle can be scaled on a per-iteration \n",
        "    For more detail, please see paper.\n",
        "    \n",
        "    # Example\n",
        "        ```python\n",
        "            clr = OneCycle(min_lr=1e-3, max_lr=1e-2,\n",
        "                      min_mtm=0.85, max_mtm=0.95,\n",
        "                      annealing=0.1,step_size=np.ceil((X_train.shape[0]*epochs/batch_size)))\n",
        "            model.fit(X_train, Y_train, callbacks=[clr])\n",
        "        ```\n",
        "    \n",
        "    # Arguments\n",
        "        min_lr: initial learning rate which is the\n",
        "            lower boundary in the cycle.\n",
        "        max_lr: upper boundary in the cycle. Functionally,\n",
        "            it defines the cycle amplitude (max_lr - min_lr).\n",
        "        step_size: number of training iterations in the cycle. To define as `np.ceil((X_train.shape[0]*epochs/batch_size))`\n",
        "        max_mtm : initial value of the momentum    \n",
        "        min_mtm : lower boundary in the cycle.\n",
        "        annealing_stage : percentage of the iterations where the lr\n",
        "                    will decrease lower than its min_lr\n",
        "        annealing_rate : in annealing phase learning rate will be decreased to annealing_rate*min_lr\n",
        "                    \n",
        "        # References\n",
        "        Original paper: https://arxiv.org/pdf/1803.09820.pdf\n",
        "        Inspired by : https://sgugger.github.io/the-1cycle-policy.html#the-1cycle-policy\n",
        "    \"\"\"\n",
        "\n",
        "    def __init__(self, min_lr=1e-5, max_lr=1e-2, min_mtm = 0.85, max_mtm=0.95, training_iterations=1000.,\n",
        "                 annealing_stage=0.1, annealing_rate=0.01):\n",
        "\n",
        "        self.min_lr = min_lr\n",
        "        self.max_lr = max_lr\n",
        "        self.min_mtm = min_mtm\n",
        "        self.max_mtm = max_mtm\n",
        "        self.annealing_stage = annealing_stage\n",
        "        self.step_size = training_iterations*(1-self.annealing_stage)/2\n",
        "        self.min_annealing_lr = annealing_rate * min_lr\n",
        "        self.iterations = 0.\n",
        "        self.training_iterations = training_iterations\n",
        "        self.history = {}\n",
        "        \n",
        "    def clr(self):\n",
        "        if self.iterations < 2*self.step_size :\n",
        "            x = np.abs(self.iterations/self.step_size - 1)\n",
        "            return self.min_lr + (self.max_lr-self.min_lr)*(1-x)\n",
        "        else:\n",
        "            x = min(1, float(self.iterations - 2 * self.step_size) / (self.training_iterations - 2 * self.step_size))\n",
        "            return self.min_lr - (self.min_lr - self.min_annealing_lr) * x\n",
        "        \n",
        "    \n",
        "    def cmtm(self):\n",
        "        if self.iterations < 2*self.step_size :   \n",
        "            x = np.abs(self.iterations/self.step_size - 1)\n",
        "        else: \n",
        "            x=1\n",
        "        return self.min_mtm + (self.max_mtm-self.min_mtm)*(x)     \n",
        "        \n",
        "    def on_train_begin(self, logs={}):\n",
        "        logs = logs or {}\n",
        "        K.set_value(self.model.optimizer.lr, self.min_lr)\n",
        "        K.set_value(self.model.optimizer.momentum, self.max_mtm)\n",
        "         \n",
        "    def on_batch_end(self, batch, logs=None):\n",
        "        \n",
        "        logs = logs or {}\n",
        "        self.iterations += 1\n",
        "    \n",
        "        self.history.setdefault('lr', []).append(K.get_value(self.model.optimizer.lr))\n",
        "        self.history.setdefault('momentum', []).append(K.get_value(self.model.optimizer.momentum))\n",
        "        self.history.setdefault('iterations', []).append(self.iterations)\n",
        "\n",
        "        for k, v in logs.items():\n",
        "            self.history.setdefault(k, []).append(v)\n",
        "        \n",
        "        K.set_value(self.model.optimizer.lr, self.clr()) \n",
        "        K.set_value(self.model.optimizer.momentum, self.cmtm())\n",
        "        \n",
        "    def plot_lr(self):\n",
        "        plt.xlabel('Training Iterations')\n",
        "        plt.ylabel('Learning Rate')\n",
        "        plt.title(\"CLR - '1 cycle' Policy\")\n",
        "        plt.plot(self.history['iterations'], self.history['lr'])\n",
        "        \n",
        "    def plot_mtm(self):\n",
        "        plt.xlabel('Training Iterations')\n",
        "        plt.ylabel('Momentum')\n",
        "        plt.title(\"CLR - '1 cycle' Policy\")\n",
        "        plt.plot(self.history['iterations'], self.history['momentum'])"
      ]
    },
    {
      "cell_type": "markdown",
      "metadata": {
        "id": "Tagc4GM2KCxT"
      },
      "source": [
        "# Preparing Dataset"
      ]
    },
    {
      "cell_type": "code",
      "execution_count": null,
      "metadata": {
        "colab": {
          "base_uri": "https://localhost:8080/"
        },
        "id": "bD1v8irVVL8A",
        "outputId": "bba263e6-458f-4c0d-8bdd-0948e5b705ed"
      },
      "outputs": [
        {
          "output_type": "stream",
          "name": "stdout",
          "text": [
            "Mounted at /content/gdrive\n"
          ]
        }
      ],
      "source": [
        "from google.colab import drive\n",
        "drive.mount('/content/gdrive')"
      ]
    },
    {
      "cell_type": "code",
      "execution_count": null,
      "metadata": {
        "colab": {
          "base_uri": "https://localhost:8080/"
        },
        "id": "x5-JT2q-WN6F",
        "outputId": "1dc4eaa4-e3ae-4d87-88e5-b76028888049"
      },
      "outputs": [
        {
          "output_type": "stream",
          "name": "stdout",
          "text": [
            "/content/gdrive/MyDrive/Colab Notebooks/Dataset/csi-dataset-29-7-5-more.pkl\n"
          ]
        }
      ],
      "source": [
        "PATH = '/content/gdrive/MyDrive/Colab Notebooks/Dataset'\n",
        "fileName = 'csi-dataset-29-7-5-more.pkl'\n",
        "fullPath = os.path.join(PATH, fileName)\n",
        "print(fullPath)"
      ]
    },
    {
      "cell_type": "code",
      "execution_count": null,
      "metadata": {
        "id": "qPFc8j7Sl_AE"
      },
      "outputs": [],
      "source": [
        "df = pd.read_pickle(fullPath)"
      ]
    },
    {
      "cell_type": "code",
      "execution_count": null,
      "metadata": {
        "id": "9OTolodRQ-6R"
      },
      "outputs": [],
      "source": [
        "# df = df.sample(frac=1)\n",
        "Y = df['Label'].values\n",
        "X = df['Sample'].values\n",
        "X = [[np.asarray(sample) for sample in i] for i in X]\n",
        "X = np.asarray(X).astype('float32')"
      ]
    },
    {
      "cell_type": "code",
      "execution_count": null,
      "metadata": {
        "colab": {
          "base_uri": "https://localhost:8080/"
        },
        "id": "jqNzG8VaOtPD",
        "outputId": "953ee84f-f31e-4070-e577-7c3d7c6bd125"
      },
      "outputs": [
        {
          "output_type": "execute_result",
          "data": {
            "text/plain": [
              "(10627, 256, 180)"
            ]
          },
          "metadata": {},
          "execution_count": 10
        }
      ],
      "source": [
        "X.shape"
      ]
    },
    {
      "cell_type": "code",
      "execution_count": null,
      "metadata": {
        "id": "mpSnjlqxJRGZ"
      },
      "outputs": [],
      "source": [
        "# unique, counts = np.unique(Y_test, return_counts=True)\n",
        "# print(np.asarray((unique, counts)).T)"
      ]
    },
    {
      "cell_type": "code",
      "execution_count": null,
      "metadata": {
        "id": "4nj7Tr5NLTgl"
      },
      "outputs": [],
      "source": [
        "encoder = LabelEncoder()\n",
        "encoder.fit(Y)\n",
        "encoded_Y = encoder.transform(Y)\n",
        "vectorized_y = np_utils.to_categorical(encoded_Y)"
      ]
    },
    {
      "cell_type": "code",
      "execution_count": null,
      "metadata": {
        "colab": {
          "base_uri": "https://localhost:8080/"
        },
        "id": "JAFDwJkoAN7s",
        "outputId": "d418bef9-f68d-4044-a90e-47f13d02c486"
      },
      "outputs": [
        {
          "output_type": "stream",
          "name": "stdout",
          "text": [
            "['I1' 'I11' 'I13' 'I3' 'I5' 'I7' 'I9']\n"
          ]
        }
      ],
      "source": [
        "classes = encoder.classes_\n",
        "print(classes)"
      ]
    },
    {
      "cell_type": "code",
      "execution_count": null,
      "metadata": {
        "id": "vZpv6d3uRBgV"
      },
      "outputs": [],
      "source": [
        "X_train, X_test, Y_train, Y_test = train_test_split(X,vectorized_y, test_size=0.3, random_state=40)"
      ]
    },
    {
      "cell_type": "code",
      "execution_count": null,
      "metadata": {
        "id": "UibBIJWtRCkL"
      },
      "outputs": [],
      "source": [
        "X_train = X_train.reshape((X_train.shape[0], X_train.shape[1],X_train.shape[2],1))\n",
        "X_test = X_test.reshape((X_test.shape[0], X_test.shape[1],X_test.shape[2],1))\n",
        "\n",
        "X_train = tf.convert_to_tensor(X_train)\n",
        "Y_train = tf.convert_to_tensor(Y_train)"
      ]
    },
    {
      "cell_type": "markdown",
      "metadata": {
        "id": "EmE5iAnfKuK4"
      },
      "source": [
        "# Building Model"
      ]
    },
    {
      "cell_type": "markdown",
      "metadata": {
        "id": "Z21e1B9_OKf1"
      },
      "source": [
        "### Custom Components"
      ]
    },
    {
      "cell_type": "code",
      "execution_count": null,
      "metadata": {
        "id": "5B8Uwo10OfQ6"
      },
      "outputs": [],
      "source": [
        "# Residual Connections using code from below as well as the residual connections from XCeption\n",
        "# https://stackoverflow.com/questions/64792460/how-to-code-a-residual-block-using-two-layers-of-a-basic-cnn-algorithm-built-wit\n",
        "\n",
        "def resblock(x, kernelsize, filters):\n",
        "    fx = keras.layers.Conv2D(filters, kernelsize, activation='relu', padding='same')(x)\n",
        "    fx = keras.layers.BatchNormalization()(fx)\n",
        "    fx = keras.layers.Conv2D(filters, kernelsize, padding='same')(fx)\n",
        "    out = keras.layers.Add()([x,fx])\n",
        "    out = keras.layers.ReLU()(out)\n",
        "    out = keras.layers.BatchNormalization()(out)\n",
        "    return out"
      ]
    },
    {
      "cell_type": "code",
      "execution_count": null,
      "metadata": {
        "id": "CDOv6JpKRG47"
      },
      "outputs": [],
      "source": [
        "# Mish Activation\n",
        "def mish(inputs):\n",
        "    x = tf.nn.softplus(inputs)\n",
        "    x = tf.nn.tanh(x)\n",
        "    x = tf.multiply(x,inputs)\n",
        "    return x"
      ]
    },
    {
      "cell_type": "code",
      "execution_count": null,
      "metadata": {
        "id": "Kmg26DSAG_J0"
      },
      "outputs": [],
      "source": [
        "# Ranger Optimizer\n",
        "# www.kaggle.com/code/yazanmajzob/ranger-optimizeranvas.com\n",
        "\n",
        "import tensorflow_addons as tfa\n",
        "\n",
        "def Ranger(sync_period=6,\n",
        "           slow_step_size=0.5,\n",
        "           learning_rate=0.001,\n",
        "           beta_1=0.9,\n",
        "           beta_2=0.999,\n",
        "           epsilon=1e-7,\n",
        "           weight_decay=0.,\n",
        "           amsgrad=False,\n",
        "           sma_threshold=5.0,\n",
        "           total_steps=0,\n",
        "           warmup_proportion=0.1,\n",
        "           min_lr=0.,\n",
        "           name=\"Ranger\"):\n",
        "    inner = tfa.optimizers.RectifiedAdam(learning_rate, beta_1, beta_2, epsilon, weight_decay, amsgrad, sma_threshold, total_steps, warmup_proportion, min_lr, name)\n",
        "    optim = tfa.optimizers.Lookahead(inner, sync_period, slow_step_size, name)\n",
        "    return optim"
      ]
    },
    {
      "cell_type": "markdown",
      "metadata": {
        "id": "Au5bnuTWOUnH"
      },
      "source": [
        "### Model Building"
      ]
    },
    {
      "cell_type": "code",
      "execution_count": null,
      "metadata": {
        "id": "3HF2Ga72RIXa"
      },
      "outputs": [],
      "source": [
        "def basecsiTime_block(input_layer):\n",
        "    layer_1 = Conv2D(16, (10,10), padding='same', activation='relu')(input_layer)\n",
        "\n",
        "    layer_2 = Conv2D(16, (20,20), padding='same', activation='relu')(input_layer)\n",
        "\n",
        "    layer_3 = Conv2D(16, (40,40), padding='same', activation='relu')(input_layer)\n",
        "\n",
        "    layer_4 = keras.layers.MaxPooling2D(pool_size=(1,1))(input_layer)\n",
        "    layer_5 = keras.layers.concatenate([layer_1, layer_2, layer_3, layer_4])\n",
        "\n",
        "    layer_6 = keras.layers.BatchNormalization()(layer_5)\n",
        "    output_layer = keras.layers.Dense(7, activation=mish)(layer_6)\n",
        "    \n",
        "    return output_layer\n",
        "\n",
        "def csiTime_selfattn(input_layer):\n",
        "    layer_1 = Conv2D(16, (10,10), padding='same', activation='relu')(input_layer)\n",
        "    layer_2 = Conv2D(16, (20,20), padding='same', activation='relu')(input_layer)\n",
        "    layer_3 = Conv2D(16, (40,40), padding='same', activation='relu')(input_layer)\n",
        "\n",
        "    layer_4 = keras.layers.MaxPooling2D(pool_size=(1,1))(input_layer)\n",
        "    layer_5 = keras.layers.concatenate([layer_1, layer_2, layer_3, layer_4])\n",
        "\n",
        "    layer_6 = keras.layers.BatchNormalization()(layer_5)\n",
        "    layer_7 = keras.layers.Attention(use_scale=True)([layer_6, layer_6])\n",
        "    output_layer = keras.layers.Dense(7, activation=mish)(layer_7)\n",
        "    \n",
        "    return output_layer\n",
        "\n",
        "def csimini_selfattn(input_layer):\n",
        "    \n",
        "    layer_1 = keras.layers.Attention(use_scale=True)([input_layer, input_layer])\n",
        "    layer_2 = Conv2D(16, (3,3), padding='same', activation='relu')(layer_1)\n",
        "    layer_3 = keras.layers.BatchNormalization()(layer_2)\n",
        "    output_layer = keras.layers.MaxPooling2D(pool_size=(1,1))(layer_3)\n",
        "    output_layer = keras.layers.Dense(7, activation=mish)(output_layer)\n",
        "\n",
        "    return output_layer\n",
        "\n",
        "def csi_mini(input_layer):\n",
        "    \n",
        "    layer_1 = SeparableConv2D(10, (3,3), padding='same', activation='relu')(input_layer)\n",
        "    bn1 = keras.layers.BatchNormalization()(layer_1)\n",
        "    layer_2 = SeparableConv2D(20, (3,3), padding='same', activation='relu')(input_layer)\n",
        "    bn2 = keras.layers.BatchNormalization()(layer_2)\n",
        "    layer_3 = SeparableConv2D(40, (3,3), padding='same', activation='relu')(input_layer)\n",
        "    bn3 = keras.layers.BatchNormalization()(layer_3)\n",
        "\n",
        "    layer_4 = keras.layers.MaxPooling2D(pool_size=(1,1))(input_layer)\n",
        "    con = Conv2D(16, (3,3), padding='same', activation='relu')(layer_4)\n",
        "    layer_5 = keras.layers.concatenate([bn1, bn2, bn3, con])\n",
        "\n",
        "    layer_6 = keras.layers.BatchNormalization()(layer_5)\n",
        "    output_layer = keras.layers.Dense(7, activation=mish)(layer_6)\n",
        "    \n",
        "    return output_layer"
      ]
    },
    {
      "cell_type": "code",
      "execution_count": null,
      "metadata": {
        "id": "6X8tHx_uRKNW"
      },
      "outputs": [],
      "source": [
        "from tensorflow.python.ops.nn_ops import softmax\n",
        "\n",
        "def make_model(input_shape):\n",
        "    input_layer = keras.layers.Input(input_shape, dtype='float32')\n",
        "\n",
        "    # fir = basecsiTime_block(input_layer)\n",
        "    # sec = basecsiTime_block(fir)\n",
        "    # res1 = resblock(sec, (3,3), 7)\n",
        "    # thi = csiTime_selfattn(res1)\n",
        "    # fou = basecsiTime_block(thi)\n",
        "    # fif = csiTime_selfattn(fou)\n",
        "    # res2 = resblock(fif, (3,3), 7)\n",
        "    # six = basecsiTime_block(res2)\n",
        "\n",
        "    x = csi_mini(input_layer)\n",
        "    x = resblock(x, (3,3), 7)\n",
        "    x = csimini_selfattn(x)\n",
        "    x = basecsiTime_block(x)\n",
        "    x = csimini_selfattn(x)\n",
        "    x = resblock(x, (3,3), 7)\n",
        "    x = csi_mini(x)\n",
        "    \n",
        "    gap = keras.layers.GlobalAveragePooling2D()(x)\n",
        "    flatten = keras.layers.Flatten()(gap)\n",
        "    dropout = keras.layers.Dropout(.2)(flatten)\n",
        "    output_layer = keras.layers.Dense(7, activation=softmax)(dropout)\n",
        "    \n",
        "    return keras.models.Model(inputs=input_layer, outputs=output_layer)\n",
        "\n",
        "model = make_model(input_shape=X_train.shape[1:])\n",
        "# keras.utils.plot_model(model, show_shapes=True)"
      ]
    },
    {
      "cell_type": "code",
      "execution_count": null,
      "metadata": {
        "colab": {
          "base_uri": "https://localhost:8080/"
        },
        "id": "AHwM0c7sRNnY",
        "outputId": "f82ccdcd-dd19-4449-b541-3f8eff6829c4"
      },
      "outputs": [
        {
          "output_type": "stream",
          "name": "stdout",
          "text": [
            "Model: \"model_1\"\n",
            "__________________________________________________________________________________________________\n",
            " Layer (type)                   Output Shape         Param #     Connected to                     \n",
            "==================================================================================================\n",
            " input_2 (InputLayer)           [(None, 256, 180, 1  0           []                               \n",
            "                                )]                                                                \n",
            "                                                                                                  \n",
            " separable_conv2d_9 (SeparableC  (None, 256, 180, 10  29         ['input_2[0][0]']                \n",
            " onv2D)                         )                                                                 \n",
            "                                                                                                  \n",
            " separable_conv2d_10 (Separable  (None, 256, 180, 20  49         ['input_2[0][0]']                \n",
            " Conv2D)                        )                                                                 \n",
            "                                                                                                  \n",
            " separable_conv2d_11 (Separable  (None, 256, 180, 40  89         ['input_2[0][0]']                \n",
            " Conv2D)                        )                                                                 \n",
            "                                                                                                  \n",
            " max_pooling2d_6 (MaxPooling2D)  (None, 256, 180, 1)  0          ['input_2[0][0]']                \n",
            "                                                                                                  \n",
            " batch_normalization_19 (BatchN  (None, 256, 180, 10  40         ['separable_conv2d_9[0][0]']     \n",
            " ormalization)                  )                                                                 \n",
            "                                                                                                  \n",
            " batch_normalization_20 (BatchN  (None, 256, 180, 20  80         ['separable_conv2d_10[0][0]']    \n",
            " ormalization)                  )                                                                 \n",
            "                                                                                                  \n",
            " batch_normalization_21 (BatchN  (None, 256, 180, 40  160        ['separable_conv2d_11[0][0]']    \n",
            " ormalization)                  )                                                                 \n",
            "                                                                                                  \n",
            " conv2d_12 (Conv2D)             (None, 256, 180, 16  160         ['max_pooling2d_6[0][0]']        \n",
            "                                )                                                                 \n",
            "                                                                                                  \n",
            " concatenate_4 (Concatenate)    (None, 256, 180, 86  0           ['batch_normalization_19[0][0]', \n",
            "                                )                                 'batch_normalization_20[0][0]', \n",
            "                                                                  'batch_normalization_21[0][0]', \n",
            "                                                                  'conv2d_12[0][0]']              \n",
            "                                                                                                  \n",
            " batch_normalization_22 (BatchN  (None, 256, 180, 86  344        ['concatenate_4[0][0]']          \n",
            " ormalization)                  )                                                                 \n",
            "                                                                                                  \n",
            " dense_7 (Dense)                (None, 256, 180, 7)  609         ['batch_normalization_22[0][0]'] \n",
            "                                                                                                  \n",
            " conv2d_13 (Conv2D)             (None, 256, 180, 7)  448         ['dense_7[0][0]']                \n",
            "                                                                                                  \n",
            " batch_normalization_23 (BatchN  (None, 256, 180, 7)  28         ['conv2d_13[0][0]']              \n",
            " ormalization)                                                                                    \n",
            "                                                                                                  \n",
            " conv2d_14 (Conv2D)             (None, 256, 180, 7)  448         ['batch_normalization_23[0][0]'] \n",
            "                                                                                                  \n",
            " add_2 (Add)                    (None, 256, 180, 7)  0           ['dense_7[0][0]',                \n",
            "                                                                  'conv2d_14[0][0]']              \n",
            "                                                                                                  \n",
            " re_lu_2 (ReLU)                 (None, 256, 180, 7)  0           ['add_2[0][0]']                  \n",
            "                                                                                                  \n",
            " batch_normalization_24 (BatchN  (None, 256, 180, 7)  28         ['re_lu_2[0][0]']                \n",
            " ormalization)                                                                                    \n",
            "                                                                                                  \n",
            " attention_2 (Attention)        (None, 256, 180, 7)  1           ['batch_normalization_24[0][0]', \n",
            "                                                                  'batch_normalization_24[0][0]'] \n",
            "                                                                                                  \n",
            " conv2d_15 (Conv2D)             (None, 256, 180, 16  1024        ['attention_2[0][0]']            \n",
            "                                )                                                                 \n",
            "                                                                                                  \n",
            " batch_normalization_25 (BatchN  (None, 256, 180, 16  64         ['conv2d_15[0][0]']              \n",
            " ormalization)                  )                                                                 \n",
            "                                                                                                  \n",
            " max_pooling2d_7 (MaxPooling2D)  (None, 256, 180, 16  0          ['batch_normalization_25[0][0]'] \n",
            "                                )                                                                 \n",
            "                                                                                                  \n",
            " dense_8 (Dense)                (None, 256, 180, 7)  119         ['max_pooling2d_7[0][0]']        \n",
            "                                                                                                  \n",
            " conv2d_16 (Conv2D)             (None, 256, 180, 16  11216       ['dense_8[0][0]']                \n",
            "                                )                                                                 \n",
            "                                                                                                  \n",
            " conv2d_17 (Conv2D)             (None, 256, 180, 16  44816       ['dense_8[0][0]']                \n",
            "                                )                                                                 \n",
            "                                                                                                  \n",
            " conv2d_18 (Conv2D)             (None, 256, 180, 16  179216      ['dense_8[0][0]']                \n",
            "                                )                                                                 \n",
            "                                                                                                  \n",
            " max_pooling2d_8 (MaxPooling2D)  (None, 256, 180, 7)  0          ['dense_8[0][0]']                \n",
            "                                                                                                  \n",
            " concatenate_5 (Concatenate)    (None, 256, 180, 55  0           ['conv2d_16[0][0]',              \n",
            "                                )                                 'conv2d_17[0][0]',              \n",
            "                                                                  'conv2d_18[0][0]',              \n",
            "                                                                  'max_pooling2d_8[0][0]']        \n",
            "                                                                                                  \n",
            " batch_normalization_26 (BatchN  (None, 256, 180, 55  220        ['concatenate_5[0][0]']          \n",
            " ormalization)                  )                                                                 \n",
            "                                                                                                  \n",
            " dense_9 (Dense)                (None, 256, 180, 7)  392         ['batch_normalization_26[0][0]'] \n",
            "                                                                                                  \n",
            " attention_3 (Attention)        (None, 256, 180, 7)  1           ['dense_9[0][0]',                \n",
            "                                                                  'dense_9[0][0]']                \n",
            "                                                                                                  \n",
            " conv2d_19 (Conv2D)             (None, 256, 180, 16  1024        ['attention_3[0][0]']            \n",
            "                                )                                                                 \n",
            "                                                                                                  \n",
            " batch_normalization_27 (BatchN  (None, 256, 180, 16  64         ['conv2d_19[0][0]']              \n",
            " ormalization)                  )                                                                 \n",
            "                                                                                                  \n",
            " max_pooling2d_9 (MaxPooling2D)  (None, 256, 180, 16  0          ['batch_normalization_27[0][0]'] \n",
            "                                )                                                                 \n",
            "                                                                                                  \n",
            " dense_10 (Dense)               (None, 256, 180, 7)  119         ['max_pooling2d_9[0][0]']        \n",
            "                                                                                                  \n",
            " conv2d_20 (Conv2D)             (None, 256, 180, 7)  448         ['dense_10[0][0]']               \n",
            "                                                                                                  \n",
            " batch_normalization_28 (BatchN  (None, 256, 180, 7)  28         ['conv2d_20[0][0]']              \n",
            " ormalization)                                                                                    \n",
            "                                                                                                  \n",
            " conv2d_21 (Conv2D)             (None, 256, 180, 7)  448         ['batch_normalization_28[0][0]'] \n",
            "                                                                                                  \n",
            " add_3 (Add)                    (None, 256, 180, 7)  0           ['dense_10[0][0]',               \n",
            "                                                                  'conv2d_21[0][0]']              \n",
            "                                                                                                  \n",
            " re_lu_3 (ReLU)                 (None, 256, 180, 7)  0           ['add_3[0][0]']                  \n",
            "                                                                                                  \n",
            " batch_normalization_29 (BatchN  (None, 256, 180, 7)  28         ['re_lu_3[0][0]']                \n",
            " ormalization)                                                                                    \n",
            "                                                                                                  \n",
            " separable_conv2d_12 (Separable  (None, 256, 180, 10  143        ['batch_normalization_29[0][0]'] \n",
            " Conv2D)                        )                                                                 \n",
            "                                                                                                  \n",
            " separable_conv2d_13 (Separable  (None, 256, 180, 20  223        ['batch_normalization_29[0][0]'] \n",
            " Conv2D)                        )                                                                 \n",
            "                                                                                                  \n",
            " separable_conv2d_14 (Separable  (None, 256, 180, 40  383        ['batch_normalization_29[0][0]'] \n",
            " Conv2D)                        )                                                                 \n",
            "                                                                                                  \n",
            " max_pooling2d_10 (MaxPooling2D  (None, 256, 180, 7)  0          ['batch_normalization_29[0][0]'] \n",
            " )                                                                                                \n",
            "                                                                                                  \n",
            " batch_normalization_30 (BatchN  (None, 256, 180, 10  40         ['separable_conv2d_12[0][0]']    \n",
            " ormalization)                  )                                                                 \n",
            "                                                                                                  \n",
            " batch_normalization_31 (BatchN  (None, 256, 180, 20  80         ['separable_conv2d_13[0][0]']    \n",
            " ormalization)                  )                                                                 \n",
            "                                                                                                  \n",
            " batch_normalization_32 (BatchN  (None, 256, 180, 40  160        ['separable_conv2d_14[0][0]']    \n",
            " ormalization)                  )                                                                 \n",
            "                                                                                                  \n",
            " conv2d_22 (Conv2D)             (None, 256, 180, 16  1024        ['max_pooling2d_10[0][0]']       \n",
            "                                )                                                                 \n",
            "                                                                                                  \n",
            " concatenate_6 (Concatenate)    (None, 256, 180, 86  0           ['batch_normalization_30[0][0]', \n",
            "                                )                                 'batch_normalization_31[0][0]', \n",
            "                                                                  'batch_normalization_32[0][0]', \n",
            "                                                                  'conv2d_22[0][0]']              \n",
            "                                                                                                  \n",
            " batch_normalization_33 (BatchN  (None, 256, 180, 86  344        ['concatenate_6[0][0]']          \n",
            " ormalization)                  )                                                                 \n",
            "                                                                                                  \n",
            " dense_11 (Dense)               (None, 256, 180, 7)  609         ['batch_normalization_33[0][0]'] \n",
            "                                                                                                  \n",
            " global_average_pooling2d_1 (Gl  (None, 7)           0           ['dense_11[0][0]']               \n",
            " obalAveragePooling2D)                                                                            \n",
            "                                                                                                  \n",
            " flatten_1 (Flatten)            (None, 7)            0           ['global_average_pooling2d_1[0][0\n",
            "                                                                 ]']                              \n",
            "                                                                                                  \n",
            " dropout_1 (Dropout)            (None, 7)            0           ['flatten_1[0][0]']              \n",
            "                                                                                                  \n",
            " dense_12 (Dense)               (None, 7)            56          ['dropout_1[0][0]']              \n",
            "                                                                                                  \n",
            "==================================================================================================\n",
            "Total params: 244,802\n",
            "Trainable params: 243,948\n",
            "Non-trainable params: 854\n",
            "__________________________________________________________________________________________________\n"
          ]
        }
      ],
      "source": [
        "model.summary()"
      ]
    },
    {
      "cell_type": "code",
      "execution_count": null,
      "metadata": {
        "colab": {
          "base_uri": "https://localhost:8080/"
        },
        "id": "dyDdzsiLRQnt",
        "outputId": "71ccfe1f-f974-48e9-b8ac-bb56e4a3ea34"
      },
      "outputs": [
        {
          "output_type": "stream",
          "name": "stdout",
          "text": [
            "Epoch 1/60\n",
            "62/62 [==============================] - 377s 4s/step - loss: 1.9188 - categorical_accuracy: 0.1993 - val_loss: 1.9424 - val_categorical_accuracy: 0.2070\n",
            "Epoch 2/60\n",
            "62/62 [==============================] - 68s 1s/step - loss: 1.7635 - categorical_accuracy: 0.2861 - val_loss: 1.8887 - val_categorical_accuracy: 0.2184\n",
            "Epoch 3/60\n",
            "62/62 [==============================] - 68s 1s/step - loss: 1.6130 - categorical_accuracy: 0.3432 - val_loss: 1.8479 - val_categorical_accuracy: 0.2345\n",
            "Epoch 4/60\n",
            "62/62 [==============================] - 68s 1s/step - loss: 1.5227 - categorical_accuracy: 0.3672 - val_loss: 2.4015 - val_categorical_accuracy: 0.1358\n",
            "Epoch 5/60\n",
            "62/62 [==============================] - 68s 1s/step - loss: 1.4503 - categorical_accuracy: 0.3892 - val_loss: 1.9116 - val_categorical_accuracy: 0.2298\n",
            "Epoch 6/60\n",
            "62/62 [==============================] - 68s 1s/step - loss: 1.4049 - categorical_accuracy: 0.4076 - val_loss: 2.0379 - val_categorical_accuracy: 0.2413\n",
            "Epoch 7/60\n",
            "62/62 [==============================] - 68s 1s/step - loss: 1.3454 - categorical_accuracy: 0.4343 - val_loss: 1.7425 - val_categorical_accuracy: 0.3138\n",
            "Epoch 8/60\n",
            "62/62 [==============================] - 68s 1s/step - loss: 1.3162 - categorical_accuracy: 0.4501 - val_loss: 1.4251 - val_categorical_accuracy: 0.4126\n",
            "Epoch 9/60\n",
            "62/62 [==============================] - 68s 1s/step - loss: 1.2737 - categorical_accuracy: 0.4687 - val_loss: 1.4352 - val_categorical_accuracy: 0.4026\n",
            "Epoch 10/60\n",
            "62/62 [==============================] - 68s 1s/step - loss: 1.2478 - categorical_accuracy: 0.4756 - val_loss: 1.1997 - val_categorical_accuracy: 0.5276\n",
            "Epoch 11/60\n",
            "62/62 [==============================] - 68s 1s/step - loss: 1.2219 - categorical_accuracy: 0.4983 - val_loss: 1.1694 - val_categorical_accuracy: 0.5410\n",
            "Epoch 12/60\n",
            "62/62 [==============================] - 68s 1s/step - loss: 1.2011 - categorical_accuracy: 0.5035 - val_loss: 1.1430 - val_categorical_accuracy: 0.5302\n",
            "Epoch 13/60\n",
            "62/62 [==============================] - 68s 1s/step - loss: 1.1674 - categorical_accuracy: 0.5190 - val_loss: 1.1158 - val_categorical_accuracy: 0.5618\n",
            "Epoch 14/60\n",
            "62/62 [==============================] - 68s 1s/step - loss: 1.1463 - categorical_accuracy: 0.5282 - val_loss: 1.1079 - val_categorical_accuracy: 0.5665\n",
            "Epoch 15/60\n",
            "62/62 [==============================] - 68s 1s/step - loss: 1.1345 - categorical_accuracy: 0.5351 - val_loss: 1.0975 - val_categorical_accuracy: 0.5806\n",
            "Epoch 16/60\n",
            "62/62 [==============================] - 68s 1s/step - loss: 1.1396 - categorical_accuracy: 0.5370 - val_loss: 1.0944 - val_categorical_accuracy: 0.5847\n",
            "Epoch 17/60\n",
            "62/62 [==============================] - 68s 1s/step - loss: 1.2314 - categorical_accuracy: 0.4837 - val_loss: 1.4923 - val_categorical_accuracy: 0.4059\n",
            "Epoch 18/60\n",
            "62/62 [==============================] - 68s 1s/step - loss: 1.1949 - categorical_accuracy: 0.4973 - val_loss: 1.3835 - val_categorical_accuracy: 0.3804\n",
            "Epoch 19/60\n",
            "62/62 [==============================] - 68s 1s/step - loss: 1.1864 - categorical_accuracy: 0.5082 - val_loss: 1.2302 - val_categorical_accuracy: 0.5081\n",
            "Epoch 20/60\n",
            "62/62 [==============================] - 68s 1s/step - loss: 1.1328 - categorical_accuracy: 0.5254 - val_loss: 1.2534 - val_categorical_accuracy: 0.4926\n",
            "Epoch 21/60\n",
            "62/62 [==============================] - 68s 1s/step - loss: 1.1126 - categorical_accuracy: 0.5323 - val_loss: 1.2498 - val_categorical_accuracy: 0.4711\n",
            "Epoch 22/60\n",
            "62/62 [==============================] - 68s 1s/step - loss: 1.0674 - categorical_accuracy: 0.5568 - val_loss: 1.5866 - val_categorical_accuracy: 0.4220\n",
            "Epoch 23/60\n",
            "62/62 [==============================] - 68s 1s/step - loss: 1.0587 - categorical_accuracy: 0.5697 - val_loss: 1.1018 - val_categorical_accuracy: 0.5470\n",
            "Epoch 24/60\n",
            "62/62 [==============================] - 68s 1s/step - loss: 1.0319 - categorical_accuracy: 0.5699 - val_loss: 1.2474 - val_categorical_accuracy: 0.4946\n",
            "Epoch 25/60\n",
            "62/62 [==============================] - 68s 1s/step - loss: 1.0117 - categorical_accuracy: 0.5903 - val_loss: 1.0960 - val_categorical_accuracy: 0.5591\n",
            "Epoch 26/60\n",
            "62/62 [==============================] - 68s 1s/step - loss: 0.9793 - categorical_accuracy: 0.6000 - val_loss: 1.0973 - val_categorical_accuracy: 0.5672\n",
            "Epoch 27/60\n",
            "62/62 [==============================] - 68s 1s/step - loss: 0.9507 - categorical_accuracy: 0.6133 - val_loss: 1.3166 - val_categorical_accuracy: 0.5054\n",
            "Epoch 28/60\n",
            "62/62 [==============================] - 68s 1s/step - loss: 0.9224 - categorical_accuracy: 0.6297 - val_loss: 1.3799 - val_categorical_accuracy: 0.4966\n",
            "Epoch 29/60\n",
            "62/62 [==============================] - 68s 1s/step - loss: 0.8907 - categorical_accuracy: 0.6397 - val_loss: 0.9796 - val_categorical_accuracy: 0.6203\n",
            "Epoch 30/60\n",
            "62/62 [==============================] - 68s 1s/step - loss: 0.8466 - categorical_accuracy: 0.6612 - val_loss: 1.0018 - val_categorical_accuracy: 0.6035\n",
            "Epoch 31/60\n",
            "62/62 [==============================] - 68s 1s/step - loss: 0.8362 - categorical_accuracy: 0.6718 - val_loss: 0.9796 - val_categorical_accuracy: 0.6230\n",
            "Epoch 32/60\n",
            "62/62 [==============================] - 68s 1s/step - loss: 0.7952 - categorical_accuracy: 0.6790 - val_loss: 1.1527 - val_categorical_accuracy: 0.6069\n",
            "Epoch 33/60\n",
            "62/62 [==============================] - 68s 1s/step - loss: 0.8028 - categorical_accuracy: 0.6818 - val_loss: 0.9212 - val_categorical_accuracy: 0.6707\n",
            "Epoch 34/60\n",
            "62/62 [==============================] - 68s 1s/step - loss: 0.7728 - categorical_accuracy: 0.6953 - val_loss: 0.9356 - val_categorical_accuracy: 0.6586\n",
            "Epoch 35/60\n",
            "62/62 [==============================] - 68s 1s/step - loss: 0.7396 - categorical_accuracy: 0.7101 - val_loss: 0.8834 - val_categorical_accuracy: 0.6821\n",
            "Epoch 36/60\n",
            "62/62 [==============================] - 68s 1s/step - loss: 0.7270 - categorical_accuracy: 0.7183 - val_loss: 0.8806 - val_categorical_accuracy: 0.6707\n",
            "Epoch 37/60\n",
            "62/62 [==============================] - 68s 1s/step - loss: 0.6920 - categorical_accuracy: 0.7326 - val_loss: 0.8460 - val_categorical_accuracy: 0.6956\n",
            "Epoch 38/60\n",
            "62/62 [==============================] - 68s 1s/step - loss: 0.6868 - categorical_accuracy: 0.7361 - val_loss: 0.8633 - val_categorical_accuracy: 0.6882\n",
            "Epoch 39/60\n",
            "62/62 [==============================] - 68s 1s/step - loss: 0.6728 - categorical_accuracy: 0.7417 - val_loss: 0.8458 - val_categorical_accuracy: 0.6969\n",
            "Epoch 40/60\n",
            "62/62 [==============================] - 68s 1s/step - loss: 0.6409 - categorical_accuracy: 0.7617 - val_loss: 0.8498 - val_categorical_accuracy: 0.6848\n",
            "Epoch 41/60\n",
            "62/62 [==============================] - 68s 1s/step - loss: 0.6563 - categorical_accuracy: 0.7484 - val_loss: 0.8418 - val_categorical_accuracy: 0.7070\n",
            "Epoch 42/60\n",
            "62/62 [==============================] - 68s 1s/step - loss: 0.6421 - categorical_accuracy: 0.7548 - val_loss: 0.8247 - val_categorical_accuracy: 0.7063\n",
            "Epoch 43/60\n",
            "62/62 [==============================] - 68s 1s/step - loss: 0.6233 - categorical_accuracy: 0.7679 - val_loss: 0.8200 - val_categorical_accuracy: 0.7103\n",
            "Epoch 44/60\n",
            "62/62 [==============================] - 68s 1s/step - loss: 0.6121 - categorical_accuracy: 0.7728 - val_loss: 0.8194 - val_categorical_accuracy: 0.7151\n",
            "Epoch 45/60\n",
            "62/62 [==============================] - 68s 1s/step - loss: 0.6312 - categorical_accuracy: 0.7687 - val_loss: 0.8191 - val_categorical_accuracy: 0.7090\n",
            "Epoch 46/60\n",
            "62/62 [==============================] - 68s 1s/step - loss: 0.6169 - categorical_accuracy: 0.7701 - val_loss: 0.8154 - val_categorical_accuracy: 0.7137\n",
            "Epoch 47/60\n",
            "62/62 [==============================] - 68s 1s/step - loss: 0.6013 - categorical_accuracy: 0.7798 - val_loss: 0.8165 - val_categorical_accuracy: 0.7130\n",
            "Epoch 48/60\n",
            "62/62 [==============================] - 68s 1s/step - loss: 0.6063 - categorical_accuracy: 0.7797 - val_loss: 0.8173 - val_categorical_accuracy: 0.7137\n",
            "Epoch 49/60\n",
            "62/62 [==============================] - 68s 1s/step - loss: 0.7221 - categorical_accuracy: 0.7224 - val_loss: 1.9283 - val_categorical_accuracy: 0.4859\n",
            "Epoch 50/60\n",
            "62/62 [==============================] - 68s 1s/step - loss: 0.9695 - categorical_accuracy: 0.6267 - val_loss: 1.3400 - val_categorical_accuracy: 0.5007\n",
            "Epoch 51/60\n",
            "62/62 [==============================] - 68s 1s/step - loss: 0.8362 - categorical_accuracy: 0.6714 - val_loss: 1.2542 - val_categorical_accuracy: 0.5612\n",
            "Epoch 52/60\n",
            "62/62 [==============================] - 68s 1s/step - loss: 0.8045 - categorical_accuracy: 0.6923 - val_loss: 1.0107 - val_categorical_accuracy: 0.6243\n",
            "Epoch 53/60\n",
            "62/62 [==============================] - 68s 1s/step - loss: 0.7549 - categorical_accuracy: 0.7076 - val_loss: 1.2557 - val_categorical_accuracy: 0.5793\n",
            "Epoch 54/60\n",
            "62/62 [==============================] - 68s 1s/step - loss: 0.7758 - categorical_accuracy: 0.7020 - val_loss: 1.8420 - val_categorical_accuracy: 0.4335\n",
            "Epoch 55/60\n",
            "62/62 [==============================] - 68s 1s/step - loss: 0.7758 - categorical_accuracy: 0.6982 - val_loss: 1.1323 - val_categorical_accuracy: 0.5988\n",
            "Epoch 56/60\n",
            "62/62 [==============================] - 68s 1s/step - loss: 0.7353 - categorical_accuracy: 0.7155 - val_loss: 1.0748 - val_categorical_accuracy: 0.6284\n",
            "Epoch 57/60\n",
            "62/62 [==============================] - 68s 1s/step - loss: 0.6898 - categorical_accuracy: 0.7375 - val_loss: 1.0900 - val_categorical_accuracy: 0.6478\n",
            "Epoch 58/60\n",
            "62/62 [==============================] - 68s 1s/step - loss: 0.7208 - categorical_accuracy: 0.7311 - val_loss: 1.3703 - val_categorical_accuracy: 0.5269\n",
            "Epoch 59/60\n",
            "62/62 [==============================] - 68s 1s/step - loss: 0.7130 - categorical_accuracy: 0.7267 - val_loss: 1.2198 - val_categorical_accuracy: 0.6290\n",
            "Epoch 60/60\n",
            "62/62 [==============================] - 68s 1s/step - loss: 0.6415 - categorical_accuracy: 0.7649 - val_loss: 1.0489 - val_categorical_accuracy: 0.6270\n"
          ]
        }
      ],
      "source": [
        "epochs = 60\n",
        "batch_size = 96\n",
        "# steps_per_epoch = X_train.shape[0]\n",
        "\n",
        "# lr_schedule = ExponentialDecay(\n",
        "#     initial_learning_rate=0.001,\n",
        "#     decay_steps=1000, decay_rate=0.96,\n",
        "#     staircase=True)\n",
        "\n",
        "# lr_schedule = OneCycle(min_lr=7e-3, max_lr=7e-2, min_mtm = 0.85, max_mtm = 0.95, annealing_stage=0.1, annealing_rate=0.01,\n",
        "#           training_iterations=(X_train.shape[0]*epochs)/(batch_size))\n",
        "lr_schedule = CosineDecayRestarts(initial_learning_rate=0.001,first_decay_steps=1000)\n",
        "\n",
        "# clr = tfa.optimizers.CyclicalLearningRate(initial_learning_rate=0.0001,\n",
        "#     maximal_learning_rate=0.01,\n",
        "#     scale_fn=lambda x: 1/(2.**(x-1)),\n",
        "#     step_size=2 * steps_per_epoch\n",
        "# )\n",
        "callbacks = [\n",
        "    keras.callbacks.ModelCheckpoint(\n",
        "        \"mini7.h5\", save_best_only=True, monitor=\"val_loss\"\n",
        "    ),\n",
        "    # OneCycle(min_lr=7e-3, max_lr=7e-2, min_mtm = 0.85, max_mtm = 0.95, annealing_stage=0.1, annealing_rate=0.01,\n",
        "    #       training_iterations=(X_train.shape[0]*epochs)/(batch_size)),\n",
        "    # keras.callbacks.ReduceLROnPlateau(\n",
        "    #     monitor=\"val_loss\", factor=0.5, patience=20, min_lr=0.0001\n",
        "    # ),\n",
        "    keras.callbacks.EarlyStopping(monitor=\"val_loss\", patience=15, verbose=1),\n",
        "]\n",
        "model.compile(\n",
        "    # optimizer=Ranger(learning_rate = lr_schedule),\n",
        "    optimizer = keras.optimizers.Adam(learning_rate=lr_schedule, epsilon=1e-08),\n",
        "    loss=\"categorical_crossentropy\",\n",
        "    metrics=[\"categorical_accuracy\"],\n",
        ")\n",
        "history = model.fit(\n",
        "    X_train,\n",
        "    Y_train,\n",
        "    batch_size=batch_size,\n",
        "    epochs=epochs,\n",
        "    callbacks=callbacks,\n",
        "    validation_split=0.2,\n",
        "    verbose=1,\n",
        "    \n",
        ")"
      ]
    },
    {
      "cell_type": "markdown",
      "metadata": {
        "id": "qpTFulowK0eh"
      },
      "source": [
        "# Evaluation"
      ]
    },
    {
      "cell_type": "code",
      "execution_count": null,
      "metadata": {
        "id": "dGP4yNo9yzi2"
      },
      "outputs": [],
      "source": [
        "X_train, X_test, Y_train, Y_test = train_test_split(X,vectorized_y, test_size=0.3, random_state=40)\n",
        "X_train = X_train.reshape((X_train.shape[0], X_train.shape[1],X_train.shape[2],1))\n",
        "X_test = X_test.reshape((X_test.shape[0], X_test.shape[1],X_test.shape[2],1))\n",
        "\n",
        "X_train = tf.convert_to_tensor(X_train)\n",
        "Y_train = tf.convert_to_tensor(Y_train)"
      ]
    },
    {
      "cell_type": "code",
      "execution_count": null,
      "metadata": {
        "id": "1RUaJ2nQRUyA",
        "colab": {
          "base_uri": "https://localhost:8080/"
        },
        "outputId": "9851cc51-dae2-4548-b759-8e3b11659c09"
      },
      "outputs": [
        {
          "output_type": "stream",
          "name": "stdout",
          "text": [
            "100/100 [==============================] - 10s 88ms/step - loss: 1.0594 - categorical_accuracy: 0.6253\n",
            "Test accuracy 0.6252743601799011\n",
            "Test loss 1.0594147443771362\n"
          ]
        }
      ],
      "source": [
        "# model = keras.models.load_model(\"sa-mish-adam-150.h5\")\n",
        "\n",
        "test_loss, test_acc = model.evaluate(X_test[:,:,:], Y_test)\n",
        "\n",
        "print(\"Test accuracy\", test_acc)\n",
        "print(\"Test loss\", test_loss)"
      ]
    },
    {
      "cell_type": "code",
      "execution_count": null,
      "metadata": {
        "id": "FellN_9WRZzP",
        "colab": {
          "base_uri": "https://localhost:8080/",
          "height": 476
        },
        "outputId": "131115f0-4ad0-4123-c1ed-dbde90d22fc3"
      },
      "outputs": [
        {
          "output_type": "display_data",
          "data": {
            "text/plain": [
              "<Figure size 640x480 with 1 Axes>"
            ],
            "image/png": "[encoded data removed]"
          },
          "metadata": {}
        }
      ],
      "source": [
        "metric = \"categorical_accuracy\"\n",
        "plt.figure()\n",
        "plt.plot(history.history[metric])\n",
        "plt.plot(history.history[\"val_\" + metric])\n",
        "plt.title(\"MiniTime's \" + metric)\n",
        "plt.ylabel(metric, fontsize=\"large\")\n",
        "plt.xlabel(\"epoch\", fontsize=\"large\")\n",
        "plt.legend([\"train\", \"val\"], loc=\"best\")\n",
        "plt.show()\n",
        "plt.close()"
      ]
    },
    {
      "cell_type": "code",
      "execution_count": null,
      "metadata": {
        "id": "Y235RZ51Q4jX",
        "colab": {
          "base_uri": "https://localhost:8080/"
        },
        "outputId": "72a370ed-80c9-4159-fbac-45c32466cd7a"
      },
      "outputs": [
        {
          "output_type": "stream",
          "name": "stdout",
          "text": [
            "100/100 [==============================] - 8s 78ms/step\n"
          ]
        }
      ],
      "source": [
        "#Confusion Matrix and Classification Report\n",
        "\n",
        "y_pred=model.predict(X_test) \n",
        "y_pred=np.argmax(y_pred, axis=1)\n",
        "Y_test=np.argmax(Y_test, axis=1)\n"
      ]
    },
    {
      "cell_type": "code",
      "source": [
        "\n",
        "cm = confusion_matrix(Y_test, y_pred)\n",
        "print(cm)\n",
        "\n",
        "print('Classification Report')\n",
        "print(classification_report(Y_test, y_pred, target_names=classes))\n",
        "\n"
      ],
      "metadata": {
        "id": "uhSUbjyviUa0",
        "colab": {
          "base_uri": "https://localhost:8080/"
        },
        "outputId": "07bfc9d7-ae30-4ccd-aec1-34ad7140f246"
      },
      "execution_count": null,
      "outputs": [
        {
          "output_type": "stream",
          "name": "stdout",
          "text": [
            "[[216  87  34  40  22  25  12]\n",
            " [  2 154   8   5  65  84  14]\n",
            " [  1   0 560  10  11   1 106]\n",
            " [  2   0  29 254   3  29 155]\n",
            " [  1  47  24   2 154  98  17]\n",
            " [  0  33   9   7  57 213  31]\n",
            " [  0   0  92   5   6  21 443]]\n",
            "Classification Report\n",
            "              precision    recall  f1-score   support\n",
            "\n",
            "          I1       0.97      0.50      0.66       436\n",
            "         I11       0.48      0.46      0.47       332\n",
            "         I13       0.74      0.81      0.78       689\n",
            "          I3       0.79      0.54      0.64       472\n",
            "          I5       0.48      0.45      0.47       343\n",
            "          I7       0.45      0.61      0.52       350\n",
            "          I9       0.57      0.78      0.66       567\n",
            "\n",
            "    accuracy                           0.63      3189\n",
            "   macro avg       0.64      0.59      0.60      3189\n",
            "weighted avg       0.66      0.63      0.63      3189\n",
            "\n"
          ]
        }
      ]
    },
    {
      "cell_type": "code",
      "source": [
        "class_names = ['I1', 'I11', 'I13', 'I3', 'I5', 'I7', 'I9']\n",
        "\n",
        "cm_percent = cm.astype('float') / cm.sum(axis=1)[:, np.newaxis]\n",
        "plt.imshow(cm, interpolation='nearest', cmap=plt.cm.Blues)\n",
        "plt.title('Confusion Matrix')\n",
        "plt.colorbar()\n",
        "tick_marks = np.arange(len(class_names))\n",
        "plt.xticks(tick_marks, class_names, rotation=45)\n",
        "plt.yticks(tick_marks, class_names)\n",
        "thresh = cm.max() / 2.\n",
        "for i in range(cm.shape[0]):\n",
        "    for j in range(cm.shape[1]):\n",
        "        plt.text(j, i, format(cm_percent[i, j], '.2f'),\n",
        "                 horizontalalignment=\"center\",\n",
        "                 color=\"white\" if cm[i, j] > thresh else \"black\")\n",
        "plt.tight_layout()\n",
        "plt.ylabel('True label')\n",
        "plt.xlabel('Predicted label')\n",
        "plt.show()"
      ],
      "metadata": {
        "id": "BJOgso1Gim6g",
        "colab": {
          "base_uri": "https://localhost:8080/",
          "height": 506
        },
        "outputId": "ec5efee8-89bd-4c60-efba-25c771f3fff2"
      },
      "execution_count": null,
      "outputs": [
        {
          "output_type": "display_data",
          "data": {
            "text/plain": [
              "<Figure size 640x480 with 2 Axes>"
            ],
            "image/png": "[encoded data removed]"
          },
          "metadata": {}
        }
      ]
    },
    {
      "cell_type": "code",
      "execution_count": null,
      "metadata": {
        "id": "XorlWcV3m9ep",
        "colab": {
          "base_uri": "https://localhost:8080/"
        },
        "outputId": "593d44f4-e2be-49bb-befc-a59ab778ed50"
      },
      "outputs": [
        {
          "output_type": "stream",
          "name": "stdout",
          "text": [
            "1/1 [==============================] - 0s 469ms/step\n",
            "CPU times: user 511 ms, sys: 4.15 ms, total: 515 ms\n",
            "Wall time: 518 ms\n"
          ]
        },
        {
          "output_type": "execute_result",
          "data": {
            "text/plain": [
              "array([[4.5197932e-03, 9.7349065e-04, 8.7710440e-01, 3.8048804e-03,\n",
              "        9.7664874e-03, 2.0886727e-03, 1.0174222e-01],\n",
              "       [2.5290603e-02, 3.5105009e-02, 3.7551302e-01, 5.4106176e-02,\n",
              "        9.6075095e-02, 9.4528079e-02, 3.1938198e-01],\n",
              "       [6.2656486e-03, 3.2039499e-03, 7.8095180e-01, 1.9277584e-02,\n",
              "        1.3159824e-02, 1.0103829e-02, 1.6703725e-01],\n",
              "       [4.2721780e-04, 4.3074602e-01, 6.0343093e-15, 3.1907166e-06,\n",
              "        2.0911558e-01, 3.5970616e-01, 1.8956364e-06],\n",
              "       [5.4594232e-03, 4.0539503e-03, 6.6241723e-01, 4.5795556e-02,\n",
              "        1.1536901e-02, 2.0347364e-02, 2.5038961e-01],\n",
              "       [6.4858957e-04, 3.1725486e-04, 4.2921069e-01, 5.0870646e-02,\n",
              "        1.3351402e-03, 7.6910979e-03, 5.0992662e-01],\n",
              "       [9.2495074e-03, 5.9087677e-03, 7.0198780e-01, 2.9339701e-02,\n",
              "        2.1019243e-02, 1.8702485e-02, 2.1379259e-01],\n",
              "       [2.2557598e-04, 1.6178713e-04, 2.6790923e-01, 4.1023009e-02,\n",
              "        8.0559339e-04, 7.9958029e-03, 6.8187892e-01],\n",
              "       [2.4046360e-01, 8.3032526e-02, 2.3929782e-03, 3.8281533e-01,\n",
              "        8.0573954e-02, 1.3693111e-01, 7.3790468e-02],\n",
              "       [3.6158829e-03, 8.0460694e-04, 8.2074291e-01, 6.4794505e-03,\n",
              "        7.5458740e-03, 2.7027179e-03, 1.5810852e-01]], dtype=float32)"
            ]
          },
          "metadata": {},
          "execution_count": 33
        }
      ],
      "source": [
        "%%time \n",
        "\n",
        "model.predict(X_test[:10])"
      ]
    },
    {
      "cell_type": "code",
      "execution_count": null,
      "metadata": {
        "id": "a5LzvyzfHGiz",
        "colab": {
          "base_uri": "https://localhost:8080/"
        },
        "outputId": "5b2cc219-158f-416f-bfc5-41306cae199a"
      },
      "outputs": [
        {
          "output_type": "execute_result",
          "data": {
            "text/plain": [
              "[name: \"/device:CPU:0\"\n",
              " device_type: \"CPU\"\n",
              " memory_limit: 268435456\n",
              " locality {\n",
              " }\n",
              " incarnation: 5242699475072754022\n",
              " xla_global_id: -1,\n",
              " name: \"/device:GPU:0\"\n",
              " device_type: \"GPU\"\n",
              " memory_limit: 40179924992\n",
              " locality {\n",
              "   bus_id: 1\n",
              "   links {\n",
              "   }\n",
              " }\n",
              " incarnation: 7795272470019625299\n",
              " physical_device_desc: \"device: 0, name: NVIDIA A100-SXM4-40GB, pci bus id: 0000:00:04.0, compute capability: 8.0\"\n",
              " xla_global_id: 416903419]"
            ]
          },
          "metadata": {},
          "execution_count": 34
        }
      ],
      "source": [
        "from tensorflow.python.client import device_lib\n",
        "device_lib.list_local_devices()"
      ]
    }
  ],
  "metadata": {
    "colab": {
      "collapsed_sections": [
        "kzYmorFbOby_",
        "Z21e1B9_OKf1"
      ],
      "machine_shape": "hm",
      "provenance": [],
      "gpuType": "A100",
      "mount_file_id": "1_avgn-aBGMXGtPD7MRZBkiQvN9Z7K8MY",
      "authorship_tag": "ABX9TyN/evLTbODIW6RMbJYzmaBK",
      "include_colab_link": true
    },
    "gpuClass": "premium",
    "kernelspec": {
      "display_name": "Python 3",
      "name": "python3"
    },
    "language_info": {
      "name": "python"
    },
    "accelerator": "GPU"
  },
  "nbformat": 4,
  "nbformat_minor": 0
}