{
  "nbformat": 4,
  "nbformat_minor": 0,
  "metadata": {
    "colab": {
      "provenance": [],
      "machine_shape": "hm",
      "mount_file_id": "1_avgn-aBGMXGtPD7MRZBkiQvN9Z7K8MY",
      "authorship_tag": "ABX9TyNBICnRimMIodms/b9BQ2Xc",
      "include_colab_link": true
    },
    "kernelspec": {
      "name": "python3",
      "display_name": "Python 3"
    },
    "language_info": {
      "name": "python"
    },
    "gpuClass": "premium",
    "accelerator": "GPU"
  },
  "cells": [
    {
      "cell_type": "markdown",
      "metadata": {
        "id": "view-in-github",
        "colab_type": "text"
      },
      "source": [
        "<a href=\"https://colab.research.google.com/github/AloraTab/aat2000/blob/main/dissy.ipynb\" target=\"_parent\"><img src=\"https://colab.research.google.com/assets/colab-badge.svg\" alt=\"Open In Colab\"/></a>"
      ]
    },
    {
      "cell_type": "markdown",
      "source": [
        "# Setup"
      ],
      "metadata": {
        "id": "18ye21aUJuyL"
      }
    },
    {
      "cell_type": "code",
      "source": [
        "%pip install pandas==1.5.3\n",
        "%pip install tensorflow-addons==0.19.0\n"
      ],
      "metadata": {
        "id": "igoiIt__W5xU",
        "colab": {
          "base_uri": "https://localhost:8080/"
        },
        "outputId": "5c796ee8-d12f-43bf-c265-c9aadcac2a2c"
      },
      "execution_count": 1,
      "outputs": [
        {
          "output_type": "stream",
          "name": "stdout",
          "text": [
            "Looking in indexes: https://pypi.org/simple, https://us-python.pkg.dev/colab-wheels/public/simple/\n",
            "Collecting pandas==1.5.3\n",
            "  Downloading pandas-1.5.3-cp39-cp39-manylinux_2_17_x86_64.manylinux2014_x86_64.whl (12.2 MB)\n",
            "\u001b[2K     \u001b[90m━━━━━━━━━━━━━━━━━━━━━━━━━━━━━━━━━━━━━━━━\u001b[0m \u001b[32m12.2/12.2 MB\u001b[0m \u001b[31m87.0 MB/s\u001b[0m eta \u001b[36m0:00:00\u001b[0m\n",
            "\u001b[?25hRequirement already satisfied: python-dateutil>=2.8.1 in /usr/local/lib/python3.9/dist-packages (from pandas==1.5.3) (2.8.2)\n",
            "Requirement already satisfied: numpy>=1.20.3 in /usr/local/lib/python3.9/dist-packages (from pandas==1.5.3) (1.22.4)\n",
            "Requirement already satisfied: pytz>=2020.1 in /usr/local/lib/python3.9/dist-packages (from pandas==1.5.3) (2022.7.1)\n",
            "Requirement already satisfied: six>=1.5 in /usr/local/lib/python3.9/dist-packages (from python-dateutil>=2.8.1->pandas==1.5.3) (1.16.0)\n",
            "Installing collected packages: pandas\n",
            "  Attempting uninstall: pandas\n",
            "    Found existing installation: pandas 1.4.4\n",
            "    Uninstalling pandas-1.4.4:\n",
            "      Successfully uninstalled pandas-1.4.4\n",
            "Successfully installed pandas-1.5.3\n",
            "Looking in indexes: https://pypi.org/simple, https://us-python.pkg.dev/colab-wheels/public/simple/\n",
            "Collecting tensorflow-addons==0.19.0\n",
            "  Downloading tensorflow_addons-0.19.0-cp39-cp39-manylinux_2_17_x86_64.manylinux2014_x86_64.whl (1.1 MB)\n",
            "\u001b[2K     \u001b[90m━━━━━━━━━━━━━━━━━━━━━━━━━━━━━━━━━━━━━━━━\u001b[0m \u001b[32m1.1/1.1 MB\u001b[0m \u001b[31m50.5 MB/s\u001b[0m eta \u001b[36m0:00:00\u001b[0m\n",
            "\u001b[?25hRequirement already satisfied: packaging in /usr/local/lib/python3.9/dist-packages (from tensorflow-addons==0.19.0) (23.0)\n",
            "Collecting typeguard>=2.7\n",
            "  Downloading typeguard-3.0.2-py3-none-any.whl (30 kB)\n",
            "Requirement already satisfied: importlib-metadata>=3.6 in /usr/local/lib/python3.9/dist-packages (from typeguard>=2.7->tensorflow-addons==0.19.0) (6.1.0)\n",
            "Requirement already satisfied: typing-extensions>=4.4.0 in /usr/local/lib/python3.9/dist-packages (from typeguard>=2.7->tensorflow-addons==0.19.0) (4.5.0)\n",
            "Requirement already satisfied: zipp>=0.5 in /usr/local/lib/python3.9/dist-packages (from importlib-metadata>=3.6->typeguard>=2.7->tensorflow-addons==0.19.0) (3.15.0)\n",
            "Installing collected packages: typeguard, tensorflow-addons\n",
            "Successfully installed tensorflow-addons-0.19.0 typeguard-3.0.2\n"
          ]
        }
      ]
    },
    {
      "cell_type": "code",
      "execution_count": 2,
      "metadata": {
        "id": "VU0wpJkMk1O1"
      },
      "outputs": [],
      "source": [
        "from tensorflow import keras\n",
        "from keras.utils import np_utils\n",
        "from sklearn.model_selection import train_test_split\n",
        "from sklearn.preprocessing import LabelEncoder\n",
        "from keras.layers.convolutional import Conv2D, MaxPooling2D, SeparableConv2D\n",
        "from keras.layers import Attention\n",
        "from sklearn.metrics import classification_report, confusion_matrix\n",
        "from tensorflow.keras.optimizers.schedules import ExponentialDecay, CosineDecayRestarts\n",
        "from keras.callbacks import Callback\n",
        "from keras import backend as K\n",
        "\n",
        "import tensorflow as tf\n",
        "import pandas as pd\n",
        "import numpy as np\n",
        "import matplotlib.pyplot as plt\n",
        "import os\n",
        "import math"
      ]
    },
    {
      "cell_type": "markdown",
      "source": [
        "## Imported Classes"
      ],
      "metadata": {
        "id": "kzYmorFbOby_"
      }
    },
    {
      "cell_type": "code",
      "source": [
        "# Cosine Annealing Scheduler\n",
        "# https://github.com/4uiiurz1/keras-cosine-annealing/blob/master/cosine_annealing.py\n",
        "\n",
        "class CosineAnnealingScheduler(Callback):\n",
        "    \"\"\"Cosine annealing scheduler.\n",
        "    \"\"\"\n",
        "\n",
        "    def __init__(self, T_max, eta_max, eta_min=0, verbose=0):\n",
        "        super(CosineAnnealingScheduler, self).__init__()\n",
        "        self.T_max = T_max\n",
        "        self.eta_max = eta_max\n",
        "        self.eta_min = eta_min\n",
        "        self.verbose = verbose\n",
        "\n",
        "    def on_epoch_begin(self, epoch, logs=None):\n",
        "        if not hasattr(self.model.optimizer, 'lr'):\n",
        "            raise ValueError('Optimizer must have a \"lr\" attribute.')\n",
        "        lr = self.eta_min + (self.eta_max - self.eta_min) * (1 + math.cos(math.pi * epoch / self.T_max)) / 2\n",
        "        K.set_value(self.model.optimizer.lr, lr)\n",
        "        if self.verbose > 0:\n",
        "            print('\\nEpoch %05d: CosineAnnealingScheduler setting learning '\n",
        "                  'rate to %s.' % (epoch + 1, lr))\n",
        "\n",
        "    def on_epoch_end(self, epoch, logs=None):\n",
        "        logs = logs or {}\n",
        "        logs['lr'] = K.get_value(self.model.optimizer.lr)"
      ],
      "metadata": {
        "id": "atWNoSB1xERL"
      },
      "execution_count": 3,
      "outputs": []
    },
    {
      "cell_type": "code",
      "source": [
        "# LR Finder in Keras\n",
        "# https://github.com/avanwyk/tensorflow-projects/tree/master/lr-finder\n",
        "\n",
        "class LRFinder(Callback):\n",
        "    \"\"\"`Callback` that exponentially adjusts the learning rate after each training batch between `start_lr` and\n",
        "    `end_lr` for a maximum number of batches: `max_step`. The loss and learning rate are recorded at each step allowing\n",
        "    visually finding a good learning rate as per https://sgugger.github.io/how-do-you-find-a-good-learning-rate.html via\n",
        "    the `plot` method.\n",
        "    \"\"\"\n",
        "\n",
        "    def __init__(self, start_lr: float = 1e-7, end_lr: float = 10, max_steps: int = 100, smoothing=0.9):\n",
        "        super(LRFinder, self).__init__()\n",
        "        self.start_lr, self.end_lr = start_lr, end_lr\n",
        "        self.max_steps = max_steps\n",
        "        self.smoothing = smoothing\n",
        "        self.step, self.best_loss, self.avg_loss, self.lr = 0, 0, 0, 0\n",
        "        self.lrs, self.losses = [], []\n",
        "\n",
        "    def on_train_begin(self, logs=None):\n",
        "        self.step, self.best_loss, self.avg_loss, self.lr = 0, 0, 0, 0\n",
        "        self.lrs, self.losses = [], []\n",
        "\n",
        "    def on_train_batch_begin(self, batch, logs=None):\n",
        "        self.lr = self.exp_annealing(self.step)\n",
        "        tf.keras.backend.set_value(self.model.optimizer.lr, self.lr)\n",
        "\n",
        "    def on_train_batch_end(self, batch, logs=None):\n",
        "        logs = logs or {}\n",
        "        loss = logs.get('loss')\n",
        "        step = self.step\n",
        "        if loss:\n",
        "            self.avg_loss = self.smoothing * self.avg_loss + (1 - self.smoothing) * loss\n",
        "            smooth_loss = self.avg_loss / (1 - self.smoothing ** (self.step + 1))\n",
        "            self.losses.append(smooth_loss)\n",
        "            self.lrs.append(self.lr)\n",
        "\n",
        "            if step == 0 or loss < self.best_loss:\n",
        "                self.best_loss = loss\n",
        "\n",
        "            if smooth_loss > 4 * self.best_loss or tf.math.is_nan(smooth_loss):\n",
        "                self.model.stop_training = True\n",
        "\n",
        "        if step == self.max_steps:\n",
        "            self.model.stop_training = True\n",
        "\n",
        "        self.step += 1\n",
        "\n",
        "    def exp_annealing(self, step):\n",
        "        return self.start_lr * (self.end_lr / self.start_lr) ** (step * 1. / self.max_steps)\n",
        "\n",
        "    def plot(self):\n",
        "        fig, ax = plt.subplots(1, 1)\n",
        "        ax.set_ylabel('Loss')\n",
        "        ax.set_xlabel('Learning Rate (log scale)')\n",
        "        ax.set_xscale('log')\n",
        "        ax.xaxis.set_major_formatter(plt.FormatStrFormatter('%.0e'))\n",
        "        ax.plot(self.lrs, self.losses)"
      ],
      "metadata": {
        "id": "PQUyj62yLEFQ"
      },
      "execution_count": 4,
      "outputs": []
    },
    {
      "cell_type": "code",
      "source": [
        "# From https://gist.github.com/avanwyk/57724eb3cfff60a1451e4b422c73bfb7#file-lr_one_cycle-py\n",
        "import logging\n",
        "\n",
        "logging.getLogger('tensorflow').setLevel(logging.ERROR)\n",
        "\n",
        "class CosineAnnealer:\n",
        "    \n",
        "    def __init__(self, start, end, steps):\n",
        "        self.start = start\n",
        "        self.end = end\n",
        "        self.steps = steps\n",
        "        self.n = 0\n",
        "        \n",
        "    def step(self):\n",
        "        self.n += 1\n",
        "        cos = np.cos(np.pi * (self.n / self.steps)) + 1\n",
        "        return self.end + (self.start - self.end) / 2. * cos\n",
        "\n",
        "\n",
        "class OneCycleScheduler(Callback):\n",
        "    \"\"\" `Callback` that schedules the learning rate on a 1cycle policy as per Leslie Smith's paper(https://arxiv.org/pdf/1803.09820.pdf).\n",
        "    If the model supports a momentum parameter, it will also be adapted by the schedule.\n",
        "    The implementation adopts additional improvements as per the fastai library: https://docs.fast.ai/callbacks.one_cycle.html, where\n",
        "    only two phases are used and the adaptation is done using cosine annealing.\n",
        "    In phase 1 the LR increases from `lr_max / div_factor` to `lr_max` and momentum decreases from `mom_max` to `mom_min`.\n",
        "    In the second phase the LR decreases from `lr_max` to `lr_max / (div_factor * 1e4)` and momemtum from `mom_max` to `mom_min`.\n",
        "    By default the phases are not of equal length, with the phase 1 percentage controlled by the parameter `phase_1_pct`.\n",
        "    \"\"\"\n",
        "\n",
        "    def __init__(self, lr_max, steps, mom_min=0.85, mom_max=0.95, phase_1_pct=0.3, div_factor=25.):\n",
        "        super(OneCycleScheduler, self).__init__()\n",
        "        lr_min = lr_max / div_factor\n",
        "        final_lr = lr_max / (div_factor * 1e4)\n",
        "        phase_1_steps = steps * phase_1_pct\n",
        "        phase_2_steps = steps - phase_1_steps\n",
        "        \n",
        "        self.phase_1_steps = phase_1_steps\n",
        "        self.phase_2_steps = phase_2_steps\n",
        "        self.phase = 0\n",
        "        self.step = 0\n",
        "        \n",
        "        self.phases = [[CosineAnnealer(lr_min, lr_max, phase_1_steps), CosineAnnealer(mom_max, mom_min, phase_1_steps)], \n",
        "                 [CosineAnnealer(lr_max, final_lr, phase_2_steps), CosineAnnealer(mom_min, mom_max, phase_2_steps)]]\n",
        "        \n",
        "        self.lrs = []\n",
        "        self.moms = []\n",
        "\n",
        "    def on_train_begin(self, logs=None):\n",
        "        self.phase = 0\n",
        "        self.step = 0\n",
        "\n",
        "        self.set_lr(self.lr_schedule().start)\n",
        "        self.set_momentum(self.mom_schedule().start)\n",
        "        \n",
        "    def on_train_batch_begin(self, batch, logs=None):\n",
        "        self.lrs.append(self.get_lr())\n",
        "        self.moms.append(self.get_momentum())\n",
        "\n",
        "    def on_train_batch_end(self, batch, logs=None):\n",
        "        self.step += 1\n",
        "        if self.step >= self.phase_1_steps:\n",
        "            self.phase = 1\n",
        "            \n",
        "        self.set_lr(self.lr_schedule().step())\n",
        "        self.set_momentum(self.mom_schedule().step())\n",
        "        \n",
        "    def get_lr(self):\n",
        "        try:\n",
        "            return tf.keras.backend.get_value(self.model.optimizer.lr)\n",
        "        except AttributeError:\n",
        "            return None\n",
        "        \n",
        "    def get_momentum(self):\n",
        "        try:\n",
        "            return tf.keras.backend.get_value(self.model.optimizer.momentum)\n",
        "        except AttributeError:\n",
        "            return None\n",
        "        \n",
        "    def set_lr(self, lr):\n",
        "        try:\n",
        "            tf.keras.backend.set_value(self.model.optimizer.lr, lr)\n",
        "        except AttributeError:\n",
        "            pass # ignore\n",
        "        \n",
        "    def set_momentum(self, mom):\n",
        "        try:\n",
        "            tf.keras.backend.set_value(self.model.optimizer.momentum, mom)\n",
        "        except AttributeError:\n",
        "            pass # ignore\n",
        "\n",
        "    def lr_schedule(self):\n",
        "        return self.phases[self.phase][0]\n",
        "    \n",
        "    def mom_schedule(self):\n",
        "        return self.phases[self.phase][1]\n",
        "    \n",
        "    def plot(self):\n",
        "        ax = plt.subplot(1, 2, 1)\n",
        "        ax.plot(self.lrs)\n",
        "        ax.set_title('Learning Rate')\n",
        "        ax = plt.subplot(1, 2, 2)\n",
        "        ax.plot(self.moms)\n",
        "        ax.set_title('Momentum')"
      ],
      "metadata": {
        "id": "te4O6z9Zg5-M"
      },
      "execution_count": 5,
      "outputs": []
    },
    {
      "cell_type": "markdown",
      "source": [
        "# Preparing Dataset"
      ],
      "metadata": {
        "id": "Tagc4GM2KCxT"
      }
    },
    {
      "cell_type": "code",
      "source": [
        "from google.colab import drive\n",
        "drive.mount('/content/gdrive')"
      ],
      "metadata": {
        "colab": {
          "base_uri": "https://localhost:8080/"
        },
        "id": "bD1v8irVVL8A",
        "outputId": "b8f007f5-408e-4fec-d7c7-10b23185d1c4"
      },
      "execution_count": 49,
      "outputs": [
        {
          "output_type": "stream",
          "name": "stdout",
          "text": [
            "Drive already mounted at /content/gdrive; to attempt to forcibly remount, call drive.mount(\"/content/gdrive\", force_remount=True).\n"
          ]
        }
      ]
    },
    {
      "cell_type": "code",
      "source": [
        "PATH = '/content/gdrive/MyDrive/Colab Notebooks/Dataset'\n",
        "fileName = 'csi-dataset-20-7-5.pkl'\n",
        "fullPath = os.path.join(PATH, fileName)\n",
        "print(fullPath)"
      ],
      "metadata": {
        "colab": {
          "base_uri": "https://localhost:8080/"
        },
        "id": "x5-JT2q-WN6F",
        "outputId": "8c845085-ef55-49ef-e86f-e3fb945e7e4f"
      },
      "execution_count": 50,
      "outputs": [
        {
          "output_type": "stream",
          "name": "stdout",
          "text": [
            "/content/gdrive/MyDrive/Colab Notebooks/Dataset/csi-dataset-20-7-5.pkl\n"
          ]
        }
      ]
    },
    {
      "cell_type": "code",
      "source": [
        "df = pd.read_pickle(fullPath)"
      ],
      "metadata": {
        "id": "qPFc8j7Sl_AE"
      },
      "execution_count": 51,
      "outputs": []
    },
    {
      "cell_type": "code",
      "source": [
        "# df = df.sample(frac=1)\n",
        "Y = df['Label'].values\n",
        "X = df['Sample'].values\n",
        "X = [[np.asarray(sample) for sample in i] for i in X]\n",
        "X = np.asarray(X).astype('float32')"
      ],
      "metadata": {
        "id": "9OTolodRQ-6R"
      },
      "execution_count": 52,
      "outputs": []
    },
    {
      "cell_type": "code",
      "source": [
        "X.shape"
      ],
      "metadata": {
        "colab": {
          "base_uri": "https://localhost:8080/"
        },
        "id": "jqNzG8VaOtPD",
        "outputId": "9a37039c-6235-4b72-d70a-029b360d332c"
      },
      "execution_count": 53,
      "outputs": [
        {
          "output_type": "execute_result",
          "data": {
            "text/plain": [
              "(6642, 256, 180)"
            ]
          },
          "metadata": {},
          "execution_count": 53
        }
      ]
    },
    {
      "cell_type": "code",
      "source": [
        "# unique, counts = np.unique(Y_test, return_counts=True)\n",
        "# print(np.asarray((unique, counts)).T)"
      ],
      "metadata": {
        "id": "mpSnjlqxJRGZ"
      },
      "execution_count": 54,
      "outputs": []
    },
    {
      "cell_type": "code",
      "source": [
        "# unique, counts = np.unique(Y_train, return_counts=True)\n",
        "# print(np.asarray((unique, counts)).T)"
      ],
      "metadata": {
        "id": "DOmeeTqDJ0-y"
      },
      "execution_count": 55,
      "outputs": []
    },
    {
      "cell_type": "code",
      "source": [
        "encoder = LabelEncoder()\n",
        "encoder.fit(Y)\n",
        "encoded_Y = encoder.transform(Y)\n",
        "vectorized_y = np_utils.to_categorical(encoded_Y)"
      ],
      "metadata": {
        "id": "4nj7Tr5NLTgl"
      },
      "execution_count": 56,
      "outputs": []
    },
    {
      "cell_type": "code",
      "source": [
        "classes = encoder.classes_\n",
        "print(classes)"
      ],
      "metadata": {
        "colab": {
          "base_uri": "https://localhost:8080/"
        },
        "id": "JAFDwJkoAN7s",
        "outputId": "2b140dd5-f9d4-4ec2-fcfc-a5ff89646f5b"
      },
      "execution_count": 57,
      "outputs": [
        {
          "output_type": "stream",
          "name": "stdout",
          "text": [
            "['I1' 'I11' 'I13' 'I3' 'I5' 'I7' 'I9']\n"
          ]
        }
      ]
    },
    {
      "cell_type": "code",
      "source": [
        "X_train, X_test, Y_train, Y_test = train_test_split(X,vectorized_y, test_size=0.3, random_state=40)"
      ],
      "metadata": {
        "id": "vZpv6d3uRBgV"
      },
      "execution_count": 58,
      "outputs": []
    },
    {
      "cell_type": "code",
      "source": [
        "X_train = X_train.reshape((X_train.shape[0], X_train.shape[1],X_train.shape[2],1))\n",
        "X_test = X_test.reshape((X_test.shape[0], X_test.shape[1],X_test.shape[2],1))\n",
        "\n",
        "X_train = tf.convert_to_tensor(X_train)\n",
        "Y_train = tf.convert_to_tensor(Y_train)"
      ],
      "metadata": {
        "id": "UibBIJWtRCkL"
      },
      "execution_count": 59,
      "outputs": []
    },
    {
      "cell_type": "markdown",
      "source": [
        "# Building Model"
      ],
      "metadata": {
        "id": "EmE5iAnfKuK4"
      }
    },
    {
      "cell_type": "markdown",
      "source": [
        "### Custom Components"
      ],
      "metadata": {
        "id": "Z21e1B9_OKf1"
      }
    },
    {
      "cell_type": "code",
      "source": [
        "# Residual Connections\n",
        "# https://stackoverflow.com/questions/64792460/how-to-code-a-residual-block-using-two-layers-of-a-basic-cnn-algorithm-built-wit\n",
        "\n",
        "def resblock(x, kernelsize, filters):\n",
        "    fx = keras.layers.Conv2D(filters, kernelsize, activation='relu', padding='same')(x)\n",
        "    fx = keras.layers.BatchNormalization()(fx)\n",
        "    fx = keras.layers.Conv2D(filters, kernelsize, padding='same')(fx)\n",
        "    out = keras.layers.Add()([x,fx])\n",
        "    out = keras.layers.ReLU()(out)\n",
        "    out = keras.layers.BatchNormalization()(out)\n",
        "    return out"
      ],
      "metadata": {
        "id": "5B8Uwo10OfQ6"
      },
      "execution_count": 17,
      "outputs": []
    },
    {
      "cell_type": "code",
      "source": [
        "# Mish Activation\n",
        "def mish(inputs):\n",
        "    x = tf.nn.softplus(inputs)\n",
        "    x = tf.nn.tanh(x)\n",
        "    x = tf.multiply(x,inputs)\n",
        "    return x"
      ],
      "metadata": {
        "id": "CDOv6JpKRG47"
      },
      "execution_count": 18,
      "outputs": []
    },
    {
      "cell_type": "code",
      "source": [
        "# Ranger Optimizer\n",
        "# www.kaggle.com/code/yazanmajzob/ranger-optimizeranvas.com\n",
        "\n",
        "import tensorflow_addons as tfa\n",
        "\n",
        "def Ranger(sync_period=6,\n",
        "           slow_step_size=0.5,\n",
        "           learning_rate=0.001,\n",
        "           beta_1=0.9,\n",
        "           beta_2=0.999,\n",
        "           epsilon=1e-7,\n",
        "           weight_decay=0.,\n",
        "           amsgrad=False,\n",
        "           sma_threshold=5.0,\n",
        "           total_steps=0,\n",
        "           warmup_proportion=0.1,\n",
        "           min_lr=0.,\n",
        "           name=\"Ranger\"):\n",
        "    inner = tfa.optimizers.RectifiedAdam(learning_rate, beta_1, beta_2, epsilon, weight_decay, amsgrad, sma_threshold, total_steps, warmup_proportion, min_lr, name)\n",
        "    optim = tfa.optimizers.Lookahead(inner, sync_period, slow_step_size, name)\n",
        "    return optim"
      ],
      "metadata": {
        "id": "Kmg26DSAG_J0"
      },
      "execution_count": 19,
      "outputs": []
    },
    {
      "cell_type": "markdown",
      "source": [
        "### Model Building"
      ],
      "metadata": {
        "id": "Au5bnuTWOUnH"
      }
    },
    {
      "cell_type": "code",
      "source": [
        "def csiTime_block(input_layer):\n",
        "    # layer_1 = Conv2D(10, (1,1), padding='same', activation='relu')(input_layer)\n",
        "    # layer_1 = Conv2D(16, (10,10), padding='same', activation='relu')(input_layer)\n",
        "    layer_1 = SeparableConv2D(32, (10,10), padding='same', activation='relu')(input_layer)\n",
        "\n",
        "    # layer_2 = Conv2D(10, (1,1), padding='same', activation='relu')(input_layer)\n",
        "    # layer_2 = Conv2D(16, (20,20), padding='same', activation='relu')(input_layer)\n",
        "    layer_2 = SeparableConv2D(32, (20,20), padding='same', activation='relu')(input_layer)\n",
        "\n",
        "    # layer_3 = Conv2D(10, (1,1), padding='same')(input_layer)\n",
        "    # layer_3 = Conv2D(16, (40,40), padding='same', activation='relu')(input_layer)\n",
        "    layer_3 = SeparableConv2D(32, (40,40), padding='same', activation='relu')(input_layer)\n",
        "\n",
        "    layer_4 = keras.layers.MaxPooling2D(pool_size=(1,1))(input_layer)\n",
        "\n",
        "    layer_5 = keras.layers.concatenate([layer_1, layer_2, layer_3, layer_4], axis = 3)\n",
        "\n",
        "    layer_6 = keras.layers.BatchNormalization()(layer_5)\n",
        "    layer_7 = keras.layers.Attention()([layer_6, layer_6])\n",
        "    # layer_4 = SeqSelfAttention(attention_activation='sigmoid')([layer_4, layer_4])\n",
        "    # flatten = keras.layers.Flatten()(attn)\n",
        "    output_layer = keras.layers.Dense(7, activation=mish)(layer_7)\n",
        "    \n",
        "    return output_layer"
      ],
      "metadata": {
        "id": "3HF2Ga72RIXa"
      },
      "execution_count": 29,
      "outputs": []
    },
    {
      "cell_type": "code",
      "source": [
        "from tensorflow.python.ops.nn_ops import softmax\n",
        "\n",
        "def make_model(input_shape):\n",
        "    input_layer = keras.layers.Input(input_shape, dtype='float32')\n",
        "\n",
        "    fir = csiTime_block(input_layer)\n",
        "    sec = csiTime_block(fir)\n",
        "    res1 = resblock(sec, (3,3), 7)\n",
        "    thi = csiTime_block(res1)\n",
        "    # fou = csiTime_block(thi)\n",
        "    # fif = csiTime_block(fou)\n",
        "    # res2 = resblock(fif, (3,3), 7)\n",
        "    # six = csiTime_block(res2)\n",
        "\n",
        "    gap = keras.layers.GlobalAveragePooling2D()(thi)\n",
        "    dropout = keras.layers.Dropout(.2)(gap)\n",
        "    # layer_4 = keras.layers.Flatten()(layer_4)\n",
        "    output_layer = keras.layers.Dense(7, activation=softmax)(gap) #Need to change to num of classes\n",
        "    \n",
        "    return keras.models.Model(inputs=input_layer, outputs=output_layer)\n",
        "\n",
        "\n",
        "model = make_model(input_shape=X_train.shape[1:])\n",
        "# keras.utils.plot_model(model, show_shapes=True)"
      ],
      "metadata": {
        "id": "6X8tHx_uRKNW"
      },
      "execution_count": 30,
      "outputs": []
    },
    {
      "cell_type": "code",
      "source": [
        "model.summary()"
      ],
      "metadata": {
        "id": "AHwM0c7sRNnY",
        "colab": {
          "base_uri": "https://localhost:8080/"
        },
        "outputId": "dd21265b-add4-4733-daa2-0895dc53a07a"
      },
      "execution_count": 60,
      "outputs": [
        {
          "output_type": "stream",
          "name": "stdout",
          "text": [
            "Model: \"model_1\"\n",
            "__________________________________________________________________________________________________\n",
            " Layer (type)                   Output Shape         Param #     Connected to                     \n",
            "==================================================================================================\n",
            " input_2 (InputLayer)           [(None, 256, 180, 1  0           []                               \n",
            "                                )]                                                                \n",
            "                                                                                                  \n",
            " separable_conv2d_9 (SeparableC  (None, 256, 180, 32  164        ['input_2[0][0]']                \n",
            " onv2D)                         )                                                                 \n",
            "                                                                                                  \n",
            " separable_conv2d_10 (Separable  (None, 256, 180, 32  464        ['input_2[0][0]']                \n",
            " Conv2D)                        )                                                                 \n",
            "                                                                                                  \n",
            " separable_conv2d_11 (Separable  (None, 256, 180, 32  1664       ['input_2[0][0]']                \n",
            " Conv2D)                        )                                                                 \n",
            "                                                                                                  \n",
            " max_pooling2d_3 (MaxPooling2D)  (None, 256, 180, 1)  0          ['input_2[0][0]']                \n",
            "                                                                                                  \n",
            " concatenate_3 (Concatenate)    (None, 256, 180, 97  0           ['separable_conv2d_9[0][0]',     \n",
            "                                )                                 'separable_conv2d_10[0][0]',    \n",
            "                                                                  'separable_conv2d_11[0][0]',    \n",
            "                                                                  'max_pooling2d_3[0][0]']        \n",
            "                                                                                                  \n",
            " batch_normalization_5 (BatchNo  (None, 256, 180, 97  388        ['concatenate_3[0][0]']          \n",
            " rmalization)                   )                                                                 \n",
            "                                                                                                  \n",
            " attention_3 (Attention)        (None, 256, 180, 97  0           ['batch_normalization_5[0][0]',  \n",
            "                                )                                 'batch_normalization_5[0][0]']  \n",
            "                                                                                                  \n",
            " dense_4 (Dense)                (None, 256, 180, 7)  686         ['attention_3[0][0]']            \n",
            "                                                                                                  \n",
            " separable_conv2d_12 (Separable  (None, 256, 180, 32  956        ['dense_4[0][0]']                \n",
            " Conv2D)                        )                                                                 \n",
            "                                                                                                  \n",
            " separable_conv2d_13 (Separable  (None, 256, 180, 32  3056       ['dense_4[0][0]']                \n",
            " Conv2D)                        )                                                                 \n",
            "                                                                                                  \n",
            " separable_conv2d_14 (Separable  (None, 256, 180, 32  11456      ['dense_4[0][0]']                \n",
            " Conv2D)                        )                                                                 \n",
            "                                                                                                  \n",
            " max_pooling2d_4 (MaxPooling2D)  (None, 256, 180, 7)  0          ['dense_4[0][0]']                \n",
            "                                                                                                  \n",
            " concatenate_4 (Concatenate)    (None, 256, 180, 10  0           ['separable_conv2d_12[0][0]',    \n",
            "                                3)                                'separable_conv2d_13[0][0]',    \n",
            "                                                                  'separable_conv2d_14[0][0]',    \n",
            "                                                                  'max_pooling2d_4[0][0]']        \n",
            "                                                                                                  \n",
            " batch_normalization_6 (BatchNo  (None, 256, 180, 10  412        ['concatenate_4[0][0]']          \n",
            " rmalization)                   3)                                                                \n",
            "                                                                                                  \n",
            " attention_4 (Attention)        (None, 256, 180, 10  0           ['batch_normalization_6[0][0]',  \n",
            "                                3)                                'batch_normalization_6[0][0]']  \n",
            "                                                                                                  \n",
            " dense_5 (Dense)                (None, 256, 180, 7)  728         ['attention_4[0][0]']            \n",
            "                                                                                                  \n",
            " conv2d_2 (Conv2D)              (None, 256, 180, 7)  448         ['dense_5[0][0]']                \n",
            "                                                                                                  \n",
            " batch_normalization_7 (BatchNo  (None, 256, 180, 7)  28         ['conv2d_2[0][0]']               \n",
            " rmalization)                                                                                     \n",
            "                                                                                                  \n",
            " conv2d_3 (Conv2D)              (None, 256, 180, 7)  448         ['batch_normalization_7[0][0]']  \n",
            "                                                                                                  \n",
            " add_1 (Add)                    (None, 256, 180, 7)  0           ['dense_5[0][0]',                \n",
            "                                                                  'conv2d_3[0][0]']               \n",
            "                                                                                                  \n",
            " re_lu_1 (ReLU)                 (None, 256, 180, 7)  0           ['add_1[0][0]']                  \n",
            "                                                                                                  \n",
            " batch_normalization_8 (BatchNo  (None, 256, 180, 7)  28         ['re_lu_1[0][0]']                \n",
            " rmalization)                                                                                     \n",
            "                                                                                                  \n",
            " separable_conv2d_15 (Separable  (None, 256, 180, 32  956        ['batch_normalization_8[0][0]']  \n",
            " Conv2D)                        )                                                                 \n",
            "                                                                                                  \n",
            " separable_conv2d_16 (Separable  (None, 256, 180, 32  3056       ['batch_normalization_8[0][0]']  \n",
            " Conv2D)                        )                                                                 \n",
            "                                                                                                  \n",
            " separable_conv2d_17 (Separable  (None, 256, 180, 32  11456      ['batch_normalization_8[0][0]']  \n",
            " Conv2D)                        )                                                                 \n",
            "                                                                                                  \n",
            " max_pooling2d_5 (MaxPooling2D)  (None, 256, 180, 7)  0          ['batch_normalization_8[0][0]']  \n",
            "                                                                                                  \n",
            " concatenate_5 (Concatenate)    (None, 256, 180, 10  0           ['separable_conv2d_15[0][0]',    \n",
            "                                3)                                'separable_conv2d_16[0][0]',    \n",
            "                                                                  'separable_conv2d_17[0][0]',    \n",
            "                                                                  'max_pooling2d_5[0][0]']        \n",
            "                                                                                                  \n",
            " batch_normalization_9 (BatchNo  (None, 256, 180, 10  412        ['concatenate_5[0][0]']          \n",
            " rmalization)                   3)                                                                \n",
            "                                                                                                  \n",
            " attention_5 (Attention)        (None, 256, 180, 10  0           ['batch_normalization_9[0][0]',  \n",
            "                                3)                                'batch_normalization_9[0][0]']  \n",
            "                                                                                                  \n",
            " dense_6 (Dense)                (None, 256, 180, 7)  728         ['attention_5[0][0]']            \n",
            "                                                                                                  \n",
            " global_average_pooling2d_1 (Gl  (None, 7)           0           ['dense_6[0][0]']                \n",
            " obalAveragePooling2D)                                                                            \n",
            "                                                                                                  \n",
            " dense_7 (Dense)                (None, 7)            56          ['global_average_pooling2d_1[0][0\n",
            "                                                                 ]']                              \n",
            "                                                                                                  \n",
            "==================================================================================================\n",
            "Total params: 37,590\n",
            "Trainable params: 36,956\n",
            "Non-trainable params: 634\n",
            "__________________________________________________________________________________________________\n"
          ]
        }
      ]
    },
    {
      "cell_type": "code",
      "source": [
        "epochs = 20\n",
        "batch_size = 48\n",
        "\n",
        "# lr_finder = LRFinder()\n",
        "lr_schedule = ExponentialDecay(\n",
        "    initial_learning_rate=0.001,\n",
        "    decay_steps=100, decay_rate=0.96,\n",
        "    staircase=True)\n",
        "\n",
        "# lr_schedule = CosineDecayRestarts(initial_learning_rate=0.001,first_decay_steps=100)\n",
        "# lr_schedule = OneCycleScheduler(0.01, 1000)\n",
        "callbacks = [\n",
        "    keras.callbacks.ModelCheckpoint(\n",
        "        \"p5.h5\", save_best_only=True, monitor=\"val_loss\"\n",
        "    ),\n",
        "    # lr_finder\n",
        "    # keras.callbacks.ReduceLROnPlateau(\n",
        "    #     monitor=\"val_loss\", factor=0.5, patience=20, min_lr=0.0001\n",
        "    # ),\n",
        "    # CosineAnnealingScheduler(T_max=100, eta_max=1e-2, eta_min=1e-4),\n",
        "    # keras.callbacks.EarlyStopping(monitor=\"val_loss\", patience=0, verbose=1),\n",
        "]\n",
        "model.compile(\n",
        "    optimizer=Ranger(learning_rate = lr_schedule),\n",
        "    loss=\"categorical_crossentropy\",\n",
        "    metrics=[\"categorical_accuracy\"],\n",
        ")\n",
        "history = model.fit(\n",
        "    X_train,\n",
        "    Y_train,\n",
        "    # steps_per_epoch = int(trainX_size/batch_size),\n",
        "    # validation_steps = int(trainY_size/batch_size),\n",
        "    batch_size=batch_size,\n",
        "    epochs=epochs,\n",
        "    callbacks=callbacks,\n",
        "    validation_split=0.2,\n",
        "    verbose=1,\n",
        "    \n",
        ")"
      ],
      "metadata": {
        "id": "dyDdzsiLRQnt",
        "colab": {
          "base_uri": "https://localhost:8080/"
        },
        "outputId": "7363ee75-6732-4432-ade2-0abeeea782e8"
      },
      "execution_count": 63,
      "outputs": [
        {
          "output_type": "stream",
          "name": "stdout",
          "text": [
            "Epoch 1/20\n",
            "78/78 [==============================] - 62s 611ms/step - loss: 0.7675 - categorical_accuracy: 0.6779 - val_loss: 0.7624 - val_categorical_accuracy: 0.6720\n",
            "Epoch 2/20\n",
            "78/78 [==============================] - 47s 605ms/step - loss: 0.7561 - categorical_accuracy: 0.6838 - val_loss: 0.7562 - val_categorical_accuracy: 0.6817\n",
            "Epoch 3/20\n",
            "78/78 [==============================] - 47s 603ms/step - loss: 0.7495 - categorical_accuracy: 0.6916 - val_loss: 0.8434 - val_categorical_accuracy: 0.6441\n",
            "Epoch 4/20\n",
            "78/78 [==============================] - 47s 602ms/step - loss: 0.7312 - categorical_accuracy: 0.7023 - val_loss: 0.7695 - val_categorical_accuracy: 0.6989\n",
            "Epoch 5/20\n",
            "78/78 [==============================] - 47s 604ms/step - loss: 0.7289 - categorical_accuracy: 0.6884 - val_loss: 0.7371 - val_categorical_accuracy: 0.6989\n",
            "Epoch 6/20\n",
            "78/78 [==============================] - 47s 605ms/step - loss: 0.7187 - categorical_accuracy: 0.7015 - val_loss: 0.7155 - val_categorical_accuracy: 0.7118\n",
            "Epoch 7/20\n",
            "78/78 [==============================] - 47s 602ms/step - loss: 0.7079 - categorical_accuracy: 0.7053 - val_loss: 0.7569 - val_categorical_accuracy: 0.6720\n",
            "Epoch 8/20\n",
            "78/78 [==============================] - 47s 604ms/step - loss: 0.7069 - categorical_accuracy: 0.7088 - val_loss: 0.7122 - val_categorical_accuracy: 0.6871\n",
            "Epoch 9/20\n",
            "78/78 [==============================] - 47s 602ms/step - loss: 0.6937 - categorical_accuracy: 0.7058 - val_loss: 0.7357 - val_categorical_accuracy: 0.6806\n",
            "Epoch 10/20\n",
            "78/78 [==============================] - 47s 605ms/step - loss: 0.6952 - categorical_accuracy: 0.7155 - val_loss: 0.6906 - val_categorical_accuracy: 0.7086\n",
            "Epoch 11/20\n",
            "78/78 [==============================] - 47s 603ms/step - loss: 0.6868 - categorical_accuracy: 0.7147 - val_loss: 0.6949 - val_categorical_accuracy: 0.7108\n",
            "Epoch 12/20\n",
            "78/78 [==============================] - 47s 603ms/step - loss: 0.6689 - categorical_accuracy: 0.7249 - val_loss: 0.7031 - val_categorical_accuracy: 0.7065\n",
            "Epoch 13/20\n",
            "78/78 [==============================] - 47s 603ms/step - loss: 0.6601 - categorical_accuracy: 0.7330 - val_loss: 0.7412 - val_categorical_accuracy: 0.6946\n",
            "Epoch 14/20\n",
            "78/78 [==============================] - 47s 605ms/step - loss: 0.6548 - categorical_accuracy: 0.7338 - val_loss: 0.6704 - val_categorical_accuracy: 0.7258\n",
            "Epoch 15/20\n",
            "78/78 [==============================] - 47s 603ms/step - loss: 0.6421 - categorical_accuracy: 0.7386 - val_loss: 0.6824 - val_categorical_accuracy: 0.7312\n",
            "Epoch 16/20\n",
            "78/78 [==============================] - 47s 605ms/step - loss: 0.6463 - categorical_accuracy: 0.7322 - val_loss: 0.6674 - val_categorical_accuracy: 0.7247\n",
            "Epoch 17/20\n",
            "78/78 [==============================] - 47s 603ms/step - loss: 0.6384 - categorical_accuracy: 0.7376 - val_loss: 0.7084 - val_categorical_accuracy: 0.7140\n",
            "Epoch 18/20\n",
            "78/78 [==============================] - 47s 603ms/step - loss: 0.6282 - categorical_accuracy: 0.7427 - val_loss: 0.6804 - val_categorical_accuracy: 0.7151\n",
            "Epoch 19/20\n",
            "78/78 [==============================] - 47s 605ms/step - loss: 0.6234 - categorical_accuracy: 0.7394 - val_loss: 0.6603 - val_categorical_accuracy: 0.7344\n",
            "Epoch 20/20\n",
            "78/78 [==============================] - 47s 603ms/step - loss: 0.6034 - categorical_accuracy: 0.7529 - val_loss: 0.7179 - val_categorical_accuracy: 0.6989\n"
          ]
        }
      ]
    },
    {
      "cell_type": "markdown",
      "source": [
        "# Evaluation"
      ],
      "metadata": {
        "id": "qpTFulowK0eh"
      }
    },
    {
      "cell_type": "code",
      "source": [
        "# model = keras.models.load_model(\"sa-mish-adam-150.h5\")\n",
        "\n",
        "test_loss, test_acc = model.evaluate(X_test[:,:,:], Y_test)\n",
        "\n",
        "print(\"Test accuracy\", test_acc)\n",
        "print(\"Test loss\", test_loss)"
      ],
      "metadata": {
        "id": "1RUaJ2nQRUyA",
        "colab": {
          "base_uri": "https://localhost:8080/"
        },
        "outputId": "1109157c-72dd-4dca-f36a-bd10f2dd7a31"
      },
      "execution_count": 64,
      "outputs": [
        {
          "output_type": "stream",
          "name": "stdout",
          "text": [
            "63/63 [==============================] - 8s 119ms/step - loss: 0.6754 - categorical_accuracy: 0.7205\n",
            "Test accuracy 0.7205218076705933\n",
            "Test loss 0.6754424571990967\n"
          ]
        }
      ]
    },
    {
      "cell_type": "code",
      "source": [
        "metric = \"categorical_accuracy\"\n",
        "plt.figure()\n",
        "plt.plot(history.history[metric])\n",
        "plt.plot(history.history[\"val_\" + metric])\n",
        "plt.title(\"Proposed Model 5's \" + metric)\n",
        "plt.ylabel(metric, fontsize=\"large\")\n",
        "plt.xlabel(\"epoch\", fontsize=\"large\")\n",
        "plt.legend([\"train\", \"val\"], loc=\"best\")\n",
        "plt.show()\n",
        "plt.close()"
      ],
      "metadata": {
        "id": "FellN_9WRZzP",
        "colab": {
          "base_uri": "https://localhost:8080/",
          "height": 298
        },
        "outputId": "f2caf1f0-0ff7-4c27-8cda-be91c9ef8055"
      },
      "execution_count": 65,
      "outputs": [
        {
          "output_type": "display_data",
          "data": {
            "text/plain": [
              "<Figure size 432x288 with 1 Axes>"
            ],
            "image/png": "[encoded data removed]"
          },
          "metadata": {
            "needs_background": "light"
          }
        }
      ]
    },
    {
      "cell_type": "code",
      "source": [
        "#Confusion Matrix and Classification Report\n",
        "\n",
        "y_pred=model.predict(X_test) \n",
        "y_pred=np.argmax(y_pred, axis=1)\n",
        "Y_test=np.argmax(Y_test, axis=1)\n",
        "cm = confusion_matrix(Y_test, y_pred)\n",
        "print(cm)\n",
        "\n",
        "print('Classification Report')\n",
        "print(classification_report(Y_test, y_pred, target_names=classes))"
      ],
      "metadata": {
        "id": "Y235RZ51Q4jX",
        "colab": {
          "base_uri": "https://localhost:8080/"
        },
        "outputId": "86272bdd-8538-43d8-a1bb-efec3e834990"
      },
      "execution_count": 66,
      "outputs": [
        {
          "output_type": "stream",
          "name": "stdout",
          "text": [
            "63/63 [==============================] - 8s 117ms/step\n",
            "[[193   5   2   1  25   0   0]\n",
            " [ 17 131   4   0  22  15   0]\n",
            " [  8   2 574   9   7   1  88]\n",
            " [  4   0  12 157   3   8  56]\n",
            " [ 25  30   2   3  82  36   0]\n",
            " [ 16  23   3   1  62  71   0]\n",
            " [  3   0  13  49   1   1 228]]\n",
            "Classification Report\n",
            "              precision    recall  f1-score   support\n",
            "\n",
            "          I1       0.73      0.85      0.78       226\n",
            "         I11       0.69      0.69      0.69       189\n",
            "         I13       0.94      0.83      0.88       689\n",
            "          I3       0.71      0.65      0.68       240\n",
            "          I5       0.41      0.46      0.43       178\n",
            "          I7       0.54      0.40      0.46       176\n",
            "          I9       0.61      0.77      0.68       295\n",
            "\n",
            "    accuracy                           0.72      1993\n",
            "   macro avg       0.66      0.67      0.66      1993\n",
            "weighted avg       0.73      0.72      0.72      1993\n",
            "\n"
          ]
        }
      ]
    },
    {
      "cell_type": "code",
      "source": [
        "%%time \n",
        "\n",
        "model.predict(X_test[:10])"
      ],
      "metadata": {
        "colab": {
          "base_uri": "https://localhost:8080/"
        },
        "id": "XorlWcV3m9ep",
        "outputId": "9cfa1b92-820e-4b7b-9d53-fd08e249859f"
      },
      "execution_count": 67,
      "outputs": [
        {
          "output_type": "stream",
          "name": "stdout",
          "text": [
            "1/1 [==============================] - 0s 60ms/step\n",
            "CPU times: user 67.8 ms, sys: 4.62 ms, total: 72.4 ms\n",
            "Wall time: 96.5 ms\n"
          ]
        },
        {
          "output_type": "execute_result",
          "data": {
            "text/plain": [
              "array([[6.74066250e-04, 3.48512185e-06, 1.35263547e-01, 6.87520653e-02,\n",
              "        4.46116428e-05, 5.40949850e-06, 7.95256793e-01],\n",
              "       [2.82189436e-03, 6.35956079e-02, 1.81027872e-06, 1.00357400e-04,\n",
              "        4.04797882e-01, 5.28540850e-01, 1.41604643e-04],\n",
              "       [1.52976185e-01, 1.62147090e-01, 1.46645971e-03, 2.36842921e-03,\n",
              "        4.10447747e-01, 2.68204659e-01, 2.38941587e-03],\n",
              "       [3.63796055e-02, 8.93095374e-01, 7.47038925e-04, 4.36695962e-04,\n",
              "        3.66294160e-02, 3.25609855e-02, 1.50867520e-04],\n",
              "       [1.74939722e-01, 1.41219512e-01, 2.11012930e-01, 3.78373936e-02,\n",
              "        2.31927037e-01, 1.90685645e-01, 1.23777455e-02],\n",
              "       [1.20237537e-01, 4.60247211e-02, 7.09247828e-01, 1.20069133e-03,\n",
              "        8.16780552e-02, 4.14037518e-02, 2.07439953e-04],\n",
              "       [2.38600709e-02, 1.93261784e-02, 1.21245463e-03, 3.98471504e-01,\n",
              "        1.61255464e-01, 1.44823864e-01, 2.51050442e-01],\n",
              "       [2.05436096e-01, 9.24103614e-03, 1.52622943e-05, 4.39989599e-05,\n",
              "        6.01700902e-01, 1.83401674e-01, 1.61030694e-04],\n",
              "       [6.31770372e-01, 1.05669685e-02, 3.05348933e-01, 3.39626313e-05,\n",
              "        4.42386456e-02, 8.03384837e-03, 7.23202766e-06],\n",
              "       [7.37080455e-01, 7.73139074e-02, 2.33214396e-05, 9.68608560e-07,\n",
              "        1.58107713e-01, 2.74666306e-02, 7.05641878e-06]], dtype=float32)"
            ]
          },
          "metadata": {},
          "execution_count": 67
        }
      ]
    }
  ]
}