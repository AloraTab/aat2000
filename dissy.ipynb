{
  "nbformat": 4,
  "nbformat_minor": 0,
  "metadata": {
    "colab": {
      "provenance": [],
      "machine_shape": "hm",
      "mount_file_id": "1_avgn-aBGMXGtPD7MRZBkiQvN9Z7K8MY",
      "authorship_tag": "ABX9TyMW+1up1Us4iUjLTU4WsohQ",
      "include_colab_link": true
    },
    "kernelspec": {
      "name": "python3",
      "display_name": "Python 3"
    },
    "language_info": {
      "name": "python"
    },
    "accelerator": "GPU",
    "gpuClass": "standard"
  },
  "cells": [
    {
      "cell_type": "markdown",
      "metadata": {
        "id": "view-in-github",
        "colab_type": "text"
      },
      "source": [
        "<a href=\"https://colab.research.google.com/github/AloraTab/aat2000/blob/main/dissy.ipynb\" target=\"_parent\"><img src=\"https://colab.research.google.com/assets/colab-badge.svg\" alt=\"Open In Colab\"/></a>"
      ]
    },
    {
      "cell_type": "code",
      "source": [
        "# %pip install pandas==1.5.3\n",
        "# %pip install keras-lookahead\n",
        "# %pip install keras-rectified-adam\n",
        "# %pip install tensorflow-addons==0.19.0\n",
        "# %pip install keras==2.11.0"
      ],
      "metadata": {
        "id": "igoiIt__W5xU",
        "colab": {
          "base_uri": "https://localhost:8080/"
        },
        "outputId": "d942f841-fce0-4a20-c49e-11a12d877dd8"
      },
      "execution_count": 1,
      "outputs": [
        {
          "output_type": "stream",
          "name": "stdout",
          "text": [
            "Looking in indexes: https://pypi.org/simple, https://us-python.pkg.dev/colab-wheels/public/simple/\n",
            "Collecting pandas==1.5.3\n",
            "  Downloading pandas-1.5.3-cp39-cp39-manylinux_2_17_x86_64.manylinux2014_x86_64.whl (12.2 MB)\n",
            "\u001b[2K     \u001b[90m━━━━━━━━━━━━━━━━━━━━━━━━━━━━━━━━━━━━━━━━\u001b[0m \u001b[32m12.2/12.2 MB\u001b[0m \u001b[31m33.2 MB/s\u001b[0m eta \u001b[36m0:00:00\u001b[0m\n",
            "\u001b[?25hRequirement already satisfied: pytz>=2020.1 in /usr/local/lib/python3.9/dist-packages (from pandas==1.5.3) (2022.7.1)\n",
            "Requirement already satisfied: numpy>=1.20.3 in /usr/local/lib/python3.9/dist-packages (from pandas==1.5.3) (1.22.4)\n",
            "Requirement already satisfied: python-dateutil>=2.8.1 in /usr/local/lib/python3.9/dist-packages (from pandas==1.5.3) (2.8.2)\n",
            "Requirement already satisfied: six>=1.5 in /usr/local/lib/python3.9/dist-packages (from python-dateutil>=2.8.1->pandas==1.5.3) (1.15.0)\n",
            "Installing collected packages: pandas\n",
            "  Attempting uninstall: pandas\n",
            "    Found existing installation: pandas 1.3.5\n",
            "    Uninstalling pandas-1.3.5:\n",
            "      Successfully uninstalled pandas-1.3.5\n",
            "Successfully installed pandas-1.5.3\n",
            "Looking in indexes: https://pypi.org/simple, https://us-python.pkg.dev/colab-wheels/public/simple/\n",
            "Collecting keras-lookahead\n",
            "  Downloading keras-lookahead-0.9.0.tar.gz (5.3 kB)\n",
            "  Preparing metadata (setup.py) ... \u001b[?25l\u001b[?25hdone\n",
            "Requirement already satisfied: numpy in /usr/local/lib/python3.9/dist-packages (from keras-lookahead) (1.22.4)\n",
            "Requirement already satisfied: Keras in /usr/local/lib/python3.9/dist-packages (from keras-lookahead) (2.11.0)\n",
            "Building wheels for collected packages: keras-lookahead\n",
            "  Building wheel for keras-lookahead (setup.py) ... \u001b[?25l\u001b[?25hdone\n",
            "  Created wheel for keras-lookahead: filename=keras_lookahead-0.9.0-py3-none-any.whl size=6402 sha256=85c9ac48cd841d0aef8170dacdfb1d298b7ef5f1fbf535c8cb922088a06c1f4f\n",
            "  Stored in directory: /root/.cache/pip/wheels/0f/c2/3f/81c19ff3ba9f985dbed18cfc261440fdcea3a6fb0c6739bb06\n",
            "Successfully built keras-lookahead\n",
            "Installing collected packages: keras-lookahead\n",
            "Successfully installed keras-lookahead-0.9.0\n",
            "Looking in indexes: https://pypi.org/simple, https://us-python.pkg.dev/colab-wheels/public/simple/\n",
            "Collecting keras-rectified-adam\n",
            "  Downloading keras-rectified-adam-0.20.0.tar.gz (7.0 kB)\n",
            "  Preparing metadata (setup.py) ... \u001b[?25l\u001b[?25hdone\n",
            "Requirement already satisfied: numpy in /usr/local/lib/python3.9/dist-packages (from keras-rectified-adam) (1.22.4)\n",
            "Requirement already satisfied: Keras in /usr/local/lib/python3.9/dist-packages (from keras-rectified-adam) (2.11.0)\n",
            "Building wheels for collected packages: keras-rectified-adam\n",
            "  Building wheel for keras-rectified-adam (setup.py) ... \u001b[?25l\u001b[?25hdone\n",
            "  Created wheel for keras-rectified-adam: filename=keras_rectified_adam-0.20.0-py3-none-any.whl size=8271 sha256=66defb8683f02775f418fb7233e6427d7ff0d1b6887a59f27565d47e74a8526f\n",
            "  Stored in directory: /root/.cache/pip/wheels/28/1c/f2/1554bc7e22650af3ed067be67cca780212fac6955a272ca815\n",
            "Successfully built keras-rectified-adam\n",
            "Installing collected packages: keras-rectified-adam\n",
            "Successfully installed keras-rectified-adam-0.20.0\n",
            "Looking in indexes: https://pypi.org/simple, https://us-python.pkg.dev/colab-wheels/public/simple/\n",
            "Collecting tensorflow-addons==0.19.0\n",
            "  Downloading tensorflow_addons-0.19.0-cp39-cp39-manylinux_2_17_x86_64.manylinux2014_x86_64.whl (1.1 MB)\n",
            "\u001b[2K     \u001b[90m━━━━━━━━━━━━━━━━━━━━━━━━━━━━━━━━━━━━━━━━\u001b[0m \u001b[32m1.1/1.1 MB\u001b[0m \u001b[31m15.0 MB/s\u001b[0m eta \u001b[36m0:00:00\u001b[0m\n",
            "\u001b[?25hCollecting typeguard>=2.7\n",
            "  Downloading typeguard-2.13.3-py3-none-any.whl (17 kB)\n",
            "Requirement already satisfied: packaging in /usr/local/lib/python3.9/dist-packages (from tensorflow-addons==0.19.0) (23.0)\n",
            "Installing collected packages: typeguard, tensorflow-addons\n",
            "Successfully installed tensorflow-addons-0.19.0 typeguard-2.13.3\n"
          ]
        }
      ]
    },
    {
      "cell_type": "code",
      "execution_count": 2,
      "metadata": {
        "id": "VU0wpJkMk1O1"
      },
      "outputs": [],
      "source": [
        "from tensorflow import keras\n",
        "from keras.utils import np_utils\n",
        "from sklearn.model_selection import train_test_split\n",
        "from sklearn.preprocessing import LabelEncoder\n",
        "from keras.layers.convolutional import Conv2D, MaxPooling2D\n",
        "from keras.layers import Attention\n",
        "from keras_radam import RAdam\n",
        "from keras_lookahead import Lookahead\n",
        "from sklearn.metrics import classification_report, confusion_matrix\n",
        "from tensorflow.keras.optimizers.schedules import ExponentialDecay\n",
        "\n",
        "\n",
        "import tensorflow as tf\n",
        "import pandas as pd\n",
        "import numpy as np\n",
        "import matplotlib.pyplot as plt\n",
        "import os"
      ]
    },
    {
      "cell_type": "code",
      "source": [
        "from google.colab import drive\n",
        "drive.mount('/content/gdrive')"
      ],
      "metadata": {
        "colab": {
          "base_uri": "https://localhost:8080/"
        },
        "id": "bD1v8irVVL8A",
        "outputId": "d16f2b85-cdd7-46cb-d128-60c9ea14d1f1"
      },
      "execution_count": 3,
      "outputs": [
        {
          "output_type": "stream",
          "name": "stdout",
          "text": [
            "Mounted at /content/gdrive\n"
          ]
        }
      ]
    },
    {
      "cell_type": "code",
      "source": [
        "PATH = '/content/gdrive/MyDrive/Colab Notebooks/Dataset'\n",
        "fileName = 'csi-dataset-20-4-5.pkl'\n",
        "fullPath = os.path.join(PATH, fileName)\n",
        "print(fullPath)"
      ],
      "metadata": {
        "colab": {
          "base_uri": "https://localhost:8080/"
        },
        "id": "x5-JT2q-WN6F",
        "outputId": "65e8cb60-7094-4784-c860-3791ab585d04"
      },
      "execution_count": 4,
      "outputs": [
        {
          "output_type": "stream",
          "name": "stdout",
          "text": [
            "/content/gdrive/MyDrive/Colab Notebooks/Dataset/csi-dataset-20-4-5.pkl\n"
          ]
        }
      ]
    },
    {
      "cell_type": "code",
      "source": [
        "df = pd.read_pickle(fullPath)"
      ],
      "metadata": {
        "id": "qPFc8j7Sl_AE"
      },
      "execution_count": 5,
      "outputs": []
    },
    {
      "cell_type": "code",
      "source": [
        "df = df.sample(frac=1)\n",
        "Y = df['Label'].values\n",
        "X = df['Sample'].values\n",
        "X = [[np.asarray(sample) for sample in i] for i in X]\n",
        "X = np.asarray(X).astype('float32')"
      ],
      "metadata": {
        "id": "9OTolodRQ-6R"
      },
      "execution_count": 20,
      "outputs": []
    },
    {
      "cell_type": "code",
      "source": [
        "encoder = LabelEncoder()\n",
        "encoder.fit(Y)\n",
        "encoded_Y = encoder.transform(Y)\n",
        "vectorized_y = np_utils.to_categorical(encoded_Y)"
      ],
      "metadata": {
        "id": "GqR3f1_JRANR"
      },
      "execution_count": 21,
      "outputs": []
    },
    {
      "cell_type": "code",
      "source": [
        "classes = encoder.classes_\n",
        "print(classes)"
      ],
      "metadata": {
        "colab": {
          "base_uri": "https://localhost:8080/"
        },
        "id": "JAFDwJkoAN7s",
        "outputId": "42126ba3-8c36-4be9-fb35-5ddcd26da554"
      },
      "execution_count": 22,
      "outputs": [
        {
          "output_type": "stream",
          "name": "stdout",
          "text": [
            "['I1' 'I13' 'I2' 'I3' 'I4']\n"
          ]
        }
      ]
    },
    {
      "cell_type": "code",
      "source": [
        "X_train, X_test, Y_train, Y_test = train_test_split(X,vectorized_y, test_size=0.3, random_state=40)"
      ],
      "metadata": {
        "id": "vZpv6d3uRBgV"
      },
      "execution_count": 49,
      "outputs": []
    },
    {
      "cell_type": "code",
      "source": [
        "X_train = X_train.reshape((X_train.shape[0], X_train.shape[1],X_train.shape[2],1))\n",
        "X_test = X_test.reshape((X_test.shape[0], X_test.shape[1],X_test.shape[2],1))\n",
        "\n",
        "X_train = tf.convert_to_tensor(X_train)\n",
        "Y_train = tf.convert_to_tensor(Y_train)"
      ],
      "metadata": {
        "id": "UibBIJWtRCkL"
      },
      "execution_count": 57,
      "outputs": []
    },
    {
      "cell_type": "code",
      "source": [
        "# Mish Activation\n",
        "def mish(inputs):\n",
        "    x = tf.nn.softplus(inputs)\n",
        "    x = tf.nn.tanh(x)\n",
        "    x = tf.multiply(x,inputs)\n",
        "    return x"
      ],
      "metadata": {
        "id": "CDOv6JpKRG47"
      },
      "execution_count": 25,
      "outputs": []
    },
    {
      "cell_type": "code",
      "source": [
        "print(tf.__version__)\n",
        "import sys\n",
        "print(sys.version)"
      ],
      "metadata": {
        "colab": {
          "base_uri": "https://localhost:8080/"
        },
        "id": "nNuDbDcMHi15",
        "outputId": "65ad3e8a-f893-4fae-9412-f22e596d02f7"
      },
      "execution_count": 26,
      "outputs": [
        {
          "output_type": "stream",
          "name": "stdout",
          "text": [
            "2.11.0\n",
            "3.9.16 (main, Dec  7 2022, 01:11:51) \n",
            "[GCC 9.4.0]\n"
          ]
        }
      ]
    },
    {
      "cell_type": "code",
      "source": [
        "# Ranger Optimizer\n",
        "# www.kaggle.com/code/yazanmajzob/ranger-optimizeranvas.com\n",
        "\n",
        "import tensorflow_addons as tfa\n",
        "\n",
        "def Ranger(sync_period=6,\n",
        "           slow_step_size=0.5,\n",
        "           learning_rate=0.001,\n",
        "           beta_1=0.9,\n",
        "           beta_2=0.999,\n",
        "           epsilon=1e-7,\n",
        "           weight_decay=0.,\n",
        "           amsgrad=False,\n",
        "           sma_threshold=5.0,\n",
        "           total_steps=0,\n",
        "           warmup_proportion=0.1,\n",
        "           min_lr=0.,\n",
        "           name=\"Ranger\"):\n",
        "    inner = tfa.optimizers.RectifiedAdam(learning_rate, beta_1, beta_2, epsilon, weight_decay, amsgrad, sma_threshold, total_steps, warmup_proportion, min_lr, name)\n",
        "    optim = tfa.optimizers.Lookahead(inner, sync_period, slow_step_size, name)\n",
        "    return optim"
      ],
      "metadata": {
        "id": "Kmg26DSAG_J0"
      },
      "execution_count": 27,
      "outputs": []
    },
    {
      "cell_type": "code",
      "source": [
        "def csiTime_block(input_layer):\n",
        "    layer_1 = Conv2D(10, (1,1), padding='same', activation='relu')(input_layer)\n",
        "    layer_1 = Conv2D(10, (10,10), padding='same', activation='relu')(layer_1)\n",
        "\n",
        "    layer_2 = Conv2D(10, (1,1), padding='same', activation='relu')(input_layer)\n",
        "    layer_2 = Conv2D(10, (20,20), padding='same', activation='relu')(layer_2)\n",
        "\n",
        "    layer_3 = Conv2D(10, (1,1), padding='same')(input_layer)\n",
        "    layer_3 = Conv2D(10, (40,40), padding='same', activation='relu')(layer_3)\n",
        "\n",
        "    mid_1 = keras.layers.concatenate([layer_1, layer_2, layer_3], axis = 3)\n",
        "\n",
        "    layer_4 = keras.layers.BatchNormalization()(mid_1)\n",
        "    \n",
        "    \n",
        "    layer_4 = keras.layers.MaxPooling2D()(layer_4)\n",
        "    # layer_4 = SeqSelfAttention(attention_activation='sigmoid')([layer_4, layer_4])\n",
        "    attn = keras.layers.Attention()([layer_4, layer_4])\n",
        "    # flatten = keras.layers.Flatten()(attn)\n",
        "    output_layer = keras.layers.Dense(8, activation='relu')(attn)\n",
        "    \n",
        "    return output_layer"
      ],
      "metadata": {
        "id": "3HF2Ga72RIXa"
      },
      "execution_count": 28,
      "outputs": []
    },
    {
      "cell_type": "code",
      "source": [
        "def make_model(input_shape):\n",
        "    input_layer = keras.layers.Input(input_shape, dtype='float32')\n",
        "\n",
        "    fir = csiTime_block(input_layer)\n",
        "    sec = csiTime_block(fir)\n",
        "    # thi = csiTime_block(sec)\n",
        "    # fou = csiTime_block(thi)\n",
        "    # fif = csiTime_block(fou)\n",
        "    # six = csiTime_block(fif)\n",
        "\n",
        "    gap = keras.layers.GlobalAveragePooling2D()(sec)\n",
        "    # layer_4 = keras.layers.Flatten()(layer_4)\n",
        "    output_layer = keras.layers.Dense(5, activation=mish)(gap) #Need to change to num of classes\n",
        "    \n",
        "    return keras.models.Model(inputs=input_layer, outputs=output_layer)\n",
        "\n",
        "\n",
        "model = make_model(input_shape=X_train.shape[1:])\n",
        "# keras.utils.plot_model(model, show_shapes=True)"
      ],
      "metadata": {
        "id": "6X8tHx_uRKNW"
      },
      "execution_count": 29,
      "outputs": []
    },
    {
      "cell_type": "code",
      "source": [
        "model.summary()"
      ],
      "metadata": {
        "id": "AHwM0c7sRNnY",
        "colab": {
          "base_uri": "https://localhost:8080/"
        },
        "outputId": "1ffc9dbe-c896-47e1-ad32-09fa0bc59b38"
      },
      "execution_count": 30,
      "outputs": [
        {
          "output_type": "stream",
          "name": "stdout",
          "text": [
            "Model: \"model_1\"\n",
            "__________________________________________________________________________________________________\n",
            " Layer (type)                   Output Shape         Param #     Connected to                     \n",
            "==================================================================================================\n",
            " input_2 (InputLayer)           [(None, 256, 180, 1  0           []                               \n",
            "                                )]                                                                \n",
            "                                                                                                  \n",
            " conv2d_12 (Conv2D)             (None, 256, 180, 10  20          ['input_2[0][0]']                \n",
            "                                )                                                                 \n",
            "                                                                                                  \n",
            " conv2d_14 (Conv2D)             (None, 256, 180, 10  20          ['input_2[0][0]']                \n",
            "                                )                                                                 \n",
            "                                                                                                  \n",
            " conv2d_16 (Conv2D)             (None, 256, 180, 10  20          ['input_2[0][0]']                \n",
            "                                )                                                                 \n",
            "                                                                                                  \n",
            " conv2d_13 (Conv2D)             (None, 256, 180, 10  10010       ['conv2d_12[0][0]']              \n",
            "                                )                                                                 \n",
            "                                                                                                  \n",
            " conv2d_15 (Conv2D)             (None, 256, 180, 10  40010       ['conv2d_14[0][0]']              \n",
            "                                )                                                                 \n",
            "                                                                                                  \n",
            " conv2d_17 (Conv2D)             (None, 256, 180, 10  160010      ['conv2d_16[0][0]']              \n",
            "                                )                                                                 \n",
            "                                                                                                  \n",
            " concatenate_2 (Concatenate)    (None, 256, 180, 30  0           ['conv2d_13[0][0]',              \n",
            "                                )                                 'conv2d_15[0][0]',              \n",
            "                                                                  'conv2d_17[0][0]']              \n",
            "                                                                                                  \n",
            " batch_normalization_2 (BatchNo  (None, 256, 180, 30  120        ['concatenate_2[0][0]']          \n",
            " rmalization)                   )                                                                 \n",
            "                                                                                                  \n",
            " max_pooling2d_2 (MaxPooling2D)  (None, 128, 90, 30)  0          ['batch_normalization_2[0][0]']  \n",
            "                                                                                                  \n",
            " attention_2 (Attention)        (None, 128, 90, 30)  0           ['max_pooling2d_2[0][0]',        \n",
            "                                                                  'max_pooling2d_2[0][0]']        \n",
            "                                                                                                  \n",
            " dense_3 (Dense)                (None, 128, 90, 8)   248         ['attention_2[0][0]']            \n",
            "                                                                                                  \n",
            " conv2d_18 (Conv2D)             (None, 128, 90, 10)  90          ['dense_3[0][0]']                \n",
            "                                                                                                  \n",
            " conv2d_20 (Conv2D)             (None, 128, 90, 10)  90          ['dense_3[0][0]']                \n",
            "                                                                                                  \n",
            " conv2d_22 (Conv2D)             (None, 128, 90, 10)  90          ['dense_3[0][0]']                \n",
            "                                                                                                  \n",
            " conv2d_19 (Conv2D)             (None, 128, 90, 10)  10010       ['conv2d_18[0][0]']              \n",
            "                                                                                                  \n",
            " conv2d_21 (Conv2D)             (None, 128, 90, 10)  40010       ['conv2d_20[0][0]']              \n",
            "                                                                                                  \n",
            " conv2d_23 (Conv2D)             (None, 128, 90, 10)  160010      ['conv2d_22[0][0]']              \n",
            "                                                                                                  \n",
            " concatenate_3 (Concatenate)    (None, 128, 90, 30)  0           ['conv2d_19[0][0]',              \n",
            "                                                                  'conv2d_21[0][0]',              \n",
            "                                                                  'conv2d_23[0][0]']              \n",
            "                                                                                                  \n",
            " batch_normalization_3 (BatchNo  (None, 128, 90, 30)  120        ['concatenate_3[0][0]']          \n",
            " rmalization)                                                                                     \n",
            "                                                                                                  \n",
            " max_pooling2d_3 (MaxPooling2D)  (None, 64, 45, 30)  0           ['batch_normalization_3[0][0]']  \n",
            "                                                                                                  \n",
            " attention_3 (Attention)        (None, 64, 45, 30)   0           ['max_pooling2d_3[0][0]',        \n",
            "                                                                  'max_pooling2d_3[0][0]']        \n",
            "                                                                                                  \n",
            " dense_4 (Dense)                (None, 64, 45, 8)    248         ['attention_3[0][0]']            \n",
            "                                                                                                  \n",
            " global_average_pooling2d_1 (Gl  (None, 8)           0           ['dense_4[0][0]']                \n",
            " obalAveragePooling2D)                                                                            \n",
            "                                                                                                  \n",
            " dense_5 (Dense)                (None, 5)            45          ['global_average_pooling2d_1[0][0\n",
            "                                                                 ]']                              \n",
            "                                                                                                  \n",
            "==================================================================================================\n",
            "Total params: 421,171\n",
            "Trainable params: 421,051\n",
            "Non-trainable params: 120\n",
            "__________________________________________________________________________________________________\n"
          ]
        }
      ]
    },
    {
      "cell_type": "code",
      "source": [
        "epochs = 150\n",
        "batch_size = 32\n",
        "\n",
        "lr_schedule = ExponentialDecay(\n",
        "    initial_learning_rate=0.1,\n",
        "    decay_steps=100, decay_rate=0.96,\n",
        "    staircase=True)\n",
        "\n",
        "callbacks = [\n",
        "    keras.callbacks.ModelCheckpoint(\n",
        "        \"sa-mish-adam-150.h5\", save_best_only=True, monitor=\"val_loss\"\n",
        "    ),\n",
        "    # keras.callbacks.ReduceLROnPlateau(\n",
        "    #     monitor=\"val_loss\", factor=0.5, patience=20, min_lr=0.0001\n",
        "    # ),\n",
        "    keras.callbacks.EarlyStopping(monitor=\"val_loss\", patience=30, verbose=1),\n",
        "]\n",
        "model.compile(\n",
        "    optimizer=Ranger(learning_rate = lr_schedule),\n",
        "    loss=\"categorical_crossentropy\",\n",
        "    metrics=[\"categorical_accuracy\"],\n",
        ")\n",
        "history = model.fit(\n",
        "    X_train,\n",
        "    Y_train,\n",
        "    # steps_per_epoch = int(trainX_size/batch_size),\n",
        "    # validation_steps = int(trainY_size/batch_size),\n",
        "    batch_size=batch_size,\n",
        "    epochs=epochs,\n",
        "    callbacks=callbacks,\n",
        "    validation_split=0.2,\n",
        "    verbose=1,\n",
        "    \n",
        ")"
      ],
      "metadata": {
        "id": "dyDdzsiLRQnt",
        "colab": {
          "base_uri": "https://localhost:8080/"
        },
        "outputId": "fab83964-a6c9-40e0-cca7-e69dc8fecb14"
      },
      "execution_count": 42,
      "outputs": [
        {
          "output_type": "stream",
          "name": "stdout",
          "text": [
            "Epoch 1/150\n",
            "83/83 [==============================] - 180s 2s/step - loss: 10.7008 - categorical_accuracy: 0.2047 - val_loss: 10.1376 - val_categorical_accuracy: 0.2112\n",
            "Epoch 2/150\n",
            "83/83 [==============================] - 172s 2s/step - loss: 10.7434 - categorical_accuracy: 0.2100 - val_loss: 10.0890 - val_categorical_accuracy: 0.2097\n",
            "Epoch 3/150\n",
            "83/83 [==============================] - 172s 2s/step - loss: 10.7495 - categorical_accuracy: 0.2077 - val_loss: 10.1133 - val_categorical_accuracy: 0.2097\n",
            "Epoch 4/150\n",
            "83/83 [==============================] - 172s 2s/step - loss: 10.7373 - categorical_accuracy: 0.2122 - val_loss: 10.0890 - val_categorical_accuracy: 0.2097\n",
            "Epoch 5/150\n",
            "83/83 [==============================] - 171s 2s/step - loss: 10.7190 - categorical_accuracy: 0.2103 - val_loss: 10.0890 - val_categorical_accuracy: 0.2097\n",
            "Epoch 6/150\n",
            "83/83 [==============================] - 172s 2s/step - loss: 10.7190 - categorical_accuracy: 0.2111 - val_loss: 10.0890 - val_categorical_accuracy: 0.2097\n",
            "Epoch 7/150\n",
            "83/83 [==============================] - 172s 2s/step - loss: 10.8529 - categorical_accuracy: 0.2062 - val_loss: 10.1376 - val_categorical_accuracy: 0.2112\n",
            "Epoch 8/150\n",
            "83/83 [==============================] - 172s 2s/step - loss: 10.7373 - categorical_accuracy: 0.2073 - val_loss: 10.1133 - val_categorical_accuracy: 0.2097\n",
            "Epoch 9/150\n",
            "83/83 [==============================] - 172s 2s/step - loss: 10.7921 - categorical_accuracy: 0.2066 - val_loss: 10.1376 - val_categorical_accuracy: 0.2097\n",
            "Epoch 10/150\n",
            "83/83 [==============================] - 172s 2s/step - loss: 10.7860 - categorical_accuracy: 0.2107 - val_loss: 10.1376 - val_categorical_accuracy: 0.2097\n",
            "Epoch 11/150\n",
            "83/83 [==============================] - 175s 2s/step - loss: 9.1630 - categorical_accuracy: 0.2058 - val_loss: 3.5160 - val_categorical_accuracy: 0.3801\n",
            "Epoch 12/150\n",
            "83/83 [==============================] - 178s 2s/step - loss: 1.5844 - categorical_accuracy: 0.2689 - val_loss: 1.5940 - val_categorical_accuracy: 0.3183\n",
            "Epoch 13/150\n",
            "83/83 [==============================] - 178s 2s/step - loss: 1.4269 - categorical_accuracy: 0.3795 - val_loss: 6.1286 - val_categorical_accuracy: 0.1478\n",
            "Epoch 14/150\n",
            "83/83 [==============================] - 178s 2s/step - loss: 1.4196 - categorical_accuracy: 0.4320 - val_loss: 1.7189 - val_categorical_accuracy: 0.3198\n",
            "Epoch 15/150\n",
            "83/83 [==============================] - 178s 2s/step - loss: 1.4744 - categorical_accuracy: 0.3437 - val_loss: 1.5816 - val_categorical_accuracy: 0.3243\n",
            "Epoch 16/150\n",
            "83/83 [==============================] - 178s 2s/step - loss: 1.4293 - categorical_accuracy: 0.3539 - val_loss: 1.4682 - val_categorical_accuracy: 0.3394\n",
            "Epoch 17/150\n",
            "83/83 [==============================] - 178s 2s/step - loss: 1.3907 - categorical_accuracy: 0.3708 - val_loss: 1.4147 - val_categorical_accuracy: 0.3575\n",
            "Epoch 18/150\n",
            "83/83 [==============================] - 178s 2s/step - loss: 1.3639 - categorical_accuracy: 0.3844 - val_loss: 1.4004 - val_categorical_accuracy: 0.3846\n",
            "Epoch 19/150\n",
            "83/83 [==============================] - 178s 2s/step - loss: 1.3490 - categorical_accuracy: 0.3916 - val_loss: 1.3658 - val_categorical_accuracy: 0.4223\n",
            "Epoch 20/150\n",
            "83/83 [==============================] - 178s 2s/step - loss: 1.3585 - categorical_accuracy: 0.4029 - val_loss: 1.4472 - val_categorical_accuracy: 0.4374\n",
            "Epoch 21/150\n",
            "83/83 [==============================] - 178s 2s/step - loss: 1.3236 - categorical_accuracy: 0.4237 - val_loss: 1.3367 - val_categorical_accuracy: 0.4133\n",
            "Epoch 22/150\n",
            "83/83 [==============================] - 178s 2s/step - loss: 1.3212 - categorical_accuracy: 0.4388 - val_loss: 1.6307 - val_categorical_accuracy: 0.3801\n",
            "Epoch 23/150\n",
            "83/83 [==============================] - 178s 2s/step - loss: 1.2796 - categorical_accuracy: 0.4554 - val_loss: 1.8931 - val_categorical_accuracy: 0.3575\n",
            "Epoch 24/150\n",
            "83/83 [==============================] - 178s 2s/step - loss: 1.2651 - categorical_accuracy: 0.4921 - val_loss: 1.3871 - val_categorical_accuracy: 0.4902\n",
            "Epoch 25/150\n",
            "83/83 [==============================] - 178s 2s/step - loss: 1.4166 - categorical_accuracy: 0.4800 - val_loss: 5.9875 - val_categorical_accuracy: 0.1538\n",
            "Epoch 26/150\n",
            "83/83 [==============================] - 178s 2s/step - loss: 1.3328 - categorical_accuracy: 0.4426 - val_loss: 1.4840 - val_categorical_accuracy: 0.4284\n",
            "Epoch 27/150\n",
            "83/83 [==============================] - 178s 2s/step - loss: 1.2728 - categorical_accuracy: 0.4698 - val_loss: 1.3081 - val_categorical_accuracy: 0.4615\n",
            "Epoch 28/150\n",
            "83/83 [==============================] - 178s 2s/step - loss: 1.2731 - categorical_accuracy: 0.4713 - val_loss: 1.2534 - val_categorical_accuracy: 0.4630\n",
            "Epoch 29/150\n",
            "83/83 [==============================] - 178s 2s/step - loss: 1.2495 - categorical_accuracy: 0.4887 - val_loss: 1.2432 - val_categorical_accuracy: 0.4661\n",
            "Epoch 30/150\n",
            "83/83 [==============================] - 178s 2s/step - loss: 1.2399 - categorical_accuracy: 0.4906 - val_loss: 1.2279 - val_categorical_accuracy: 0.4796\n",
            "Epoch 31/150\n",
            "83/83 [==============================] - 178s 2s/step - loss: 1.2308 - categorical_accuracy: 0.4936 - val_loss: 1.5411 - val_categorical_accuracy: 0.4465\n",
            "Epoch 32/150\n",
            "83/83 [==============================] - 178s 2s/step - loss: 1.2063 - categorical_accuracy: 0.4864 - val_loss: 1.2649 - val_categorical_accuracy: 0.4811\n",
            "Epoch 33/150\n",
            "83/83 [==============================] - 178s 2s/step - loss: 1.1930 - categorical_accuracy: 0.4951 - val_loss: 1.4447 - val_categorical_accuracy: 0.4992\n",
            "Epoch 34/150\n",
            "83/83 [==============================] - 178s 2s/step - loss: 1.1897 - categorical_accuracy: 0.5147 - val_loss: 1.4217 - val_categorical_accuracy: 0.4842\n",
            "Epoch 35/150\n",
            "83/83 [==============================] - 178s 2s/step - loss: 1.4517 - categorical_accuracy: 0.3716 - val_loss: 2.4599 - val_categorical_accuracy: 0.2670\n",
            "Epoch 36/150\n",
            "83/83 [==============================] - 178s 2s/step - loss: 1.4565 - categorical_accuracy: 0.2931 - val_loss: 1.4446 - val_categorical_accuracy: 0.3424\n",
            "Epoch 37/150\n",
            "83/83 [==============================] - 178s 2s/step - loss: 1.3379 - categorical_accuracy: 0.3742 - val_loss: 1.3537 - val_categorical_accuracy: 0.3650\n",
            "Epoch 38/150\n",
            "83/83 [==============================] - 178s 2s/step - loss: 1.2623 - categorical_accuracy: 0.4313 - val_loss: 1.3533 - val_categorical_accuracy: 0.4857\n",
            "Epoch 39/150\n",
            "83/83 [==============================] - 178s 2s/step - loss: 1.2410 - categorical_accuracy: 0.4838 - val_loss: 1.3308 - val_categorical_accuracy: 0.4540\n",
            "Epoch 40/150\n",
            "83/83 [==============================] - 178s 2s/step - loss: 1.1793 - categorical_accuracy: 0.5211 - val_loss: 1.2924 - val_categorical_accuracy: 0.5083\n",
            "Epoch 41/150\n",
            "83/83 [==============================] - 178s 2s/step - loss: 1.1738 - categorical_accuracy: 0.5242 - val_loss: 1.3612 - val_categorical_accuracy: 0.4811\n",
            "Epoch 42/150\n",
            "83/83 [==============================] - 178s 2s/step - loss: 1.1599 - categorical_accuracy: 0.5359 - val_loss: 1.1883 - val_categorical_accuracy: 0.5520\n",
            "Epoch 43/150\n",
            "83/83 [==============================] - 178s 2s/step - loss: 1.1866 - categorical_accuracy: 0.5487 - val_loss: 1.1386 - val_categorical_accuracy: 0.5430\n",
            "Epoch 44/150\n",
            "83/83 [==============================] - 178s 2s/step - loss: 1.1532 - categorical_accuracy: 0.5344 - val_loss: 1.1532 - val_categorical_accuracy: 0.5566\n",
            "Epoch 45/150\n",
            "83/83 [==============================] - 178s 2s/step - loss: 1.1345 - categorical_accuracy: 0.5653 - val_loss: 1.1373 - val_categorical_accuracy: 0.5581\n",
            "Epoch 46/150\n",
            "83/83 [==============================] - 179s 2s/step - loss: 1.1355 - categorical_accuracy: 0.5593 - val_loss: 1.1040 - val_categorical_accuracy: 0.5716\n",
            "Epoch 47/150\n",
            "83/83 [==============================] - 178s 2s/step - loss: 1.1158 - categorical_accuracy: 0.5555 - val_loss: 1.0910 - val_categorical_accuracy: 0.5656\n",
            "Epoch 48/150\n",
            "83/83 [==============================] - 178s 2s/step - loss: 1.0797 - categorical_accuracy: 0.5563 - val_loss: 1.1001 - val_categorical_accuracy: 0.5581\n",
            "Epoch 49/150\n",
            "83/83 [==============================] - 178s 2s/step - loss: 1.0607 - categorical_accuracy: 0.5668 - val_loss: 1.1415 - val_categorical_accuracy: 0.5732\n",
            "Epoch 50/150\n",
            "83/83 [==============================] - 178s 2s/step - loss: 1.0605 - categorical_accuracy: 0.5740 - val_loss: 1.0785 - val_categorical_accuracy: 0.5747\n",
            "Epoch 51/150\n",
            "83/83 [==============================] - 178s 2s/step - loss: 1.0645 - categorical_accuracy: 0.5634 - val_loss: 1.2303 - val_categorical_accuracy: 0.5098\n",
            "Epoch 52/150\n",
            "83/83 [==============================] - 178s 2s/step - loss: 1.0978 - categorical_accuracy: 0.5699 - val_loss: 3.3079 - val_categorical_accuracy: 0.4329\n",
            "Epoch 53/150\n",
            "83/83 [==============================] - 178s 2s/step - loss: 1.0506 - categorical_accuracy: 0.5744 - val_loss: 1.0804 - val_categorical_accuracy: 0.5732\n",
            "Epoch 54/150\n",
            "83/83 [==============================] - 178s 2s/step - loss: 1.0061 - categorical_accuracy: 0.5699 - val_loss: 1.0790 - val_categorical_accuracy: 0.5566\n",
            "Epoch 55/150\n",
            "83/83 [==============================] - 178s 2s/step - loss: 0.9926 - categorical_accuracy: 0.5695 - val_loss: 1.2113 - val_categorical_accuracy: 0.5354\n",
            "Epoch 56/150\n",
            "83/83 [==============================] - 178s 2s/step - loss: 1.0077 - categorical_accuracy: 0.5869 - val_loss: 1.2018 - val_categorical_accuracy: 0.5264\n",
            "Epoch 57/150\n",
            "83/83 [==============================] - 178s 2s/step - loss: 0.9971 - categorical_accuracy: 0.5778 - val_loss: 1.1722 - val_categorical_accuracy: 0.5445\n",
            "Epoch 58/150\n",
            "83/83 [==============================] - 179s 2s/step - loss: 1.0393 - categorical_accuracy: 0.5608 - val_loss: 0.9864 - val_categorical_accuracy: 0.5641\n",
            "Epoch 59/150\n",
            "83/83 [==============================] - 178s 2s/step - loss: 0.9877 - categorical_accuracy: 0.5616 - val_loss: 2.0924 - val_categorical_accuracy: 0.4480\n",
            "Epoch 60/150\n",
            "83/83 [==============================] - 179s 2s/step - loss: 0.9609 - categorical_accuracy: 0.5566 - val_loss: 0.9891 - val_categorical_accuracy: 0.5852\n",
            "Epoch 61/150\n",
            "83/83 [==============================] - 178s 2s/step - loss: 0.9629 - categorical_accuracy: 0.5665 - val_loss: 1.1724 - val_categorical_accuracy: 0.5430\n",
            "Epoch 62/150\n",
            "83/83 [==============================] - 178s 2s/step - loss: 0.9731 - categorical_accuracy: 0.5585 - val_loss: 0.9827 - val_categorical_accuracy: 0.5837\n",
            "Epoch 63/150\n",
            "83/83 [==============================] - 178s 2s/step - loss: 0.9689 - categorical_accuracy: 0.5718 - val_loss: 5.6894 - val_categorical_accuracy: 0.4118\n",
            "Epoch 64/150\n",
            "83/83 [==============================] - 178s 2s/step - loss: 0.9718 - categorical_accuracy: 0.5600 - val_loss: 1.0341 - val_categorical_accuracy: 0.5867\n",
            "Epoch 65/150\n",
            "83/83 [==============================] - 178s 2s/step - loss: 0.9608 - categorical_accuracy: 0.5608 - val_loss: 1.1103 - val_categorical_accuracy: 0.5475\n",
            "Epoch 66/150\n",
            "83/83 [==============================] - 179s 2s/step - loss: 0.9361 - categorical_accuracy: 0.5748 - val_loss: 0.9716 - val_categorical_accuracy: 0.5913\n",
            "Epoch 67/150\n",
            "83/83 [==============================] - 178s 2s/step - loss: 0.9672 - categorical_accuracy: 0.5725 - val_loss: 0.9954 - val_categorical_accuracy: 0.5943\n",
            "Epoch 68/150\n",
            "83/83 [==============================] - 178s 2s/step - loss: 0.9383 - categorical_accuracy: 0.5767 - val_loss: 1.2024 - val_categorical_accuracy: 0.5732\n",
            "Epoch 69/150\n",
            "83/83 [==============================] - 178s 2s/step - loss: 0.9398 - categorical_accuracy: 0.5823 - val_loss: 1.0067 - val_categorical_accuracy: 0.5716\n",
            "Epoch 70/150\n",
            "83/83 [==============================] - 178s 2s/step - loss: 0.9724 - categorical_accuracy: 0.5544 - val_loss: 3.3471 - val_categorical_accuracy: 0.4374\n",
            "Epoch 71/150\n",
            "83/83 [==============================] - 179s 2s/step - loss: 0.9488 - categorical_accuracy: 0.5725 - val_loss: 1.1057 - val_categorical_accuracy: 0.5671\n",
            "Epoch 72/150\n",
            "83/83 [==============================] - 178s 2s/step - loss: 0.9389 - categorical_accuracy: 0.5752 - val_loss: 0.9597 - val_categorical_accuracy: 0.5897\n",
            "Epoch 73/150\n",
            "83/83 [==============================] - 178s 2s/step - loss: 0.9492 - categorical_accuracy: 0.5725 - val_loss: 1.0187 - val_categorical_accuracy: 0.5777\n",
            "Epoch 74/150\n",
            "83/83 [==============================] - 178s 2s/step - loss: 0.9204 - categorical_accuracy: 0.5925 - val_loss: 0.9846 - val_categorical_accuracy: 0.5762\n",
            "Epoch 75/150\n",
            "83/83 [==============================] - 179s 2s/step - loss: 0.9399 - categorical_accuracy: 0.5759 - val_loss: 1.0688 - val_categorical_accuracy: 0.5777\n",
            "Epoch 76/150\n",
            "83/83 [==============================] - 178s 2s/step - loss: 1.0467 - categorical_accuracy: 0.5268 - val_loss: 1.5670 - val_categorical_accuracy: 0.5324\n",
            "Epoch 77/150\n",
            "83/83 [==============================] - 178s 2s/step - loss: 0.9876 - categorical_accuracy: 0.5510 - val_loss: 0.9886 - val_categorical_accuracy: 0.5400\n",
            "Epoch 78/150\n",
            "83/83 [==============================] - 178s 2s/step - loss: 0.9342 - categorical_accuracy: 0.5532 - val_loss: 1.0142 - val_categorical_accuracy: 0.5430\n",
            "Epoch 79/150\n",
            "83/83 [==============================] - 178s 2s/step - loss: 0.9147 - categorical_accuracy: 0.5585 - val_loss: 0.9880 - val_categorical_accuracy: 0.5400\n",
            "Epoch 80/150\n",
            "83/83 [==============================] - 178s 2s/step - loss: 0.9109 - categorical_accuracy: 0.5631 - val_loss: 0.9794 - val_categorical_accuracy: 0.5339\n",
            "Epoch 81/150\n",
            "83/83 [==============================] - 179s 2s/step - loss: 0.9125 - categorical_accuracy: 0.5638 - val_loss: 0.9551 - val_categorical_accuracy: 0.5445\n",
            "Epoch 82/150\n",
            "83/83 [==============================] - 178s 2s/step - loss: 0.9271 - categorical_accuracy: 0.5718 - val_loss: 0.9432 - val_categorical_accuracy: 0.5475\n",
            "Epoch 83/150\n",
            "83/83 [==============================] - 178s 2s/step - loss: 0.9232 - categorical_accuracy: 0.5718 - val_loss: 0.9500 - val_categorical_accuracy: 0.5611\n",
            "Epoch 84/150\n",
            "83/83 [==============================] - 178s 2s/step - loss: 0.9055 - categorical_accuracy: 0.5744 - val_loss: 0.9577 - val_categorical_accuracy: 0.5641\n",
            "Epoch 85/150\n",
            "83/83 [==============================] - 178s 2s/step - loss: 0.9077 - categorical_accuracy: 0.5763 - val_loss: 0.9654 - val_categorical_accuracy: 0.5656\n",
            "Epoch 86/150\n",
            "83/83 [==============================] - ETA: 0s - loss: 0.8976 - categorical_accuracy: 0.5767Epoch 87/150\n",
            "83/83 [==============================] - 178s 2s/step - loss: 0.9230 - categorical_accuracy: 0.5759 - val_loss: 0.9639 - val_categorical_accuracy: 0.5777\n",
            "Epoch 88/150\n",
            "83/83 [==============================] - 178s 2s/step - loss: 0.8935 - categorical_accuracy: 0.5801 - val_loss: 0.9336 - val_categorical_accuracy: 0.5777\n",
            "Epoch 89/150\n",
            "83/83 [==============================] - 178s 2s/step - loss: 0.9146 - categorical_accuracy: 0.5801 - val_loss: 0.9633 - val_categorical_accuracy: 0.5837\n",
            "Epoch 90/150\n",
            "83/83 [==============================] - 178s 2s/step - loss: 0.8877 - categorical_accuracy: 0.5793 - val_loss: 0.9664 - val_categorical_accuracy: 0.5716\n",
            "Epoch 91/150\n",
            "83/83 [==============================] - 178s 2s/step - loss: 0.9023 - categorical_accuracy: 0.5789 - val_loss: 0.9571 - val_categorical_accuracy: 0.5732\n",
            "Epoch 92/150\n",
            "83/83 [==============================] - 178s 2s/step - loss: 0.9045 - categorical_accuracy: 0.5838 - val_loss: 0.9556 - val_categorical_accuracy: 0.5747\n",
            "Epoch 93/150\n",
            "83/83 [==============================] - 178s 2s/step - loss: 0.9275 - categorical_accuracy: 0.5767 - val_loss: 0.9704 - val_categorical_accuracy: 0.5762\n",
            "Epoch 94/150\n",
            "83/83 [==============================] - 178s 2s/step - loss: 0.9141 - categorical_accuracy: 0.5880 - val_loss: 0.9791 - val_categorical_accuracy: 0.5747\n",
            "Epoch 95/150\n",
            "83/83 [==============================] - 178s 2s/step - loss: 0.8898 - categorical_accuracy: 0.5914 - val_loss: 0.9676 - val_categorical_accuracy: 0.5822\n",
            "Epoch 96/150\n",
            "83/83 [==============================] - 178s 2s/step - loss: 0.8797 - categorical_accuracy: 0.5793 - val_loss: 0.9519 - val_categorical_accuracy: 0.5837\n",
            "Epoch 97/150\n",
            "83/83 [==============================] - 178s 2s/step - loss: 0.8870 - categorical_accuracy: 0.5857 - val_loss: 0.9941 - val_categorical_accuracy: 0.5777\n",
            "Epoch 98/150\n",
            "83/83 [==============================] - 178s 2s/step - loss: 0.9101 - categorical_accuracy: 0.5842 - val_loss: 0.9633 - val_categorical_accuracy: 0.5701\n",
            "Epoch 99/150\n",
            "83/83 [==============================] - 179s 2s/step - loss: 0.8859 - categorical_accuracy: 0.5785 - val_loss: 0.9457 - val_categorical_accuracy: 0.5837\n",
            "Epoch 100/150\n",
            "83/83 [==============================] - 179s 2s/step - loss: 0.9264 - categorical_accuracy: 0.5740 - val_loss: 0.9462 - val_categorical_accuracy: 0.5807\n",
            "Epoch 101/150\n",
            "83/83 [==============================] - 178s 2s/step - loss: 0.9198 - categorical_accuracy: 0.5842 - val_loss: 0.9628 - val_categorical_accuracy: 0.5732\n",
            "Epoch 102/150\n",
            "83/83 [==============================] - 178s 2s/step - loss: 0.8963 - categorical_accuracy: 0.5903 - val_loss: 0.9472 - val_categorical_accuracy: 0.5852\n",
            "Epoch 103/150\n",
            "83/83 [==============================] - 178s 2s/step - loss: 0.9402 - categorical_accuracy: 0.5816 - val_loss: 0.9609 - val_categorical_accuracy: 0.5732\n",
            "Epoch 104/150\n",
            "83/83 [==============================] - 178s 2s/step - loss: 0.9295 - categorical_accuracy: 0.5921 - val_loss: 0.9536 - val_categorical_accuracy: 0.5732\n",
            "Epoch 105/150\n",
            "83/83 [==============================] - 178s 2s/step - loss: 0.9191 - categorical_accuracy: 0.5880 - val_loss: 0.9219 - val_categorical_accuracy: 0.5852\n",
            "Epoch 106/150\n",
            "83/83 [==============================] - 178s 2s/step - loss: 0.9013 - categorical_accuracy: 0.5763 - val_loss: 0.9396 - val_categorical_accuracy: 0.5822\n",
            "Epoch 107/150\n",
            "83/83 [==============================] - 179s 2s/step - loss: 0.9237 - categorical_accuracy: 0.5891 - val_loss: 0.9272 - val_categorical_accuracy: 0.5837\n",
            "Epoch 108/150\n",
            "83/83 [==============================] - 178s 2s/step - loss: 0.8812 - categorical_accuracy: 0.5948 - val_loss: 0.9334 - val_categorical_accuracy: 0.5792\n",
            "Epoch 109/150\n",
            "83/83 [==============================] - 179s 2s/step - loss: 0.9049 - categorical_accuracy: 0.5755 - val_loss: 0.9176 - val_categorical_accuracy: 0.5792\n",
            "Epoch 110/150\n",
            "83/83 [==============================] - 178s 2s/step - loss: 0.8875 - categorical_accuracy: 0.5857 - val_loss: 0.9390 - val_categorical_accuracy: 0.5762\n",
            "Epoch 111/150\n",
            "83/83 [==============================] - 178s 2s/step - loss: 0.9102 - categorical_accuracy: 0.5827 - val_loss: 0.9185 - val_categorical_accuracy: 0.5822\n",
            "Epoch 112/150\n",
            "83/83 [==============================] - 178s 2s/step - loss: 0.9064 - categorical_accuracy: 0.5857 - val_loss: 0.9527 - val_categorical_accuracy: 0.5777\n",
            "Epoch 113/150\n",
            "83/83 [==============================] - 178s 2s/step - loss: 0.9173 - categorical_accuracy: 0.5891 - val_loss: 0.9533 - val_categorical_accuracy: 0.5686\n",
            "Epoch 114/150\n",
            "83/83 [==============================] - 178s 2s/step - loss: 0.8884 - categorical_accuracy: 0.5838 - val_loss: 0.9314 - val_categorical_accuracy: 0.5686\n",
            "Epoch 115/150\n",
            "83/83 [==============================] - 178s 2s/step - loss: 0.8889 - categorical_accuracy: 0.5872 - val_loss: 0.9478 - val_categorical_accuracy: 0.5701\n",
            "Epoch 116/150\n",
            "83/83 [==============================] - 178s 2s/step - loss: 0.9153 - categorical_accuracy: 0.5853 - val_loss: 0.9350 - val_categorical_accuracy: 0.5716\n",
            "Epoch 117/150\n",
            "83/83 [==============================] - 178s 2s/step - loss: 0.9037 - categorical_accuracy: 0.5884 - val_loss: 0.9606 - val_categorical_accuracy: 0.5867\n",
            "Epoch 118/150\n",
            "83/83 [==============================] - 178s 2s/step - loss: 0.8899 - categorical_accuracy: 0.5797 - val_loss: 0.9366 - val_categorical_accuracy: 0.5792\n",
            "Epoch 119/150\n",
            "83/83 [==============================] - 178s 2s/step - loss: 0.8578 - categorical_accuracy: 0.5819 - val_loss: 0.9334 - val_categorical_accuracy: 0.5762\n",
            "Epoch 120/150\n",
            "83/83 [==============================] - 178s 2s/step - loss: 0.8613 - categorical_accuracy: 0.5853 - val_loss: 0.9365 - val_categorical_accuracy: 0.5686\n",
            "Epoch 121/150\n",
            "83/83 [==============================] - 178s 2s/step - loss: 0.8655 - categorical_accuracy: 0.5929 - val_loss: 0.9373 - val_categorical_accuracy: 0.5701\n",
            "Epoch 122/150\n",
            "83/83 [==============================] - 178s 2s/step - loss: 0.8803 - categorical_accuracy: 0.5838 - val_loss: 1.0238 - val_categorical_accuracy: 0.5505\n",
            "Epoch 123/150\n",
            "83/83 [==============================] - 179s 2s/step - loss: 0.8870 - categorical_accuracy: 0.5797 - val_loss: 0.9403 - val_categorical_accuracy: 0.5505\n",
            "Epoch 124/150\n",
            "83/83 [==============================] - 178s 2s/step - loss: 0.8959 - categorical_accuracy: 0.5721 - val_loss: 0.9308 - val_categorical_accuracy: 0.5535\n",
            "Epoch 125/150\n",
            "83/83 [==============================] - 178s 2s/step - loss: 0.8739 - categorical_accuracy: 0.5778 - val_loss: 0.9392 - val_categorical_accuracy: 0.5581\n",
            "Epoch 126/150\n",
            "83/83 [==============================] - 178s 2s/step - loss: 0.8831 - categorical_accuracy: 0.5816 - val_loss: 0.9553 - val_categorical_accuracy: 0.5581\n",
            "Epoch 127/150\n",
            "83/83 [==============================] - 178s 2s/step - loss: 0.8569 - categorical_accuracy: 0.5850 - val_loss: 0.9537 - val_categorical_accuracy: 0.5581\n",
            "Epoch 128/150\n",
            "83/83 [==============================] - 178s 2s/step - loss: 0.8665 - categorical_accuracy: 0.5819 - val_loss: 0.9537 - val_categorical_accuracy: 0.5581\n",
            "Epoch 129/150\n",
            "83/83 [==============================] - 178s 2s/step - loss: 0.8640 - categorical_accuracy: 0.5763 - val_loss: 0.9525 - val_categorical_accuracy: 0.5566\n",
            "Epoch 130/150\n",
            "83/83 [==============================] - 178s 2s/step - loss: 0.8839 - categorical_accuracy: 0.5812 - val_loss: 0.9447 - val_categorical_accuracy: 0.5596\n",
            "Epoch 131/150\n",
            "83/83 [==============================] - 178s 2s/step - loss: 0.8623 - categorical_accuracy: 0.5835 - val_loss: 0.9382 - val_categorical_accuracy: 0.5581\n",
            "Epoch 132/150\n",
            "83/83 [==============================] - 178s 2s/step - loss: 0.8622 - categorical_accuracy: 0.5891 - val_loss: 0.9460 - val_categorical_accuracy: 0.5611\n",
            "Epoch 133/150\n",
            "83/83 [==============================] - 178s 2s/step - loss: 0.8704 - categorical_accuracy: 0.5808 - val_loss: 0.9411 - val_categorical_accuracy: 0.5596\n",
            "Epoch 134/150\n",
            "83/83 [==============================] - 178s 2s/step - loss: 0.8704 - categorical_accuracy: 0.5857 - val_loss: 0.9490 - val_categorical_accuracy: 0.5596\n",
            "Epoch 135/150\n",
            "83/83 [==============================] - 178s 2s/step - loss: 0.8689 - categorical_accuracy: 0.5869 - val_loss: 0.9444 - val_categorical_accuracy: 0.5626\n",
            "Epoch 136/150\n",
            "83/83 [==============================] - 178s 2s/step - loss: 0.8682 - categorical_accuracy: 0.5812 - val_loss: 0.9431 - val_categorical_accuracy: 0.5641\n",
            "Epoch 137/150\n",
            "83/83 [==============================] - 179s 2s/step - loss: 0.8604 - categorical_accuracy: 0.5872 - val_loss: 0.9434 - val_categorical_accuracy: 0.5641\n",
            "Epoch 138/150\n",
            "83/83 [==============================] - 178s 2s/step - loss: 0.8733 - categorical_accuracy: 0.5823 - val_loss: 0.9445 - val_categorical_accuracy: 0.5581\n",
            "Epoch 139/150\n",
            "83/83 [==============================] - 178s 2s/step - loss: 0.8711 - categorical_accuracy: 0.5876 - val_loss: 0.9396 - val_categorical_accuracy: 0.5626\n",
            "Epoch 139: early stopping\n"
          ]
        }
      ]
    },
    {
      "cell_type": "code",
      "source": [
        "X_test.shape"
      ],
      "metadata": {
        "colab": {
          "base_uri": "https://localhost:8080/"
        },
        "id": "kkNBSVQ9TRlH",
        "outputId": "b645848f-22db-49cd-ee3b-9974d66f4662"
      },
      "execution_count": 52,
      "outputs": [
        {
          "output_type": "execute_result",
          "data": {
            "text/plain": [
              "(1420, 256, 180)"
            ]
          },
          "metadata": {},
          "execution_count": 52
        }
      ]
    },
    {
      "cell_type": "code",
      "source": [
        "Y_test.shape"
      ],
      "metadata": {
        "colab": {
          "base_uri": "https://localhost:8080/"
        },
        "id": "fNoPKKSOTUTZ",
        "outputId": "c2d252ab-4170-4800-db3e-a2b7ed00dba1"
      },
      "execution_count": 51,
      "outputs": [
        {
          "output_type": "execute_result",
          "data": {
            "text/plain": [
              "(1420, 5)"
            ]
          },
          "metadata": {},
          "execution_count": 51
        }
      ]
    },
    {
      "cell_type": "code",
      "source": [
        "# model = keras.models.load_model(\"sa-mish-adam-150.h5\")\n",
        "\n",
        "test_loss, test_acc = model.evaluate(X_test[:,:,:], Y_test)\n",
        "\n",
        "print(\"Test accuracy\", test_acc)\n",
        "print(\"Test loss\", test_loss)"
      ],
      "metadata": {
        "id": "1RUaJ2nQRUyA",
        "colab": {
          "base_uri": "https://localhost:8080/"
        },
        "outputId": "ac3a0c66-f69d-4b73-f691-d6e3a119a7e4"
      },
      "execution_count": 58,
      "outputs": [
        {
          "output_type": "stream",
          "name": "stdout",
          "text": [
            "45/45 [==============================] - 27s 606ms/step - loss: 0.9421 - categorical_accuracy: 0.5549\n",
            "Test accuracy 0.5549295544624329\n",
            "Test loss 0.9421429634094238\n"
          ]
        }
      ]
    },
    {
      "cell_type": "code",
      "source": [
        "metric = \"categorical_accuracy\"\n",
        "plt.figure()\n",
        "plt.plot(history.history[metric])\n",
        "plt.plot(history.history[\"val_\" + metric])\n",
        "plt.title(\"model sa-mish-adam-150\" + metric)\n",
        "plt.ylabel(metric, fontsize=\"large\")\n",
        "plt.xlabel(\"epoch\", fontsize=\"large\")\n",
        "plt.legend([\"train\", \"val\"], loc=\"best\")\n",
        "plt.show()\n",
        "plt.close()"
      ],
      "metadata": {
        "id": "FellN_9WRZzP",
        "colab": {
          "base_uri": "https://localhost:8080/",
          "height": 298
        },
        "outputId": "12b0ea21-ad2c-4682-c576-4592918fe0b6"
      },
      "execution_count": 44,
      "outputs": [
        {
          "output_type": "display_data",
          "data": {
            "text/plain": [
              "<Figure size 432x288 with 1 Axes>"
            ],
            "image/png": "[encoded data removed]"
          },
          "metadata": {
            "needs_background": "light"
          }
        }
      ]
    },
    {
      "cell_type": "code",
      "source": [
        "#Confusion Matrix and Classification Report\n",
        "\n",
        "y_pred=model.predict(X_test) \n",
        "y_pred=np.argmax(y_pred, axis=1)\n",
        "Y_test=np.argmax(Y_test, axis=1)\n",
        "cm = confusion_matrix(Y_test, y_pred)\n",
        "print(cm)\n",
        "\n",
        "print('Classification Report')\n",
        "print(classification_report(Y_test, y_pred, target_names=classes))"
      ],
      "metadata": {
        "id": "Y235RZ51Q4jX",
        "colab": {
          "base_uri": "https://localhost:8080/"
        },
        "outputId": "a60f3328-0c1c-428e-b625-97bef76e59d1"
      },
      "execution_count": 59,
      "outputs": [
        {
          "output_type": "stream",
          "name": "stdout",
          "text": [
            "45/45 [==============================] - 28s 627ms/step\n",
            "[[ 28  15 155  40   0]\n",
            " [  0 429   5  29   0]\n",
            " [ 41  28 138  11   0]\n",
            " [  3  43   4 190   5]\n",
            " [  2  86   0 165   3]]\n",
            "Classification Report\n",
            "              precision    recall  f1-score   support\n",
            "\n",
            "          I1       0.38      0.12      0.18       238\n",
            "         I13       0.71      0.93      0.81       463\n",
            "          I2       0.46      0.63      0.53       218\n",
            "          I3       0.44      0.78      0.56       245\n",
            "          I4       0.38      0.01      0.02       256\n",
            "\n",
            "    accuracy                           0.55      1420\n",
            "   macro avg       0.47      0.49      0.42      1420\n",
            "weighted avg       0.51      0.55      0.48      1420\n",
            "\n"
          ]
        }
      ]
    }
  ]
}